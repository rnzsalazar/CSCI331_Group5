{
    "metadata": {
        "kernelspec": {
            "name": "SQL",
            "display_name": "SQL",
            "language": "sql"
        },
        "language_info": {
            "name": "sql",
            "version": ""
        },
        "author": "ChatGPT",
        "created": "2025-09-24T02:50:49.913605Z",
        "description": "SQL join propositions notebook for Azure Data Studio"
    },
    "nbformat_minor": 2,
    "nbformat": 4,
    "cells": [
        {
            "cell_type": "markdown",
            "source": [
                "# SQL Join Propositions – Azure Data Studio Notebook\n",
                "\n",
                "This notebook contains 10 practical SQL propositions with a short business value explanation.\n",
                "Run each SQL cell in Azure Data Studio using the **SQL** kernel connected to your database.\n"
            ],
            "metadata": {
                "azdata_cell_guid": "72670bb9-7001-4a72-80fd-b28f68277197"
            }
        },
        {
            "cell_type": "markdown",
            "source": [
                "### Proposition 1: Find all orders with their customer names\n",
                "**Business Value:** Combines order details with customer info so sales staff see who placed each order.\n"
            ],
            "metadata": {
                "azdata_cell_guid": "c6a0c2fd-c8c8-4820-823f-4dd27c5fc774"
            }
        },
        {
            "cell_type": "code",
            "source": [
                "SELECT o.OrderID, c.CustomerName, o.OrderDate\n",
                "FROM Sales.Orders o\n",
                "INNER JOIN Sales.Customers c\n",
                "    ON o.CustomerID = c.CustomerID;"
            ],
            "metadata": {
                "language": "sql",
                "azdata_cell_guid": "5d739c44-b84a-4e16-90c7-5203150b0af8"
            },
            "outputs": [],
            "execution_count": null
        },
        {
            "cell_type": "markdown",
            "source": [
                "### Proposition 2: Show products with their supplier names\n",
                "**Business Value:** Useful for warehouse and purchasing teams to know which supplier provides each item.\n"
            ],
            "metadata": {
                "azdata_cell_guid": "9552465e-d01f-44aa-ba19-af23a3b5e069"
            }
        },
        {
            "cell_type": "code",
            "source": [
                "SELECT si.StockItemName, s.SupplierName\n",
                "FROM Warehouse.StockItems si\n",
                "INNER JOIN Purchasing.Suppliers s\n",
                "    ON si.SupplierID = s.SupplierID;"
            ],
            "metadata": {
                "language": "sql",
                "azdata_cell_guid": "1eb85dd9-d767-4d9f-b0eb-ab43b98bee88"
            },
            "outputs": [],
            "execution_count": null
        },
        {
            "cell_type": "markdown",
            "source": [
                "### Proposition 3: List all customers and their orders (including those who never ordered)\n",
                "**Business Value:** Helps marketing teams identify inactive customers who may need special offers or outreach.\n"
            ],
            "metadata": {
                "azdata_cell_guid": "83d59fc0-4e21-4359-b4b0-ce799c17cf73"
            }
        },
        {
            "cell_type": "code",
            "source": [
                "SELECT c.CustomerName, o.OrderID\n",
                "FROM Sales.Customers c\n",
                "LEFT JOIN Sales.Orders o\n",
                "    ON c.CustomerID = o.CustomerID\n",
                "ORDER BY c.CustomerName;"
            ],
            "metadata": {
                "language": "sql",
                "azdata_cell_guid": "30d79fbe-81f9-4f30-a2f9-f88fda320aaf"
            },
            "outputs": [],
            "execution_count": null
        },
        {
            "cell_type": "markdown",
            "source": [
                "### Proposition 4: Find all orders and the customers (even if the customer record is missing)\n",
                "\n",
                "**Business Value:** Ensures no orders are missed, even if some customer data has been deleted or is incomplete.\n",
                "\n",
                ">"
            ],
            "metadata": {
                "azdata_cell_guid": "15b2e107-e1be-40b6-8048-b1416e499ad0"
            },
            "attachments": {}
        },
        {
            "cell_type": "code",
            "source": [
                "SELECT o.OrderID, o.OrderDate, c.CustomerName\n",
                "FROM Sales.Orders o\n",
                "RIGHT JOIN Sales.Customers c\n",
                "    ON o.CustomerID = c.CustomerID;"
            ],
            "metadata": {
                "language": "sql",
                "azdata_cell_guid": "bd27debf-78b8-42c2-98db-2e92e5d14dd6"
            },
            "outputs": [],
            "execution_count": null
        },
        {
            "cell_type": "markdown",
            "source": [
                "### Proposition 5: Match suppliers to products, even if some suppliers provide nothing\n",
                "**Business Value:** Shows which suppliers are currently active and which ones are not supplying any products.\n"
            ],
            "metadata": {
                "azdata_cell_guid": "60f56af1-565e-40ae-8a29-89ec5d0b9204"
            }
        },
        {
            "cell_type": "code",
            "source": [
                "SELECT s.SupplierName, si.StockItemName\n",
                "FROM Purchasing.Suppliers s\n",
                "LEFT JOIN Warehouse.StockItems si\n",
                "    ON s.SupplierID = si.SupplierID;"
            ],
            "metadata": {
                "language": "sql",
                "azdata_cell_guid": "3633d862-8785-4d7c-b1a4-bb6f8dcd7e1d"
            },
            "outputs": [],
            "execution_count": null
        },
        {
            "cell_type": "markdown",
            "source": [
                "### Proposition 6: Full outer join between customers and orders\n",
                "**Business Value:** Gives a complete view of all customers and all orders, showing gaps on either side (customers without orders, orders without customers).\n"
            ],
            "metadata": {
                "azdata_cell_guid": "edccc3d0-1c7b-4e72-a95b-32bab9da03bb"
            }
        },
        {
            "cell_type": "code",
            "source": [
                "SELECT c.CustomerName, o.OrderID, o.OrderDate\n",
                "FROM Sales.Customers c\n",
                "FULL OUTER JOIN Sales.Orders o\n",
                "    ON c.CustomerID = o.CustomerID;"
            ],
            "metadata": {
                "language": "sql",
                "azdata_cell_guid": "3383e66e-b892-4f29-9cda-d95be35e5f6c"
            },
            "outputs": [],
            "execution_count": null
        },
        {
            "cell_type": "markdown",
            "source": [
                "### Proposition 7: Cross join to explore all possible customer–delivery method pairs\n",
                "**Business Value:** Useful for scenario testing and coverage checks (what if each customer used each delivery method?).\n"
            ],
            "metadata": {
                "azdata_cell_guid": "3ba60305-ab52-4f1e-838c-adda2308a63e"
            }
        },
        {
            "cell_type": "code",
            "source": [
                "SELECT c.CustomerName, d.DeliveryMethodName\n",
                "FROM Sales.Customers c\n",
                "CROSS JOIN Application.DeliveryMethods d;"
            ],
            "metadata": {
                "language": "sql",
                "azdata_cell_guid": "929ef601-bfc6-485a-a840-874626e13289"
            },
            "outputs": [],
            "execution_count": null
        },
        {
            "cell_type": "markdown",
            "source": [
                "### Proposition 8: Find which employees processed which orders\n",
                "**Business Value:** Shows accountability and helps analyze workload across sales employees.\n"
            ],
            "metadata": {
                "azdata_cell_guid": "61976143-151c-4c95-ba05-cbe612b1d5db"
            }
        },
        {
            "cell_type": "code",
            "source": [
                "SELECT o.OrderID, p.FullName AS EmployeeName, o.OrderDate\n",
                "FROM Sales.Orders o\n",
                "INNER JOIN Application.People p\n",
                "    ON o.SalespersonPersonID = p.PersonID;"
            ],
            "metadata": {
                "language": "sql",
                "azdata_cell_guid": "f9b3d173-df7e-41f3-9a2b-40918195f30d"
            },
            "outputs": [],
            "execution_count": null
        },
        {
            "cell_type": "markdown",
            "source": [
                "### Proposition 9: List all products and their suppliers\n",
                "**Business Value:** Helps the purchasing department quickly see which supplier is responsible for each product.\n"
            ],
            "metadata": {
                "azdata_cell_guid": "80688e66-9392-448b-8fda-86ba26db562e"
            }
        },
        {
            "cell_type": "code",
            "source": [
                "SELECT si.StockItemName, s.SupplierName\n",
                "FROM Warehouse.StockItems si\n",
                "INNER JOIN Purchasing.Suppliers s\n",
                "    ON si.SupplierID = s.SupplierID\n",
                "ORDER BY si.StockItemName;"
            ],
            "metadata": {
                "language": "sql",
                "azdata_cell_guid": "70f46e37-5c15-46b6-a5b3-6d8622e37f7b"
            },
            "outputs": [],
            "execution_count": null
        },
        {
            "cell_type": "markdown",
            "source": [
                "### Proposition 10: Orders with product details (Orders + OrderLines + StockItems)\n",
                "**Business Value:** Combines multiple tables to provide a full picture of what was ordered, by whom, and at what price.\n"
            ],
            "metadata": {
                "azdata_cell_guid": "f47d9e51-4f2a-4228-8cc4-b25c9a5f34d9"
            }
        },
        {
            "cell_type": "code",
            "source": [
                "SELECT o.OrderID, c.CustomerName, si.StockItemName, ol.Quantity, ol.UnitPrice\n",
                "FROM Sales.Orders o\n",
                "INNER JOIN Sales.OrderLines ol\n",
                "    ON o.OrderID = ol.OrderID\n",
                "INNER JOIN Warehouse.StockItems si\n",
                "    ON ol.StockItemID = si.StockItemID\n",
                "INNER JOIN Sales.Customers c\n",
                "    ON o.CustomerID = c.CustomerID\n",
                "ORDER BY o.OrderID;"
            ],
            "metadata": {
                "language": "sql",
                "azdata_cell_guid": "6c919b51-2fb7-4748-b489-c30bf227a312"
            },
            "outputs": [],
            "execution_count": null
        }
    ]
}