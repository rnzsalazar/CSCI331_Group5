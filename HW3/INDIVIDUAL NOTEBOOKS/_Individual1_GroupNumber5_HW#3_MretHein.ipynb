{
    "cells": [
        {
            "cell_type": "markdown",
            "metadata": {
                "azdata_cell_guid": "72670bb9-7001-4a72-80fd-b28f68277197"
            },
            "source": [
                "# HW#3 MRET HEIN SQL Propositions\n",
                "Run each SQL cell in Azure Data Studio using the **SQL** kernel connected to your database.\n"
            ]
        },
        {
            "cell_type": "markdown",
            "metadata": {
                "azdata_cell_guid": "c6a0c2fd-c8c8-4820-823f-4dd27c5fc774"
            },
            "source": [
                "### Proposition 1: See the customers and their sales persons\n"
            ]
        },
        {
            "cell_type": "code",
            "execution_count": null,
            "metadata": {
                "azdata_cell_guid": "5d739c44-b84a-4e16-90c7-5203150b0af8",
                "language": "sql"
            },
            "outputs": [],
            "source": [
                "SELECT\n",
                "  o.OrderID,\n",
                "  o.OrderDate,\n",
                "  c.CustomerName, \n",
                "  sp.PreferredName AS Salesperson,\n",
                "  o.SalespersonPersonID\n",
                "FROM Sales.Orders AS o\n",
                "JOIN Sales.Customers      AS c  ON c.CustomerID = o.CustomerID\n",
                "JOIN Application.People   AS sp ON sp.PersonID  = o.SalespersonPersonID\n",
                "ORDER BY o.OrderDate, o.OrderID;"
            ]
        },
        {
            "cell_type": "markdown",
            "metadata": {
                "azdata_cell_guid": "9552465e-d01f-44aa-ba19-af23a3b5e069"
            },
            "source": [
                "### Proposition 2: Customers who are being delivered by Delivery Van\n"
            ]
        },
        {
            "cell_type": "code",
            "execution_count": null,
            "metadata": {
                "azdata_cell_guid": "1eb85dd9-d767-4d9f-b0eb-ab43b98bee88",
                "language": "sql"
            },
            "outputs": [],
            "source": [
                "  c.CustomerID,\n",
                "  c.CustomerName,\n",
                "  c.DeliveryAddressLine1,\n",
                "  c.DeliveryAddressLine2,\n",
                "  c.DeliveryCityID,\n",
                "  dm.DeliveryMethodName\n",
                "FROM Sales.Customers AS c\n",
                "JOIN Application.DeliveryMethods AS dm\n",
                "  ON dm.DeliveryMethodID = c.DeliveryMethodID\n",
                "WHERE dm.DeliveryMethodName = N'Delivery Van' \n",
                "ORDER BY c.CustomerName;"
            ]
        },
        {
            "cell_type": "markdown",
            "metadata": {
                "azdata_cell_guid": "83d59fc0-4e21-4359-b4b0-ce799c17cf73"
            },
            "source": [
                "### Proposition 3: Find pairs of people with the same phone number"
            ]
        },
        {
            "cell_type": "code",
            "execution_count": null,
            "metadata": {
                "azdata_cell_guid": "30d79fbe-81f9-4f30-a2f9-f88fda320aaf",
                "language": "sql"
            },
            "outputs": [],
            "source": [
                "SELECT\n",
                "    p1.FullName AS Person1,\n",
                "    p2.FullName AS Person2,\n",
                "    p1.PhoneNumber\n",
                "FROM Application.People AS p1\n",
                "JOIN Application.People AS p2\n",
                "    ON p1.PhoneNumber = p2.PhoneNumber\n",
                "WHERE p1.PersonID < p2.PersonID;"
            ]
        },
        {
            "attachments": {},
            "cell_type": "markdown",
            "metadata": {
                "azdata_cell_guid": "15b2e107-e1be-40b6-8048-b1416e499ad0"
            },
            "source": [
                "### Proposition 4: Top 10 stock items in warehouse by total sales amount (revenue)"
            ]
        },
        {
            "cell_type": "code",
            "execution_count": null,
            "metadata": {
                "azdata_cell_guid": "bd27debf-78b8-42c2-98db-2e92e5d14dd6",
                "language": "sql"
            },
            "outputs": [],
            "source": [
                "SELECT TOP (10)\n",
                "       si.StockItemID,\n",
                "       si.StockItemName,\n",
                "       SUM(il.ExtendedPrice) AS TotalSalesAmount,\n",
                "       SUM(il.Quantity)      AS UnitsSold\n",
                "FROM Sales.InvoiceLines AS il\n",
                "JOIN Sales.Invoices     AS i  \n",
                "\tON i.InvoiceID   = il.InvoiceID\n",
                "JOIN Warehouse.StockItems AS si \n",
                "\tON si.StockItemID = il.StockItemID\n",
                "GROUP BY si.StockItemID, si.StockItemName\n",
                "ORDER BY TotalSalesAmount DESC, si.StockItemName;"
            ]
        },
        {
            "cell_type": "markdown",
            "metadata": {
                "azdata_cell_guid": "60f56af1-565e-40ae-8a29-89ec5d0b9204"
            },
            "source": [
                "### Proposition 5: Find customers who had a shipment on a certain day and then another shipment the very next day. \n"
            ]
        },
        {
            "cell_type": "code",
            "execution_count": null,
            "metadata": {
                "azdata_cell_guid": "3633d862-8785-4d7c-b1a4-bb6f8dcd7e1d",
                "language": "sql"
            },
            "outputs": [],
            "source": [
                "SELECT\n",
                "    o1.CustomerID,\n",
                "    o1.OrderID AS ORDER1ID,\n",
                "    o1.OrderDate AS FirstOrderDate,\n",
                "    o2.OrderID AS Order2ID,\n",
                "    o2.OrderDate AS SecondOrderDate\n",
                "FROM Sales.Orders AS o1\n",
                "JOIN Sales.Orders AS o2\n",
                "    ON o1.CustomerID = o2.CustomerID\n",
                "WHERE DATEDIFF(day, o1.OrderDate, o2.OrderDate) = 1;"
            ]
        },
        {
            "cell_type": "markdown",
            "metadata": {
                "azdata_cell_guid": "edccc3d0-1c7b-4e72-a95b-32bab9da03bb"
            },
            "source": [
                "### Proposition 6: The query below will show all suppliers, their corresponding cities, and the total number of purchase orders they have received. It's then ordered to show the busiest suppliers first.\n"
            ]
        },
        {
            "cell_type": "code",
            "execution_count": null,
            "metadata": {
                "azdata_cell_guid": "3383e66e-b892-4f29-9cda-d95be35e5f6c",
                "language": "sql"
            },
            "outputs": [],
            "source": [
                "SELECT\n",
                "    s.SupplierName,\n",
                "    c.CityName,\n",
                "    COUNT(po.PurchaseOrderID) AS NumberOfPurchaseOrders\n",
                "FROM Purchasing.Suppliers AS s\n",
                "JOIN Purchasing.PurchaseOrders AS po \n",
                "   ON s.SupplierID = po.SupplierID\n",
                "JOIN Application.Cities AS c \n",
                "   ON s.DeliveryCityID = c.CityID\n",
                "GROUP BY\n",
                "    s.SupplierName,\n",
                "    c.CityName\n",
                "ORDER BY\n",
                "    NumberOfPurchaseOrders DESC;\n"
            ]
        },
        {
            "cell_type": "markdown",
            "metadata": {
                "azdata_cell_guid": "3ba60305-ab52-4f1e-838c-adda2308a63e"
            },
            "source": [
                "### Proposition 7: Top debtors (total open balance per customer) for accounts receivables \n"
            ]
        },
        {
            "cell_type": "code",
            "execution_count": null,
            "metadata": {
                "azdata_cell_guid": "929ef601-bfc6-485a-a840-874626e13289",
                "language": "sql"
            },
            "outputs": [],
            "source": [
                "SELECT\n",
                "  c.CustomerID,\n",
                "  c.CustomerName,\n",
                "  SUM(ct.OutstandingBalance) AS TotalOutstanding\n",
                "FROM Sales.CustomerTransactions AS ct\n",
                "JOIN Sales.Customers AS c ON c.CustomerID = ct.CustomerID\n",
                "WHERE ct.OutstandingBalance > 0\n",
                "GROUP BY c.CustomerID, c.CustomerName\n",
                "ORDER BY TotalOutstanding DESC, c.CustomerName;"
            ]
        },
        {
            "cell_type": "markdown",
            "metadata": {
                "azdata_cell_guid": "61976143-151c-4c95-ba05-cbe612b1d5db"
            },
            "source": [
                "### Proposition 8: Calculate credit utilization (open balance ÷ credit limit)\n"
            ]
        },
        {
            "cell_type": "code",
            "execution_count": null,
            "metadata": {
                "azdata_cell_guid": "f9b3d173-df7e-41f3-9a2b-40918195f30d",
                "language": "sql"
            },
            "outputs": [],
            "source": [
                "SELECT\n",
                "  c.CustomerID,\n",
                "  c.CustomerName,\n",
                "  c.CreditLimit,\n",
                "  SUM(ct.OutstandingBalance) AS TotalOutstanding,\n",
                "  CASE WHEN c.CreditLimit IS NULL OR c.CreditLimit = 0\n",
                "       THEN NULL\n",
                "       ELSE SUM(ct.OutstandingBalance) / c.CreditLimit END AS UtilizationRatio\n",
                "FROM Sales.Customers AS c\n",
                "LEFT JOIN Sales.CustomerTransactions AS ct\n",
                "  ON ct.CustomerID = c.CustomerID AND ct.OutstandingBalance > 0\n",
                "GROUP BY c.CustomerID, c.CustomerName, c.CreditLimit\n",
                "ORDER BY UtilizationRatio DESC, TotalOutstanding DESC, c.CustomerName;"
            ]
        },
        {
            "cell_type": "markdown",
            "metadata": {
                "azdata_cell_guid": "80688e66-9392-448b-8fda-86ba26db562e"
            },
            "source": [
                "### Proposition 9: Top items by total tax collected\n"
            ]
        },
        {
            "cell_type": "code",
            "execution_count": null,
            "metadata": {
                "azdata_cell_guid": "70f46e37-5c15-46b6-a5b3-6d8622e37f7b",
                "language": "sql"
            },
            "outputs": [],
            "source": [
                "SELECT \n",
                "       si.StockItemID,\n",
                "       si.StockItemName,\n",
                "       SUM(il.TaxAmount)   AS TotalTaxCollected,\n",
                "       SUM(il.ExtendedPrice)   AS RevenueExclTax,\n",
                "       AVG(il.TaxRate)       AS AvgTaxRate\n",
                "FROM Sales.InvoiceLines AS il\n",
                "JOIN Sales.Invoices     AS i  ON i.InvoiceID    = il.InvoiceID\n",
                "JOIN Warehouse.StockItems AS si ON si.StockItemID = il.StockItemID\n",
                "GROUP BY si.StockItemID, si.StockItemName\n",
                "ORDER BY TotalTaxCollected DESC, si.StockItemName;"
            ]
        },
        {
            "cell_type": "markdown",
            "metadata": {
                "azdata_cell_guid": "f47d9e51-4f2a-4228-8cc4-b25c9a5f34d9"
            },
            "source": [
                "### Proposition 10: Planned average time (Order → ExpectedDeliveryDate) by city\n",
                "\n"
            ]
        },
        {
            "cell_type": "code",
            "execution_count": null,
            "metadata": {
                "azdata_cell_guid": "6c919b51-2fb7-4748-b489-c30bf227a312",
                "language": "sql"
            },
            "outputs": [],
            "source": [
                "SELECT\n",
                "  ci.CityName,\n",
                "  AVG(DATEDIFF(minute, o.OrderDate, o.ExpectedDeliveryDate) / 60.0) AS Avg_Hours_Planned,\n",
                "  COUNT(*) AS Orders\n",
                "FROM Sales.Orders AS o\n",
                "JOIN Sales.Customers AS c  ON c.CustomerID = o.CustomerID\n",
                "JOIN Application.Cities AS ci ON ci.CityID = c.DeliveryCityID\n",
                "WHERE o.OrderDate IS NOT NULL\n",
                "  AND o.ExpectedDeliveryDate IS NOT NULL\n",
                "  AND o.ExpectedDeliveryDate >= o.OrderDate\n",
                "GROUP BY ci.CityName\n",
                "ORDER BY Avg_Hours_Planned ASC, ci.CityName;"
            ]
        }
    ],
    "metadata": {
        "author": "ChatGPT",
        "created": "2025-09-24T02:50:49.913605Z",
        "description": "SQL join propositions notebook for Azure Data Studio",
        "kernelspec": {
            "display_name": "SQL",
            "language": "sql",
            "name": "SQL"
        },
        "language_info": {
            "name": "sql",
            "version": ""
        }
    },
    "nbformat": 4,
    "nbformat_minor": 2
}
