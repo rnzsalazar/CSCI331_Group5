{
 "cells": [
  {
   "cell_type": "markdown",
   "id": "344b5dba-ea9a-4214-8ed8-bffaf60a306c",
   "metadata": {},
   "source": [
    "# HW#4&5 MRET HEIN SQL Propositions\n"
   ]
  },
  {
   "cell_type": "markdown",
   "id": "449efd8f-8dcb-420a-973e-a24d8429d481",
   "metadata": {},
   "source": [
    "### Proposition 1: Return all orders sold by salespersons with the highest number of orders\n",
    "\n"
   ]
  },
  {
   "cell_type": "markdown",
   "id": "a0695f38-5a0c-42ad-9c9b-d6fe85b53b0f",
   "metadata": {},
   "source": [
    "**Business Value:** \n",
    "- Helps recognize top-performing salespeople based on activity volume.\n",
    "- Lets managers analyze what kinds of orders or customers those high performers handle.\n",
    "- Can inform training and performance reviews by comparing top reps’ patterns to others."
   ]
  },
  {
   "cell_type": "markdown",
   "id": "8b4865bf-6534-48cf-b3e5-143eb1aa560d",
   "metadata": {},
   "source": [
    "-- Step 1: Find the salesperson with the highest number of orders\n",
    "    --The first CTE (SalesCounts) counts how many orders each salesperson handled.\n",
    "    --The second CTE (TopSalespersons) finds the salesperson(s) with the maximum order count.\n",
    "-- Step 2: Return all orders handled by that salesperson/those salespersons"
   ]
  },
  {
   "cell_type": "code",
   "execution_count": null,
   "id": "3188ca2b-d3be-4ae8-8e24-68c54f547e1d",
   "metadata": {},
   "outputs": [],
   "source": [
    "WITH SalesCounts AS ( \n",
    "    SELECT\n",
    "        SalespersonPersonID,\n",
    "        COUNT(OrderID) AS OrderCount\n",
    "    FROM Sales.Orders\n",
    "    GROUP BY SalespersonPersonID\n",
    "),\n",
    "TopSalespersons AS (\n",
    "    SELECT SalespersonPersonID\n",
    "    FROM SalesCounts\n",
    "    WHERE OrderCount = (\n",
    "        SELECT MAX(OrderCount) FROM SalesCounts\n",
    "    )\n",
    ")\n",
    "SELECT \n",
    "    o.OrderID,\n",
    "    o.OrderDate,\n",
    "    o.CustomerID,\n",
    "    c.CustomerName,\n",
    "    p.FullName AS Salesperson\n",
    "FROM Sales.Orders AS o\n",
    "JOIN Sales.Customers AS c ON c.CustomerID = o.CustomerID\n",
    "JOIN Application.People AS p ON p.PersonID = o.SalespersonPersonID\n",
    "WHERE o.SalespersonPersonID IN (SELECT SalespersonPersonID FROM TopSalespersons)\n",
    "ORDER BY o.OrderDate DESC, o.OrderID;"
   ]
  },
  {
   "cell_type": "markdown",
   "id": "4b8e5e2d-aca9-41e3-b573-14cd2054499f",
   "metadata": {},
   "source": [
    "### Proposition 2: All the sales persons who do not have orders on or after Jan 1st, 2022"
   ]
  },
  {
   "cell_type": "code",
   "execution_count": null,
   "id": "5d2934e2-94af-4166-b5b1-b3a57b2bc83e",
   "metadata": {},
   "outputs": [],
   "source": [
    "**Business Value:** \n",
    "-Sales Management: Identify inactive or underperforming sales reps for coaching or re-assignment.\n",
    "-HR/Finance: Review compensation plans and evaluate team performance.\n",
    "-Operations: Plan territory coverage—regions without active salespeople may need reallocation."
   ]
  },
  {
   "cell_type": "code",
   "execution_count": null,
   "id": "e5f55fb3-77be-4059-bb95-41171adefc4d",
   "metadata": {},
   "outputs": [],
   "source": [
    "SELECT \n",
    "    p.PersonID,\n",
    "    p.FullName AS Salesperson\n",
    "FROM Application.People AS p\n",
    "WHERE p.IsSalesperson = 1\n",
    "  AND NOT EXISTS (\n",
    "        SELECT 1\n",
    "        FROM Sales.Orders AS o\n",
    "        WHERE o.SalespersonPersonID = p.PersonID\n",
    "          AND o.OrderDate >= '2022-01-01'\n",
    "     )\n",
    "ORDER BY p.FullName;\n"
   ]
  },
  {
   "cell_type": "markdown",
   "id": "087e282f-0a4a-457e-92f8-a9f67d5dcde6",
   "metadata": {},
   "source": [
    "### Proposition 3: Countries that are delivered by Air Freight but not Road Frieght"
   ]
  },
  {
   "cell_type": "markdown",
   "id": "63c4809f-6a06-426a-aef3-97b3b1791a02",
   "metadata": {},
   "source": [
    "**Business Value:** \n",
    "-Helps logistics and operations identify countries where delivery van is the only active method as compared to air freight whichh is useful for cost analysis or introducing new delivery modes.\n",
    "-Finance can assess shipping cost exposure (air freight is expensive).\n",
    "-Customer service can set accurate delivery expectations for those regions."
   ]
  },
  {
   "cell_type": "code",
   "execution_count": null,
   "id": "77023cad-7e26-4fe0-97b4-8ead02c4ef55",
   "metadata": {},
   "outputs": [],
   "source": [
    "SELECT DISTINCT co.CountryName, co.Region , co.LatestRecordedPopulation\n",
    "FROM Application.Countries AS co\n",
    "WHERE EXISTS (\n",
    "    SELECT 1\n",
    "    FROM Sales.Customers AS c\n",
    "    JOIN Application.Cities AS ci ON ci.CityID = c.DeliveryCityID\n",
    "    JOIN Application.StateProvinces AS sp ON sp.StateProvinceID = ci.StateProvinceID\n",
    "    WHERE sp.CountryID = co.CountryID\n",
    "      AND c.DeliveryMethodID = (\n",
    "          SELECT DeliveryMethodID \n",
    "          FROM Application.DeliveryMethods\n",
    "          WHERE DeliveryMethodName = 'Delivery Van'\n",
    "      )\n",
    ")\n",
    "AND NOT EXISTS (\n",
    "    SELECT 1\n",
    "    FROM Sales.Customers AS c\n",
    "    JOIN Application.Cities AS ci ON ci.CityID = c.DeliveryCityID\n",
    "    JOIN Application.StateProvinces AS sp ON sp.StateProvinceID = ci.StateProvinceID\n",
    "    WHERE sp.CountryID = co.CountryID\n",
    "      AND c.DeliveryMethodID = (\n",
    "          SELECT DeliveryMethodID \n",
    "          FROM Application.DeliveryMethods\n",
    "          WHERE DeliveryMethodName = 'Air Freight'\n",
    "      )\n",
    ")\n",
    "ORDER BY co.CountryName;"
   ]
  },
  {
   "cell_type": "markdown",
   "id": "3161715a-cb73-45a7-8584-1606b930a9d5",
   "metadata": {},
   "source": [
    "### Proposition 4: All orders placed on the sales persons's last day of activity for each sales person"
   ]
  },
  {
   "cell_type": "markdown",
   "id": "affe4f71-d613-4fc2-983a-224379fb8c25",
   "metadata": {},
   "source": [
    "**Business Value:** \n",
    "-- Helps HR and management with guiding new employees to resume activity of the sales person\n",
    "-- Investigate the sales person perfomance before he/she is let go or quit\n",
    "-- Retain the customer base of that sales person"
   ]
  },
  {
   "cell_type": "code",
   "execution_count": null,
   "id": "0a46e28c-7c90-458b-bfcf-ec5083933c06",
   "metadata": {},
   "outputs": [],
   "source": [
    "WITH LastActiveDay AS (\n",
    "  SELECT\n",
    "      o.SalespersonPersonID,\n",
    "      CAST(MAX(o.OrderDate) AS date) AS LastOrderDay\n",
    "  FROM Sales.Orders AS o\n",
    "  GROUP BY o.SalespersonPersonID\n",
    ")\n",
    "SELECT\n",
    "  p.FullName        AS Salesperson,\n",
    "  o.OrderID,\n",
    "  o.OrderDate,\n",
    "  c.CustomerID,\n",
    "  c.CustomerName\n",
    "FROM LastActiveDay AS lad\n",
    "JOIN Sales.Orders   AS o  ON o.SalespersonPersonID = lad.SalespersonPersonID\n",
    "                         AND o.OrderDate >= lad.LastOrderDay\n",
    "                         AND o.OrderDate <  DATEADD(day, 1, lad.LastOrderDay)  -- same calendar day\n",
    "JOIN Application.People  AS p  ON p.PersonID   = lad.SalespersonPersonID\n",
    "JOIN Sales.Customers     AS c  ON c.CustomerID = o.CustomerID\n",
    "WHERE p.IsSalesperson = 1\n",
    "ORDER BY p.FullName, o.OrderDate, o.OrderID;"
   ]
  },
  {
   "cell_type": "markdown",
   "id": "aa4c6cc5-4757-4d10-b874-f73549699b80",
   "metadata": {},
   "source": [
    "### Proposition 5: Returns stock items that are sold in 2016 but not 2017"
   ]
  },
  {
   "cell_type": "markdown",
   "id": "d8729957-79f8-462a-8fce-b8520d4a9899",
   "metadata": {},
   "source": [
    "**Business Value:** \n",
    "-Inventory management – to identify products that have stopped selling recently.\n",
    "-Marketing & Product teams – to investigate whether those items were discontinued or replaced.\n",
    "-Finance – to track revenue gaps or forecast obsolescence."
   ]
  },
  {
   "cell_type": "code",
   "execution_count": null,
   "id": "77cd68ac-854c-42d0-8156-cf608cd465c7",
   "metadata": {},
   "outputs": [],
   "source": [
    "SELECT DISTINCT si.StockItemID,\n",
    "       si.StockItemName\n",
    "FROM Warehouse.StockItems AS si\n",
    "WHERE EXISTS (\n",
    "    SELECT 1\n",
    "    FROM Sales.Invoices AS i\n",
    "    JOIN Sales.InvoiceLines AS il ON il.InvoiceID = i.InvoiceID\n",
    "    WHERE il.StockItemID = si.StockItemID\n",
    "      AND YEAR(i.InvoiceDate) = 2016\n",
    ")\n",
    "AND NOT EXISTS (\n",
    "    SELECT 1\n",
    "    FROM Sales.Invoices AS i\n",
    "    JOIN Sales.InvoiceLines AS il ON il.InvoiceID = i.InvoiceID\n",
    "    WHERE il.StockItemID = si.StockItemID\n",
    "      AND YEAR(i.InvoiceDate) = 2017\n",
    ")\n",
    "ORDER BY si.StockItemName;"
   ]
  },
  {
   "cell_type": "markdown",
   "id": "961b0cfc-6a47-465b-8564-9740aec7f1b3",
   "metadata": {},
   "source": [
    "### Proposition 6: Filter orders that were not delivered on the last day of the year"
   ]
  },
  {
   "cell_type": "markdown",
   "id": "4e0b264a-0796-4c89-99e6-64fc53eec24d",
   "metadata": {},
   "source": [
    "**Business Value:** \n",
    "- Use for logistics to circumvent unforseen circumstances\n",
    "- Can be used to track orders that are unassociated and not delivered during certain events"
   ]
  },
  {
   "cell_type": "code",
   "execution_count": null,
   "id": "522c63f1-2d2d-430d-939d-2539c784aeff",
   "metadata": {},
   "outputs": [],
   "source": [
    "-- Orders delivered, with delivery date normalized to DATE\n",
    "WITH Delivered AS (\n",
    "    SELECT\n",
    "        o.OrderID,\n",
    "        o.OrderDate,\n",
    "        CAST(i.ConfirmedDeliveryTime AS date) AS DeliveryDate\n",
    "    FROM Sales.Orders AS o\n",
    "    JOIN Sales.Invoices AS i\n",
    "      ON i.OrderID = o.OrderID\n",
    "    WHERE i.ConfirmedDeliveryTime IS NOT NULL\n",
    "),\n",
    "DeliveryYear AS (\n",
    "    SELECT\n",
    "        d.*,\n",
    "        DATEFROMPARTS(YEAR(d.DeliveryDate), 12, 31) AS YearEndDate\n",
    "    FROM Delivered AS d\n",
    ")\n",
    "SELECT\n",
    "    OrderID,\n",
    "    OrderDate,\n",
    "    DeliveryDate\n",
    "FROM DeliveryYear\n",
    "WHERE DeliveryDate <> YearEndDate        --  keep orders NOT delivered on Dec 31 of that year\n",
    "ORDER BY DeliveryDate DESC, OrderID;"
   ]
  },
  {
   "cell_type": "markdown",
   "id": "59c15275-e6e3-406b-a024-150652cf0c6c",
   "metadata": {},
   "source": [
    "### Proposition 7: Create a view that returns the total quantity of orders for each salesperson and year"
   ]
  },
  {
   "cell_type": "markdown",
   "id": "6eb23cf9-7d51-48af-b412-b86db5ae8686",
   "metadata": {},
   "source": [
    "**Business Value:** \n",
    "-Sales Management: Track how each salesperson’s total sales quantity trends by year.\n",
    "-Finance & Planning: Forecast production and staffing needs based on yearly sales volume.\n",
    "-HR & Incentives: Support annual performance reviews and commission calculations."
   ]
  },
  {
   "cell_type": "code",
   "execution_count": null,
   "id": "6525bfef-6bc7-402a-b6c3-bde0994ebd59",
   "metadata": {},
   "outputs": [],
   "source": [
    "CREATE OR ALTER VIEW Sales.vTotalQuantityBySalespersonYear\n",
    "AS\n",
    "SELECT\n",
    "    p.FullName                AS Salesperson,\n",
    "    YEAR(o.OrderDate)         AS OrderYear,\n",
    "    SUM(ol.Quantity)          AS TotalQuantity\n",
    "FROM Sales.Orders AS o\n",
    "JOIN Sales.OrderLines  AS ol ON ol.OrderID = o.OrderID\n",
    "JOIN Application.People AS p  ON p.PersonID = o.SalespersonPersonID\n",
    "WHERE p.IsSalesperson = 1\n",
    "GROUP BY p.FullName, YEAR(o.OrderDate);\n"
   ]
  },
  {
   "cell_type": "code",
   "execution_count": null,
   "id": "ad825979-a5b3-4267-b74b-a12ec7c49196",
   "metadata": {},
   "outputs": [],
   "source": [
    "--USE THE VIEW\n",
    "SELECT *\n",
    "FROM Sales.vTotalQuantityBySalespersonYear\n",
    "ORDER BY OrderYear DESC, TotalQuantity DESC;"
   ]
  },
  {
   "cell_type": "markdown",
   "id": "f4bf2c30-d1fd-4efd-aed8-193437cfeeef",
   "metadata": {},
   "source": [
    "### Proposition 8: Return the running quantity for each stock item and year using subqueries"
   ]
  },
  {
   "cell_type": "markdown",
   "id": "1ed93978-8a97-4da8-a025-82b416ac4c9a",
   "metadata": {},
   "source": [
    "**Business Value:** \n",
    "-Tracks daily or monthly stock movement for each item.\n",
    "-Helps predict when inventory will deplete, so purchasing can reorder before stockouts happen\n",
    "-Offers a trend view that supports long-term decisions — when to ramp up production, retire products, or shift storage capacity."
   ]
  },
  {
   "cell_type": "code",
   "execution_count": null,
   "id": "c0f2db6e-d7aa-49ab-9593-38b81fae90ca",
   "metadata": {},
   "outputs": [],
   "source": [
    "-- Running quantity per Stock Item and Year (subquery-only approach)\n",
    "WITH ItemDaily AS (\n",
    "  SELECT\n",
    "      si.StockItemID,\n",
    "      si.StockItemName,\n",
    "      CAST(i.InvoiceDate AS date) AS SalesDate,\n",
    "      YEAR(i.InvoiceDate)         AS OrderYear,\n",
    "      SUM(CASE WHEN i.IsCreditNote = 1\n",
    "               THEN -il.Quantity\n",
    "               ELSE  il.Quantity END) AS DailyQty\n",
    "  FROM Sales.InvoiceLines AS il\n",
    "  JOIN Sales.Invoices     AS i  ON i.InvoiceID     = il.InvoiceID\n",
    "  JOIN Warehouse.StockItems AS si ON si.StockItemID = il.StockItemID\n",
    "  GROUP BY\n",
    "      si.StockItemID,\n",
    "      si.StockItemName,\n",
    "      CAST(i.InvoiceDate AS date),\n",
    "      YEAR(i.InvoiceDate)\n",
    ")\n",
    "SELECT\n",
    "    d.StockItemID,\n",
    "    d.StockItemName,\n",
    "    d.OrderYear,\n",
    "    d.SalesDate,\n",
    "    d.DailyQty,\n",
    "    -- Correlated subquery does the running (cumulative) total within item+year\n",
    "    (\n",
    "      SELECT SUM(d2.DailyQty)\n",
    "      FROM ItemDaily AS d2\n",
    "      WHERE d2.StockItemID = d.StockItemID\n",
    "        AND d2.OrderYear   = d.OrderYear\n",
    "        AND d2.SalesDate  <= d.SalesDate\n",
    "    ) AS RunningQty\n",
    "FROM ItemDaily AS d\n",
    "ORDER BY\n",
    "    d.StockItemName,\n",
    "    d.OrderYear,\n",
    "    d.SalesDate;\n"
   ]
  },
  {
   "cell_type": "markdown",
   "id": "ef937921-58de-402b-95e3-7c014232dcd0",
   "metadata": {},
   "source": [
    "### Proposition 9: Return for each order the number of days that past since the same salesperson's previous order"
   ]
  },
  {
   "cell_type": "markdown",
   "id": "1a82996b-b825-4888-8989-d462dfab3a39",
   "metadata": {},
   "source": [
    "**Business Value:** \n",
    "-Find reps who go long stretches without any sales \n",
    "—Track inactive accounts or lost focus.\n",
    "-Identify top performers who maintain steady order frequency."
   ]
  },
  {
   "cell_type": "code",
   "execution_count": null,
   "id": "cf9dd927-a451-4aa5-a9f2-300b4a7327c3",
   "metadata": {},
   "outputs": [],
   "source": [
    "SELECT\n",
    "  p.FullName AS Salesperson,\n",
    "  o.OrderID,\n",
    "  o.OrderDate,\n",
    "  (SELECT MAX(o2.OrderDate)\n",
    "   FROM Sales.Orders AS o2\n",
    "   WHERE o2.SalespersonPersonID = o.SalespersonPersonID\n",
    "     AND o2.OrderDate < o.OrderDate) AS PrevOrderDate,\n",
    "  DATEDIFF(day,\n",
    "    (SELECT MAX(o2.OrderDate)\n",
    "     FROM Sales.Orders AS o2\n",
    "     WHERE o2.SalespersonPersonID = o.SalespersonPersonID\n",
    "       AND o2.OrderDate < o.OrderDate),\n",
    "    o.OrderDate) AS DaysSincePrevOrder\n",
    "FROM Sales.Orders AS o\n",
    "JOIN Application.People AS p ON p.PersonID = o.SalespersonPersonID\n",
    "ORDER BY Salesperson, o.OrderDate, o.OrderID;\n"
   ]
  },
  {
   "cell_type": "markdown",
   "id": "87845c9f-56c1-4cfb-ad8b-9ffc451f80a8",
   "metadata": {},
   "source": [
    "### Proposition 10: View that computes net revenue by city (deliveries minus returns)"
   ]
  },
  {
   "cell_type": "markdown",
   "id": "aa1ff9d4-030c-4f51-a5fa-160dda6833fd",
   "metadata": {},
   "source": [
    "**Business Value:** \n",
    "-By ranking cities by net revenue, teams can see where customers generate the most income. This helps target campaigns, allocate budgets, and plan local promotions where returns justify effort.\n",
    "-Reveals geographic demand clusters so warehousing and shipping routes can be optimized. Cities with high net revenue may deserve priority delivery lanes or stocking points."
   ]
  },
  {
   "cell_type": "code",
   "execution_count": null,
   "id": "a8e0d85d-598c-4060-983f-fda90ae8b208",
   "metadata": {},
   "outputs": [],
   "source": [
    "--CREATE VIEW\n",
    "CREATE OR ALTER VIEW Sales.vNetRevenueByCity\n",
    "AS\n",
    "SELECT\n",
    "    ci.CityName,\n",
    "    co.CountryName,                             \n",
    "    SUM(CASE WHEN i.IsCreditNote = 1\n",
    "             THEN -il.ExtendedPrice\n",
    "             ELSE  il.ExtendedPrice\n",
    "        END) AS NetRevenue\n",
    "FROM Sales.InvoiceLines AS il\n",
    "JOIN Sales.Invoices      AS i   ON i.InvoiceID   = il.InvoiceID\n",
    "JOIN Sales.Customers     AS c   ON c.CustomerID  = i.CustomerID\n",
    "JOIN Application.Cities  AS ci  ON ci.CityID     = COALESCE(c.DeliveryCityID, c.PostalCityID)\n",
    "JOIN Application.StateProvinces AS sp ON sp.StateProvinceID = ci.StateProvinceID\n",
    "JOIN Application.Countries      AS co ON co.CountryID       = sp.CountryID\n",
    "GROUP BY ci.CityName, co.CountryName;\n"
   ]
  },
  {
   "cell_type": "code",
   "execution_count": null,
   "id": "a18141d6-39eb-4bb6-be62-f93e4eb6263d",
   "metadata": {},
   "outputs": [],
   "source": [
    "--USE THE VIEW\n",
    "SELECT CityName, CountryName, NetRevenue\n",
    "FROM Sales.vNetRevenueByCity\n",
    "ORDER BY NetRevenue DESC, CityName;\n"
   ]
  },
  {
   "cell_type": "markdown",
   "id": "f29c366c-db2c-448a-b1b8-b46280ff0bc1",
   "metadata": {},
   "source": []
  }
 ],
 "metadata": {
  "kernelspec": {
   "display_name": "",
   "name": ""
  },
  "language_info": {
   "name": ""
  }
 },
 "nbformat": 4,
 "nbformat_minor": 5
}
