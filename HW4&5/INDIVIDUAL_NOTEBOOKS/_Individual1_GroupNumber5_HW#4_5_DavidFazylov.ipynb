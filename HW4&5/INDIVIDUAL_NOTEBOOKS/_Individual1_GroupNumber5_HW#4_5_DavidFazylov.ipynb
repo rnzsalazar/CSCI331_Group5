{
 "cells": [
  {
   "cell_type": "markdown",
   "id": "26d65314",
   "metadata": {},
   "source": [
    "This notebook contains **10 practical SQL propositions** with a short **business value** explanation. Run each SQL cell in Azure Data Studio using the **SQL** kernel connected to your database."
   ]
  },
  {
   "cell_type": "markdown",
   "id": "e00cd3f5",
   "metadata": {},
   "source": [
    "## Proposition 1: Show the most recent orders (orders with the latest order date).\n",
    "\n",
    "**Business Value:** Helps a business see the newest orders being processed right now."
   ]
  },
  {
   "cell_type": "code",
   "execution_count": null,
   "id": "9e06aa05",
   "metadata": {
    "language": "sql"
   },
   "outputs": [],
   "source": [
    "SELECT o.OrderID, o.CustomerID, o.OrderDate\n",
    "FROM Sales.Orders AS o\n",
    "WHERE o.OrderDate = (\n",
    "    SELECT MAX(OrderDate)\n",
    "    FROM Sales.Orders\n",
    ");"
   ]
  },
  {
   "cell_type": "markdown",
   "id": "56897d05",
   "metadata": {},
   "source": [
    "## Proposition 2: Show customers who never placed an order.\n",
    "\n",
    "**Business Value:** Identifies inactive customers for follow-ups or re-engagement."
   ]
  },
  {
   "cell_type": "code",
   "execution_count": null,
   "id": "425fa13f",
   "metadata": {
    "language": "sql"
   },
   "outputs": [],
   "source": [
    "SELECT c.CustomerID, c.CustomerName\n",
    "FROM Sales.Customers AS c\n",
    "WHERE NOT EXISTS (\n",
    "  SELECT 1\n",
    "  FROM Sales.Orders AS o\n",
    "  WHERE o.CustomerID = c.CustomerID\n",
    ");"
   ]
  },
  {
   "cell_type": "markdown",
   "id": "b0adfc42",
   "metadata": {},
   "source": [
    "## Proposition 3: Show products that were actually sold (appear in order lines).\n",
    "\n",
    "**Business Value:** Helps focus inventory on items that bring in real sales."
   ]
  },
  {
   "cell_type": "code",
   "execution_count": null,
   "id": "1e4300eb",
   "metadata": {
    "language": "sql"
   },
   "outputs": [],
   "source": [
    "SELECT si.StockItemID, si.StockItemName\n",
    "FROM Warehouse.StockItems AS si\n",
    "WHERE EXISTS (\n",
    "    SELECT ol.StockItemID\n",
    "    FROM Sales.OrderLines AS ol\n",
    "    WHERE ol.StockItemID = si.StockItemID\n",
    ");"
   ]
  },
  {
   "cell_type": "markdown",
   "id": "62fd989a",
   "metadata": {},
   "source": [
    "## Proposition 4: Show invoices with more non‑perishable goods than the average invoice.\n",
    "\n",
    "**Business Value:** Highlights larger‑than‑average orders of non‑perishable goods for inventory planning."
   ]
  },
  {
   "cell_type": "code",
   "execution_count": null,
   "id": "9714cac2",
   "metadata": {
    "language": "sql"
   },
   "outputs": [],
   "source": [
    "SELECT o.InvoiceID, o.CustomerID, o.TotalDryItems\n",
    "FROM Sales.Invoices AS o\n",
    "WHERE o.TotalDryItems > (\n",
    "    SELECT AVG(TotalDryItems)\n",
    "    FROM Sales.Invoices\n",
    ");"
   ]
  },
  {
   "cell_type": "markdown",
   "id": "bd402814",
   "metadata": {},
   "source": [
    "## Proposition 5: Show customers whose credit limit is higher than the average credit limit.\n",
    "\n",
    "**Business Value:** Highlights customers with higher buying power for special offers or account prioritization."
   ]
  },
  {
   "cell_type": "code",
   "execution_count": null,
   "id": "4b8c016f",
   "metadata": {
    "language": "sql"
   },
   "outputs": [],
   "source": [
    "SELECT c.CustomerID, c.CustomerName, c.CreditLimit\n",
    "FROM Sales.Customers AS c\n",
    "WHERE c.CreditLimit > (\n",
    "    SELECT AVG(CreditLimit)\n",
    "    FROM Sales.Customers\n",
    ");"
   ]
  },
  {
   "cell_type": "markdown",
   "id": "22f03b69",
   "metadata": {},
   "source": [
    "## Proposition 6: Show the top 5 customers by how many orders they placed.\n",
    "\n",
    "**Business Value:** Finds the most loyal and active customers to reward or prioritize."
   ]
  },
  {
   "cell_type": "code",
   "execution_count": null,
   "id": "5acf3b0e",
   "metadata": {
    "language": "sql"
   },
   "outputs": [],
   "source": [
    "SELECT TOP (5) dt.CustomerID, c.CustomerName, dt.OrderCount\n",
    "FROM (\n",
    "    SELECT o.CustomerID, COUNT(*) AS OrderCount\n",
    "    FROM Sales.Orders AS o\n",
    "    GROUP BY o.CustomerID\n",
    ") AS dt\n",
    "JOIN Sales.Customers AS c ON c.CustomerID = dt.CustomerID\n",
    "ORDER BY dt.OrderCount DESC;"
   ]
  },
  {
   "cell_type": "markdown",
   "id": "308ed7b9",
   "metadata": {},
   "source": [
    "## Proposition 7: Show the 10 products that brought in the most money.\n",
    "\n",
    "**Business Value:** Reveals top‑selling products to guide pricing and marketing."
   ]
  },
  {
   "cell_type": "code",
   "execution_count": null,
   "id": "65a4cb88",
   "metadata": {
    "language": "sql"
   },
   "outputs": [],
   "source": [
    "SELECT TOP (10)\n",
    "    si.StockItemID, si.StockItemName, dt.ItemRevenue\n",
    "FROM (\n",
    "    SELECT\n",
    "        ol.StockItemID,\n",
    "        SUM(ol.Quantity * ol.UnitPrice * (1 + ol.TaxRate/100.0)) AS ItemRevenue\n",
    "    FROM Sales.OrderLines AS ol\n",
    "    GROUP BY ol.StockItemID\n",
    ") AS dt\n",
    "JOIN Warehouse.StockItems AS si ON si.StockItemID = dt.StockItemID\n",
    "ORDER BY dt.ItemRevenue DESC;"
   ]
  },
  {
   "cell_type": "markdown",
   "id": "a3d17bd1",
   "metadata": {},
   "source": [
    "## Proposition 8: Show 2015 invoices that had more dry items than the average that year.\n",
    "\n",
    "**Business Value:** Helps spot unusually large non‑perishable shipments for better inventory planning."
   ]
  },
  {
   "cell_type": "code",
   "execution_count": null,
   "id": "320f9936",
   "metadata": {
    "language": "sql"
   },
   "outputs": [],
   "source": [
    "WITH AvgDry AS (\n",
    "    SELECT AVG(TotalDryItems) AS AvgDryItems\n",
    "    FROM Sales.Invoices\n",
    "    WHERE YEAR(InvoiceDate) = 2015\n",
    ")\n",
    "SELECT i.InvoiceID, i.CustomerID, i.TotalDryItems\n",
    "FROM Sales.Invoices AS i, AvgDry\n",
    "WHERE YEAR(i.InvoiceDate) = 2015\n",
    "  AND i.TotalDryItems > AvgDry.AvgDryItems;"
   ]
  },
  {
   "cell_type": "markdown",
   "id": "c591b0bf",
   "metadata": {},
   "source": [
    "## Proposition 9: Show how much money each salesperson made in total.\n",
    "\n",
    "**Business Value:** Lets the business measure sales performance and recognize top employees."
   ]
  },
  {
   "cell_type": "code",
   "execution_count": null,
   "id": "201dc9ec",
   "metadata": {
    "language": "sql"
   },
   "outputs": [],
   "source": [
    "WITH SalespersonTotals AS (\n",
    "    SELECT \n",
    "        o.SalespersonPersonID,\n",
    "        SUM(ol.Quantity * ol.UnitPrice * (1 + ol.TaxRate/100.0)) AS Revenue\n",
    "    FROM Sales.Orders AS o\n",
    "    JOIN Sales.OrderLines AS ol ON ol.OrderID = o.OrderID\n",
    "    GROUP BY o.SalespersonPersonID\n",
    ")\n",
    "SELECT p.PersonID, p.FullName, st.Revenue\n",
    "FROM SalespersonTotals AS st\n",
    "JOIN Application.People AS p ON p.PersonID = st.SalespersonPersonID\n",
    "ORDER BY st.Revenue DESC;"
   ]
  },
  {
   "cell_type": "markdown",
   "id": "6d08881f",
   "metadata": {},
   "source": [
    "## Proposition 10: Show customers who placed more than 20 orders.\n",
    "\n",
    "**Business Value:** Identifies frequent buyers who may qualify for loyalty rewards or discounts."
   ]
  },
  {
   "cell_type": "code",
   "execution_count": null,
   "id": "1e65a3c5",
   "metadata": {
    "language": "sql"
   },
   "outputs": [],
   "source": [
    "WITH OrderCounts AS (\n",
    "    SELECT CustomerID, COUNT(*) AS OrderCount\n",
    "    FROM Sales.Orders\n",
    "    GROUP BY CustomerID\n",
    ")\n",
    "SELECT c.CustomerID, c.CustomerName, oc.OrderCount\n",
    "FROM OrderCounts AS oc\n",
    "JOIN Sales.Customers AS c ON c.CustomerID = oc.CustomerID\n",
    "WHERE oc.OrderCount > 20\n",
    "ORDER BY oc.OrderCount DESC, c.CustomerID;"
   ]
  },
  {
   "cell_type": "markdown",
   "id": "da5b2ccd",
   "metadata": {},
   "source": [
    "**Note:** Some queries (4, 7, 9, 10) were refined with the help of an LLM (ChatGPT). Final testing and execution were done manually in DBeaver."
   ]
  }
 ],
 "metadata": {
  "kernelspec": {
   "display_name": "SQL",
   "language": "sql",
   "name": "SQL"
  },
  "language_info": {
   "name": "sql"
  }
 },
 "nbformat": 4,
 "nbformat_minor": 5
}
