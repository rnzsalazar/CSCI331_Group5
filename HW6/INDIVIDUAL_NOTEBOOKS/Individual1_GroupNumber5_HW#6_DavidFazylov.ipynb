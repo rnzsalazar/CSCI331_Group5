{
    "metadata": {
        "kernelspec": {
            "name": "python3",
            "display_name": "Python 3 (ipykernel)",
            "language": "python"
        },
        "language_info": {
            "name": "python",
            "version": "3.13.1",
            "mimetype": "text/x-python",
            "codemirror_mode": {
                "name": "ipython",
                "version": 3
            },
            "pygments_lexer": "ipython3",
            "nbconvert_exporter": "python",
            "file_extension": ".py"
        }
    },
    "nbformat_minor": 2,
    "nbformat": 4,
    "cells": [
        {
            "cell_type": "markdown",
            "source": [
                "# Chapter 6: Set Operators — AdventureWorks2019\n",
                "\n",
                "This notebook contains ten propositions using **UNION / UNION ALL / INTERSECT / EXCEPT** across the `Production`, `Person`, `Purchasing`, and `Sales` schemas in **AdventureWorks2019**. Each proposition includes a short business value explanation and a runnable SQL snippet."
            ],
            "metadata": {
                "azdata_cell_guid": "3a5524ba-0fbc-4b43-a432-795cda5ccd94"
            }
        },
        {
            "cell_type": "markdown",
            "source": [
                "> **Note:** In DBeaver or Azure Data Studio, set the active database to `AdventureWorks2019` before running the queries."
            ],
            "metadata": {
                "azdata_cell_guid": "94a9e70a-4f42-4475-9f58-4eb6284be75e"
            }
        },
        {
            "cell_type": "markdown",
            "source": [
                "## Proposition 1: Identify products that exist in inventory but have never appeared in a transaction record\n",
                "**Business Value:** Helps detect inactive or obsolete inventory items that aren’t selling and may need to be discounted, written off, or discontinued."
            ],
            "metadata": {
                "azdata_cell_guid": "701c942d-161c-492c-8e3f-24bd02f1cb13"
            }
        },
        {
            "cell_type": "code",
            "source": [
                "\n",
                "\n",
                "SELECT pi.ProductID\n",
                "FROM Production.ProductInventory AS pi\n",
                "EXCEPT\n",
                "SELECT th.ProductID\n",
                "FROM Production.TransactionHistory AS th\n",
                "ORDER BY ProductID;"
            ],
            "metadata": {
                "azdata_cell_guid": "08ef7d1c-3ec3-4d54-96e2-be899fea6502",
                "language": "python"
            },
            "outputs": [],
            "execution_count": null
        },
        {
            "cell_type": "markdown",
            "source": [
                "## Proposition 2: Show all products that either have a model assigned or none at all\n",
                "**Business Value:** Helps the company see which products have detailed info (a model) and which still need it added."
            ],
            "metadata": {
                "azdata_cell_guid": "9d40bd34-f590-4058-a62c-5ec61ce2c9a7"
            }
        },
        {
            "cell_type": "code",
            "source": [
                "\n",
                "SELECT p.ProductID, p.Name, 'HasModel' AS ModelStatus\n",
                "FROM Production.Product AS p\n",
                "WHERE p.ProductModelID IS NOT NULL\n",
                "UNION\n",
                "SELECT p.ProductID, p.Name, 'NoModel' AS ModelStatus\n",
                "FROM Production.Product AS p\n",
                "WHERE p.ProductModelID IS NULL\n",
                "ORDER BY ModelStatus, Name;"
            ],
            "metadata": {
                "azdata_cell_guid": "5504fda3-8be8-40df-abce-7cf4e2716e29",
                "language": "python"
            },
            "outputs": [],
            "execution_count": null
        },
        {
            "cell_type": "markdown",
            "source": [
                "## Proposition 3: Group products by whether they have a selling price or not\n",
                "**Business Value:** Quickly highlights pricing completeness so the team can see which items are ready to sell and which still need a price."
            ],
            "metadata": {
                "azdata_cell_guid": "07347bf8-7a8c-409d-bbf3-2fac4985e34e"
            }
        },
        {
            "cell_type": "code",
            "source": [
                "\n",
                "SELECT ProductID, Name, ListPrice, 'Priced' AS PriceStatus\n",
                "FROM Production.Product\n",
                "WHERE ListPrice > 0\n",
                "UNION ALL\n",
                "SELECT ProductID, Name, ListPrice, 'NoListPrice' AS PriceStatus\n",
                "FROM Production.Product\n",
                "WHERE (ListPrice = 0 OR ListPrice IS NULL)\n",
                "ORDER BY PriceStatus, Name;"
            ],
            "metadata": {
                "azdata_cell_guid": "853117b2-ef7f-4060-aae0-5dfcbeca1a8a",
                "language": "python"
            },
            "outputs": [],
            "execution_count": null
        },
        {
            "cell_type": "markdown",
            "source": [
                "## Proposition 4: People with an email address but no phone number\n",
                "**Business Value:** Contact enrichment — helps prioritize who needs phone outreach."
            ],
            "metadata": {
                "azdata_cell_guid": "a714092b-c6ef-4107-9fc2-605a3abf9e8a"
            }
        },
        {
            "cell_type": "code",
            "source": [
                "\n",
                "SELECT e.BusinessEntityID\n",
                "FROM Person.EmailAddress AS e\n",
                "EXCEPT \n",
                "SELECT p.BusinessEntityID\n",
                "FROM Person.PersonPhone AS p\n",
                "ORDER BY BusinessEntityID;"
            ],
            "metadata": {
                "azdata_cell_guid": "2a516651-3fc9-40b6-bad3-680b33ecdd5e",
                "language": "python"
            },
            "outputs": [],
            "execution_count": null
        },
        {
            "cell_type": "markdown",
            "source": [
                "## Proposition 5: Products that have both a photo and customer reviews\n",
                "**Business Value:** Great candidates for featured pages because they have rich media and social proof."
            ],
            "metadata": {
                "azdata_cell_guid": "e8a5f8f4-a7b9-44a1-8bf2-fbf063ce57b3"
            }
        },
        {
            "cell_type": "code",
            "source": [
                "\n",
                "SELECT DISTINCT ppp.ProductID\n",
                "FROM Production.ProductProductPhoto AS ppp\n",
                "INTERSECT\n",
                "SELECT DISTINCT pr.ProductID\n",
                "FROM Production.ProductReview AS pr\n",
                "ORDER BY ProductID;"
            ],
            "metadata": {
                "azdata_cell_guid": "623af517-3aac-4bcb-8be2-9463fddc0aeb",
                "language": "python"
            },
            "outputs": [],
            "execution_count": null
        },
        {
            "cell_type": "markdown",
            "source": [
                "## Proposition 6: Products in the catalog without a photo\n",
                "**Business Value:** Identifies products missing visual assets so listings can be improved for better conversions."
            ],
            "metadata": {
                "azdata_cell_guid": "e69856e3-832e-4707-afae-a77d8e87056a"
            }
        },
        {
            "cell_type": "code",
            "source": [
                "\n",
                "SELECT p.ProductID, p.Name\n",
                "FROM Production.Product AS p\n",
                "EXCEPT\n",
                "SELECT ppp.ProductID, p.Name\n",
                "FROM Production.ProductProductPhoto AS ppp\n",
                "JOIN Production.Product AS p ON p.ProductID = ppp.ProductID\n",
                "ORDER BY p.ProductID;"
            ],
            "metadata": {
                "azdata_cell_guid": "16ef811b-73f4-46e2-9da5-69241438b9f1",
                "language": "python"
            },
            "outputs": [],
            "execution_count": null
        },
        {
            "cell_type": "markdown",
            "source": [
                "## Proposition 7: Products listed but never ordered (via purchase orders)\n",
                "**Business Value:** Reveals catalog items that have never been ordered — candidates for promotion, repricing, or retirement."
            ],
            "metadata": {
                "azdata_cell_guid": "585016b8-af65-4794-9277-02a05f7fa044"
            }
        },
        {
            "cell_type": "code",
            "source": [
                "\n",
                "SELECT p.ProductID, p.Name\n",
                "FROM Production.Product AS p\n",
                "EXCEPT\n",
                "SELECT pod.ProductID, p.Name\n",
                "FROM Purchasing.PurchaseOrderDetail AS pod\n",
                "JOIN Production.Product AS p ON p.ProductID = pod.ProductID\n",
                "ORDER BY p.ProductID;"
            ],
            "metadata": {
                "azdata_cell_guid": "05babd93-d934-4e5e-b1c4-adca8286dc08",
                "language": "python"
            },
            "outputs": [],
            "execution_count": null
        },
        {
            "cell_type": "markdown",
            "source": [
                "## Proposition 8: Products present in purchasing and transaction history\n",
                "**Business Value:** Shows items that are actively moving through the business (bought and transacted)."
            ],
            "metadata": {
                "azdata_cell_guid": "21101c6b-10c2-4aac-86b3-ba8a7dd1c961"
            }
        },
        {
            "cell_type": "code",
            "source": [
                "\n",
                "SELECT pod.ProductID\n",
                "FROM Purchasing.PurchaseOrderDetail AS pod\n",
                "INTERSECT\n",
                "SELECT th.ProductID\n",
                "FROM Production.TransactionHistory AS th\n",
                "ORDER BY ProductID;"
            ],
            "metadata": {
                "azdata_cell_guid": "8a3c6f3b-3848-43fb-9e07-71cd24337ea3",
                "language": "python"
            },
            "outputs": [],
            "execution_count": null
        },
        {
            "cell_type": "markdown",
            "source": [
                "## Proposition 9: Purchased products without a list price\n",
                "**Business Value:** Finds items the company buys but hasn’t set a selling price for yet, so pricing can be fixed before selling."
            ],
            "metadata": {
                "azdata_cell_guid": "7dc3142e-d8b3-4290-9fab-635ef53da332"
            }
        },
        {
            "cell_type": "code",
            "source": [
                "\n",
                "SELECT pod.ProductID\n",
                "FROM Purchasing.PurchaseOrderDetail AS pod\n",
                "EXCEPT\n",
                "SELECT p.ProductID\n",
                "FROM Production.Product AS p\n",
                "WHERE p.ListPrice > 0\n",
                "ORDER BY ProductID;"
            ],
            "metadata": {
                "azdata_cell_guid": "d5b28f3a-0d84-4de5-ba16-5acd94a89bc7",
                "language": "python"
            },
            "outputs": [],
            "execution_count": null
        },
        {
            "cell_type": "markdown",
            "source": [
                "## Proposition 10: Customers that exist but have never placed an order\n",
                "**Business Value:** Helps marketing target registered customers who haven’t converted yet."
            ],
            "metadata": {
                "azdata_cell_guid": "c4ccf980-1669-47b6-bba4-91b747fd3588"
            }
        },
        {
            "cell_type": "code",
            "source": [
                "\n",
                "SELECT c.CustomerID\n",
                "FROM Sales.Customer AS c\n",
                "EXCEPT\n",
                "SELECT soh.CustomerID\n",
                "FROM Sales.SalesOrderHeader AS soh\n",
                "ORDER BY CustomerID;"
            ],
            "metadata": {
                "azdata_cell_guid": "b0154487-ff43-4ea4-96a3-4cb869f89edd",
                "language": "python"
            },
            "outputs": [],
            "execution_count": null
        },
        {
            "cell_type": "markdown",
            "source": [
                "_Note: Some queries (2, 3, 7, 9) were refined with the help of an LLM (ChatGPT). Final testing and execution were done by me in DBeaver._"
            ],
            "metadata": {
                "azdata_cell_guid": "44e70f85-b13a-4652-b1b3-c4e7a55d43b3"
            }
        }
    ]
}