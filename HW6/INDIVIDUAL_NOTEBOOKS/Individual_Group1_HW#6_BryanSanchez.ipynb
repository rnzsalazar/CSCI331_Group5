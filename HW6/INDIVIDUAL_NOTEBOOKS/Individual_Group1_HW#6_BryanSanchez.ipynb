{
  "metadata": {
    "kernelspec": {
      "name": "SQLite",
      "display_name": "SQLite",
      "language": "sql"
    },
    "language_info": {
      "codemirror_mode": "sql",
      "file_extension": "",
      "mimetype": "",
      "name": "sql",
      "version": "3.32.3"
    }
  },
  "nbformat_minor": 5,
  "nbformat": 4,
  "cells": [
    {
      "id": "15529d3d-2080-4bcd-989a-ccf7ad59018d",
      "cell_type": "markdown",
      "source": "# Hw 6 Bryan Sanchez SQL Propistions\n",
      "metadata": {}
    },
    {
      "id": "bdb4b995-9b6f-48f7-b3f5-4a428746cddf",
      "cell_type": "markdown",
      "source": "### Proposition 1: Create a table to combine both the Vendors and the Customers to see the entire database.Create this using the Union operator. Be sure to have a way to see if the ID is a vendor or a customer. ",
      "metadata": {}
    },
    {
      "id": "8cbb3fd7-740f-4fc6-a109-2e5cba2957a2",
      "cell_type": "code",
      "source": "Select 'Vendor' AS Type, BusinessEntityID, Name\nFrom Purchasing.Vendor\nUNION\nSelect 'Customer', BusinessEntityID, Name\nFrom Sales.Store",
      "metadata": {
        "trusted": true
      },
      "outputs": [],
      "execution_count": null
    },
    {
      "id": "9324e6f5-fa96-4223-a949-ffe5f8cccaf8",
      "cell_type": "markdown",
      "source": "### Proposition 2: Create a query that takes from our people state provinces table and check the territory's that are not in the sales territory table. We want to see what territory's are not in our sales operation, Use the Union operator",
      "metadata": {}
    },
    {
      "id": "26536fe2-ebb7-4935-8ebf-0c989225acde",
      "cell_type": "code",
      "source": "Select TerritoryID, Name\nFrom Person.StateProvince\nExcept\nSelect TerritoryID, Name\nFrom Sales.SalesTerritory\nOrder By Name\n",
      "metadata": {
        "trusted": true
      },
      "outputs": [],
      "execution_count": null
    },
    {
      "id": "5d2ae101-9930-466f-966e-8b5c24c664a1",
      "cell_type": "markdown",
      "source": "### Proposition 3: Create a table that can view both current sales employee quota's and past historical quota's. For current employee's, provide both sales quota and Sales YTD",
      "metadata": {}
    },
    {
      "id": "482320ff-f12b-455a-afb3-f21c67953d6d",
      "cell_type": "code",
      "source": "Select 'Current' AS Type, BusinessEntityID,CAST(NULL AS varchar(10)) AS Quota_Initialized, SalesQuota, SalesYTD\nFrom Sales.SalesPerson\nWhere SalesQuota IS Not NUll\nUNION\nSelect 'Historical', BusinessEntityID, FORMAT(QuotaDate, 'MM-dd-yyyy') AS Quota_Initialized, SalesQuota, CAST(NULL AS money) AS SalesTYD\nFrom Sales.SalesPersonQuotaHistory\n",
      "metadata": {
        "trusted": true
      },
      "outputs": [],
      "execution_count": null
    },
    {
      "id": "43ffe3fd-1758-40d8-8d26-03ac98bfd227",
      "cell_type": "markdown",
      "source": "### Proposition 4: How can we view the product's that are in inventory but have not been incorporated in the purchase data(Meaning it is not being bought)",
      "metadata": {}
    },
    {
      "id": "6f9407b8-08aa-4033-bdb6-97c2782c55fc",
      "cell_type": "code",
      "source": "Select ProductID FROM Production.ProductInventory\nEXCEPT\nSelect ProductID FROM Purchasing.PurchaseOrderDetail\n",
      "metadata": {
        "trusted": true
      },
      "outputs": [],
      "execution_count": null
    },
    {
      "id": "3e0a2d84-2454-45ba-b15c-d1c1d768c5ab",
      "cell_type": "markdown",
      "source": "### Proposition 5: Create a table from  our special offers database to select product's that are on special but not in shopping carts currently",
      "metadata": {}
    },
    {
      "id": "d86820a5-2b06-44d3-bdef-b1ae45452eed",
      "cell_type": "code",
      "source": "Select SOP.ProductID, SOP.SpecialOfferID, SO.SpecialOfferID, SO.DiscountPct\nFROM Sales.SpecialOfferProduct SOP\nInner Join Sales.SpecialOffer SO ON SOP.SpecialOfferID = SO.SpecialOfferID\nWHERE SOP.ProductID NOT IN(\nSelect ProductID\nFROM Sales.ShoppingCartItem\n)",
      "metadata": {
        "trusted": true
      },
      "outputs": [],
      "execution_count": null
    },
    {
      "id": "de760d25-97b5-4b2a-a7a1-01ae2efaba58",
      "cell_type": "markdown",
      "source": "### Proposition 6: Create a table view that display's all products that are not currently listed in the special offer table. Create this using EXCEPT",
      "metadata": {}
    },
    {
      "id": "c155cdf7-fab7-4f08-9d75-d29e086181eb",
      "cell_type": "code",
      "source": "Select ProductID, Name\nFrom Production.Product\nEXCEPT\nSelect ProductID, NULL AS Name\nFrom Sales.SpecialOfferProduct\n",
      "metadata": {
        "trusted": true
      },
      "outputs": [],
      "execution_count": null
    },
    {
      "id": "2d13a8c8-3661-4339-a0be-79c90dad2537",
      "cell_type": "markdown",
      "source": "### Proposition 7: Write a query that returns employeees that started in 2008; and combine the table with the EmployeePayHistory table. From the historical table, use the rate change data and the rate that is greater than 10",
      "metadata": {}
    },
    {
      "id": "8494ccac-6f57-4b39-96ac-649b6558423e",
      "cell_type": "code",
      "source": "\nSelect BusinessEntityID, HireDate, NULL AS Rate\nFrom HumanResources.Employee\nWhere YEAR(HireDate) = 2008\nUNION\nSelect BusinessEntityID, RateChangeDate, Rate\nFrom HumanResources.EmployeePayHistory\nWhere YEAR(RateChangeDate) = 2008 and Rate > 20",
      "metadata": {
        "trusted": true
      },
      "outputs": [],
      "execution_count": null
    },
    {
      "id": "515cb0d0-ee74-4017-b5b0-3c923d7f33ca",
      "cell_type": "markdown",
      "source": "### Proposition 8: Create a query that will differentiate the creating cost and outsourcing cost. Compare this using a Union to insert both into one table view",
      "metadata": {}
    },
    {
      "id": "5698a09f-6a67-4189-9646-bb37c623fc84",
      "cell_type": "code",
      "source": "Select ProductID, 'Creating' AS SourceType, Sum(ActualCost) AS Cost\nFrom Production.WorkOrderRouting\nGroup By ProductID\nUNION\nSelect ProductID, 'BUY' AS SourceType, Min(StandardPrice) AS Cost\nFrom Purchasing.ProductVendor\nGroup By ProductID\n",
      "metadata": {
        "trusted": true
      },
      "outputs": [],
      "execution_count": null
    },
    {
      "id": "9c39bf00-fe42-487a-b0e3-e0211881798b",
      "cell_type": "markdown",
      "source": "### Proposition 9: Write a query that represents each component, and show the components that have high assembly quantity's",
      "metadata": {}
    },
    {
      "id": "fa21c9ba-3c9e-49bf-81bb-c56a3cfb0715",
      "cell_type": "code",
      "source": "Select\n\tBOM.ComponentID,\n\tP.Name AS Component,\n\tBOM.PerAssemblyQty,\n\tBOM.StartDate\nFROM Production.BillOfMaterials AS BOM\nInner Join Production.Product AS P\n\tON BOM.ComponentID = P.ProductID\nWhere BOM.EndDate IS NULL\n\tAND BOM.PerAssemblyQty > 10\nOrder By BOM.PerAssemblyQty DESC\n",
      "metadata": {
        "trusted": true
      },
      "outputs": [],
      "execution_count": null
    },
    {
      "id": "4cac69c9-4792-4889-ac61-607589c43fc0",
      "cell_type": "markdown",
      "source": "### Proposition 10: Write a query that shows the minimum average rate and maximum average between the currency's",
      "metadata": {}
    },
    {
      "id": "38ee310c-86f3-41f9-b6bc-29d9dd2d2acd",
      "cell_type": "code",
      "source": "Select FromCurrencyCode, ToCurrencyCode,\n\t\tMIN(AverageRate) AS MINRATE,\n\t\tMAX(AverageRate) AS MAXRATE,\n\t\tMAX(AverageRate) - MIN(AverageRate) AS RateDifference\nFrom Sales.CurrencyRate\nGroup By FromCurrencyCode, ToCurrencyCode\nOrder By RateDifference DESC",
      "metadata": {
        "trusted": true
      },
      "outputs": [
        {
          "ename": "Error",
          "evalue": "Please load a database to perform operations",
          "traceback": [
            "Error: Please load a database to perform operations"
          ],
          "output_type": "error"
        }
      ],
      "execution_count": 3
    },
    {
      "id": "f759899b-641f-493e-8485-18dcf2b63278",
      "cell_type": "markdown",
      "source": "### NACE Competencies:",
      "metadata": {}
    },
    {
      "id": "5729efb5-6b7c-479c-ac35-80c206b07273",
      "cell_type": "markdown",
      "source": "Teamwork : This HW used teamwork in a good manner as we all switched groups, We were all able to talk it pretty smoothly with the transition and easily create the pairs. \nCritical Thinking: Using some critical thinking to get scenerio's where union, intersect, except can be used. This means trying a different ways from the usual thinking and incorportae the set operators",
      "metadata": {}
    }
  ]
}