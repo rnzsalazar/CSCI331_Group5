{
    "metadata": {
        "kernelspec": {
            "name": "SQL",
            "display_name": "SQL",
            "language": "sql"
        },
        "language_info": {
            "name": "sql",
            "version": ""
        }
    },
    "nbformat_minor": 2,
    "nbformat": 4,
    "cells": [
        {
            "cell_type": "markdown",
            "source": [
                "<span style=\"font-size: 22pt; font-family: Arial, sans-serif; color: rgb(0, 0, 0); background-color: rgb(255, 255, 255); font-variant-numeric: normal; font-variant-east-asian: normal; font-variant-alternates: normal; font-variant-position: normal; vertical-align: baseline; white-space-collapse: preserve;\">HW#6 Ajay Pal SQL Propositions</span>"
            ],
            "metadata": {
                "azdata_cell_guid": "8cf7f18b-56f0-4fb0-9ee7-5c53ab2b4f25"
            },
            "attachments": {}
        },
        {
            "cell_type": "markdown",
            "source": [
                "<span style=\"font-size:18pt;font-family:Arial,sans-serif;color:#000000;background-color:#ffffff;font-weight:400;font-style:normal;font-variant:normal;text-decoration:none;vertical-align:baseline;white-space:pre;white-space:pre-wrap;\">Proposition 1: Order lines that meet both quantity and price requirements</span>\n",
                "\n",
                "<span style=\"font-size:11pt;font-family:Arial,sans-serif;color:#000000;background-color:#ffffff;font-weight:400;font-style:normal;font-variant:normal;text-decoration:none;vertical-align:baseline;white-space:pre;white-space:pre-wrap;\">This query finds sales order lines where Ordered quantity is at least 3 and Unit price is at least 1000</span>\n",
                "\n",
                "<span style=\"font-size:11pt;font-family:Arial,sans-serif;color:#000000;background-color:#ffffff;font-weight:400;font-style:normal;font-variant:normal;text-decoration:none;vertical-align:baseline;white-space:pre;white-space:pre-wrap;\">Helps identify large, high-value sales for revenue analysis.</span>\n",
                "\n",
                "<span style=\"font-size:11pt;font-family:Arial,sans-serif;color:#000000;background-color:#ffffff;font-weight:400;font-style:normal;font-variant:normal;text-decoration:none;vertical-align:baseline;white-space:pre;white-space:pre-wrap;\">Demonstrates how to use INTERSECT to find rows that satisfy both conditions at once.</span>"
            ],
            "metadata": {
                "azdata_cell_guid": "6254bc03-c26b-4aab-8bdd-e67c3d125135"
            },
            "attachments": {}
        },
        {
            "cell_type": "code",
            "source": [
                "SELECT SalesOrderID, SalesOrderDetailID\r\n",
                "FROM Sales.SalesOrderDetail\r\n",
                "WHERE OrderQty >= 3\r\n",
                "\r\n",
                "INTERSECT\r\n",
                "\r\n",
                "SELECT SalesOrderID, SalesOrderDetailID\r\n",
                "FROM Sales.SalesOrderDetail\r\n",
                "WHERE UnitPrice >= 1000\r\n",
                "ORDER BY SalesOrderID, SalesOrderDetailID;"
            ],
            "metadata": {
                "azdata_cell_guid": "507e0c66-9233-4ef2-b641-92989e54c219",
                "language": "sql"
            },
            "outputs": [],
            "execution_count": null
        },
        {
            "cell_type": "markdown",
            "source": [
                "<span style=\"font-size:18pt;font-family:Arial,sans-serif;color:#000000;background-color:#ffffff;font-weight:400;font-style:normal;font-variant:normal;text-decoration:none;vertical-align:baseline;white-space:pre;white-space:pre-wrap;\">Proposition 2: </span>   <span style=\"font-size:18pt;font-family:Arial,sans-serif;color:#000000;background-color:#ffffff;font-weight:400;font-style:normal;font-variant:normal;text-decoration:none;vertical-align:baseline;white-space:pre;white-space:pre-wrap;\">Employees who are not part of the sales team</span>\n",
                "\n",
                "<span style=\"font-size:11pt;font-family:Arial,sans-serif;color:#000000;background-color:#ffffff;font-weight:400;font-style:normal;font-variant:normal;text-decoration:none;vertical-align:baseline;white-space:pre;white-space:pre-wrap;\">Helps HR or management quickly identify non-sales staff in the company.</span>\n",
                "\n",
                "<span style=\"font-size:11pt;font-family:Arial,sans-serif;color:#000000;background-color:#ffffff;font-weight:400;font-style:normal;font-variant:normal;text-decoration:none;vertical-align:baseline;white-space:pre;white-space:pre-wrap;\">Useful for analyzing organizational distribution and separating support or technical employees from sales roles.</span>\n",
                "\n",
                "<span style=\"font-size:11pt;font-family:Arial,sans-serif;color:#000000;background-color:#ffffff;font-weight:400;font-style:normal;font-variant:normal;text-decoration:none;vertical-align:baseline;white-space:pre;white-space:pre-wrap;\">Demonstrates how to use EXCEPT to find data that exists in one dataset but not in another.</span>\n",
                "\n",
                "<span style=\"font-size:11pt;font-family:Arial,sans-serif;color:#000000;background-color:#ffffff;font-weight:400;font-style:normal;font-variant:normal;text-decoration:none;vertical-align:baseline;white-space:pre;white-space:pre-wrap;\">A simple example of set difference logic from Chapter 6 of T-SQL Fundamentals.</span>"
            ],
            "metadata": {
                "azdata_cell_guid": "4ef8d663-ebd5-4ffa-90cb-d089d4242029"
            },
            "attachments": {}
        },
        {
            "cell_type": "code",
            "source": [
                "-- Display up to 20 employees who are NOT part of the sales team\r\n",
                "SELECT TOP (20) emp.BusinessEntityID,  emp.JobTitle,emp.HireDate\r\n",
                "FROM (\r\n",
                " -- All active employees in the organization\r\n",
                "SELECT BusinessEntityID, JobTitle, HireDate\r\n",
                "FROM HumanResources.Employee\r\n",
                "\r\n",
                "EXCEPT\r\n",
                "\r\n",
                "-- Employees who appear in Sales.SalesPerson (sales staff)\r\n",
                "SELECT s.BusinessEntityID, e.JobTitle, e.HireDate\r\n",
                "FROM HumanResources.Employee AS e\r\n",
                "INNER JOIN Sales.SalesPerson AS s\r\n",
                "    ON e.BusinessEntityID = s.BusinessEntityID\r\n",
                ") AS emp\r\n",
                ""
            ],
            "metadata": {
                "azdata_cell_guid": "1877643b-5d33-496b-86cc-fcb63d2278d9",
                "language": "sql"
            },
            "outputs": [],
            "execution_count": null
        },
        {
            "cell_type": "markdown",
            "source": [
                "<span style=\"font-size:18pt;font-family:Arial,sans-serif;color:#000000;background-color:#ffffff;font-weight:400;font-style:normal;font-variant:normal;text-decoration:none;vertical-align:baseline;white-space:pre;white-space:pre-wrap;\">Proposition 3: </span>   <span style=\"font-size:18pt;font-family:Arial,sans-serif;color:#000000;background-color:#ffffff;font-weight:400;font-style:normal;font-variant:normal;text-decoration:none;vertical-align:baseline;white-space:pre;white-space:pre-wrap;\">Products that are finished goods and have a valid list price</span>\n",
                "\n",
                "<span style=\"font-size:11pt;font-family:Arial,sans-serif;color:#000000;background-color:#ffffff;font-weight:400;font-style:normal;font-variant:normal;text-decoration:none;vertical-align:baseline;white-space:pre;white-space:pre-wrap;\">Helps identify products that are ready for sale and priced correctly.</span>\n",
                "\n",
                "<span style=\"font-size:11pt;font-family:Arial,sans-serif;color:#000000;background-color:#ffffff;font-weight:400;font-style:normal;font-variant:normal;text-decoration:none;vertical-align:baseline;white-space:pre;white-space:pre-wrap;\">Useful for inventory and catalog audits to ensure all sellable items have valid prices.</span>\n",
                "\n",
                "<span style=\"font-size:11pt;font-family:Arial,sans-serif;color:#000000;background-color:#ffffff;font-weight:400;font-style:normal;font-variant:normal;text-decoration:none;vertical-align:baseline;white-space:pre;white-space:pre-wrap;\">Supports pricing reviews and product readiness checks across departments.</span>"
            ],
            "metadata": {
                "azdata_cell_guid": "01c2f0cc-4390-4309-82fb-dac669839c10"
            },
            "attachments": {}
        },
        {
            "cell_type": "code",
            "source": [
                "-- Products that are finished goods\r\n",
                "SELECT ProductID, Name, ListPrice\r\n",
                "FROM Production.Product\r\n",
                "WHERE FinishedGoodsFlag = 1\r\n",
                "\r\n",
                "INTERSECT\r\n",
                "\r\n",
                "-- Products that have a nonzero list price\r\n",
                "SELECT ProductID, Name, ListPrice\r\n",
                "FROM Production.Product\r\n",
                "WHERE ListPrice > 0\r\n",
                "ORDER BY ProductID;"
            ],
            "metadata": {
                "azdata_cell_guid": "523cdea6-919c-4efe-86da-ab5a196c9a47",
                "language": "sql"
            },
            "outputs": [],
            "execution_count": null
        },
        {
            "cell_type": "markdown",
            "source": [
                "<span style=\"font-size:18pt;font-family:Arial,sans-serif;color:#000000;background-color:#ffffff;font-weight:400;font-style:normal;font-variant:normal;text-decoration:none;vertical-align:baseline;white-space:pre;white-space:pre-wrap;\">Proposition 4: Products in Location 1 but not in Location 50 (with product names)</span>\n",
                "\n",
                "<span style=\"font-size:11pt;font-family:Arial,sans-serif;color:#000000;background-color:#ffffff;font-weight:400;font-style:normal;font-variant:normal;text-decoration:none;vertical-align:baseline;white-space:pre;white-space:pre-wrap;\">Helps warehouse management track which items are exclusive to a specific storage area.</span>\n",
                "\n",
                "<span style=\"font-size:11pt;font-family:Arial,sans-serif;color:#000000;background-color:#ffffff;font-weight:400;font-style:normal;font-variant:normal;text-decoration:none;vertical-align:baseline;white-space:pre;white-space:pre-wrap;\">Useful for identifying inventory distribution differences between locations.</span>\n",
                "\n",
                "<span style=\"font-size:11pt;font-family:Arial,sans-serif;color:#000000;background-color:#ffffff;font-weight:400;font-style:normal;font-variant:normal;text-decoration:none;vertical-align:baseline;white-space:pre;white-space:pre-wrap;\">Supports planning for stock transfers or balancing product availability.</span>"
            ],
            "metadata": {
                "azdata_cell_guid": "65488388-cf00-4e5f-bb49-5603da386280"
            },
            "attachments": {}
        },
        {
            "cell_type": "code",
            "source": [
                "SELECT DISTINCT p.ProductID, p.Name AS ProductName, pi.LocationID, pi.Quantity\r\n",
                "FROM Production.ProductInventory AS pi\r\n",
                "JOIN Production.Product AS p\r\n",
                "    ON pi.ProductID = p.ProductID\r\n",
                "WHERE pi.LocationID = 1\r\n",
                "\r\n",
                "EXCEPT\r\n",
                "\r\n",
                "SELECT DISTINCT p.ProductID, p.Name, pi.LocationID, pi.Quantity\r\n",
                "FROM Production.ProductInventory AS pi\r\n",
                "JOIN Production.Product AS p\r\n",
                "    ON pi.ProductID = p.ProductID\r\n",
                "WHERE pi.LocationID = 50\r\n",
                "ORDER BY ProductID;\r\n",
                ""
            ],
            "metadata": {
                "azdata_cell_guid": "39622eb4-5eed-4554-9152-b2fedbdb78e5",
                "language": "sql"
            },
            "outputs": [],
            "execution_count": null
        },
        {
            "cell_type": "markdown",
            "source": [
                "<span style=\"font-size:18pt;font-family:Arial,sans-serif;color:#000000;background-color:#ffffff;font-weight:400;font-style:normal;font-variant:normal;text-decoration:none;vertical-align:baseline;white-space:pre;white-space:pre-wrap;\">Proposition 5: Combine old and new work orders into one list</span>\n",
                "\n",
                "<span style=\"font-size:11pt;font-family:Arial,sans-serif;color:#000000;background-color:#ffffff;font-weight:400;font-style:normal;font-variant:normal;text-decoration:none;vertical-align:baseline;white-space:pre;white-space:pre-wrap;\">Gives production managers a unified view of both old and recent work orders</span>\n",
                "\n",
                "<span style=\"font-size:11pt;font-family:Arial,sans-serif;color:#000000;background-color:#ffffff;font-weight:400;font-style:normal;font-variant:normal;text-decoration:none;vertical-align:baseline;white-space:pre;white-space:pre-wrap;\">Simplifies tracking workflow trends over time.</span>\n",
                "\n",
                "<span style=\"font-size:11pt;font-family:Arial,sans-serif;color:#000000;background-color:#ffffff;font-weight:400;font-style:normal;font-variant:normal;text-decoration:none;vertical-align:baseline;white-space:pre;white-space:pre-wrap;\">Useful for scheduling maintenance, forecasting workloads, and reviewing productivity shifts.</span>"
            ],
            "metadata": {
                "azdata_cell_guid": "a7b4b0af-b614-4a52-9a87-1140bce7e585"
            },
            "attachments": {}
        },
        {
            "cell_type": "code",
            "source": [
                "SELECT WorkOrderID, ProductID, OrderQty, StartDate, EndDate, 'Old Work Orders' AS Category\r\n",
                "FROM Production.WorkOrder\r\n",
                "WHERE StartDate < '2011-06-15'\r\n",
                "\r\n",
                "\r\n",
                "UNION ALL\r\n",
                "\r\n",
                "\r\n",
                "SELECT WorkOrderID, ProductID, OrderQty, StartDate, EndDate, 'Recent Work Orders' AS Category\r\n",
                "FROM Production.WorkOrder\r\n",
                "WHERE StartDate >= '2011-06-15'\r\n",
                "ORDER BY StartDate;"
            ],
            "metadata": {
                "azdata_cell_guid": "b42343e4-03ac-4cbd-9a39-02d6167748bd",
                "language": "sql"
            },
            "outputs": [],
            "execution_count": null
        },
        {
            "cell_type": "markdown",
            "source": [
                "<span style=\"font-size:18pt;font-family:Arial,sans-serif;color:#000000;background-color:#ffffff;font-weight:400;font-style:normal;font-variant:normal;text-decoration:none;vertical-align:baseline;white-space:pre;white-space:pre-wrap;\">Proposition 6: Finds vendors that sell expensive products but not small quantity ones</span>\n",
                "\n",
                "<span style=\"font-size:11pt;font-family:Arial,sans-serif;color:#000000;background-color:#ffffff;font-weight:400;font-style:normal;font-variant:normal;text-decoration:none;vertical-align:baseline;white-space:pre;white-space:pre-wrap;\">Identifies vendors dealing in high-value, bulk-order products, excluding low-volume suppliers.</span>\n",
                "\n",
                "<span style=\"font-size:11pt;font-family:Arial,sans-serif;color:#000000;background-color:#ffffff;font-weight:400;font-style:normal;font-variant:normal;text-decoration:none;vertical-align:baseline;white-space:pre;white-space:pre-wrap;\">Useful for purchasing strategy and supplier negotiations focused on large-scale orders.</span>"
            ],
            "metadata": {
                "azdata_cell_guid": "ffb1e10c-b3c4-4dae-9d10-f41b6f09629b"
            },
            "attachments": {}
        },
        {
            "cell_type": "code",
            "source": [
                "-- Vendors that supply products with a standard price over 40\r\n",
                "SELECT pv.BusinessEntityID, p.ProductID, p.Name, pv.StandardPrice\r\n",
                "FROM Purchasing.ProductVendor AS pv\r\n",
                "JOIN Production.Product AS p\r\n",
                "    ON pv.ProductID = p.ProductID\r\n",
                "WHERE pv.StandardPrice > 40\r\n",
                "\r\n",
                "EXCEPT\r\n",
                "\r\n",
                "-- Vendors that only supply products with a minimum order quantity under 10\r\n",
                "SELECT pv.BusinessEntityID, p.ProductID, p.Name, pv.StandardPrice\r\n",
                "FROM Purchasing.ProductVendor AS pv\r\n",
                "JOIN Production.Product AS p\r\n",
                "    ON pv.ProductID = p.ProductID\r\n",
                "WHERE pv.MinOrderQty < 10\r\n",
                "ORDER BY BusinessEntityID;\r\n",
                ""
            ],
            "metadata": {
                "azdata_cell_guid": "c6201a39-773d-4ca9-95dc-c9fecedc95af",
                "language": "sql",
                "tags": []
            },
            "outputs": [],
            "execution_count": null
        },
        {
            "cell_type": "markdown",
            "source": [
                "<span style=\"font-size: 18pt; font-family: Arial, sans-serif; color: rgb(0, 0, 0); background-color: rgb(255, 255, 255); font-variant-numeric: normal; font-variant-east-asian: normal; font-variant-alternates: normal; font-variant-position: normal; vertical-align: baseline; white-space-collapse: preserve;\">Proposition 7: Products that both have a vendor price and appear on any sales order</span>\n",
                "\n",
                "<span style=\"font-size: 11pt; font-family: Arial, sans-serif; color: rgb(0, 0, 0); background-color: rgb(255, 255, 255); font-variant-numeric: normal; font-variant-east-asian: normal; font-variant-alternates: normal; font-variant-position: normal; vertical-align: baseline; white-space-collapse: preserve;\">Helps verify which products are both sourced from vendors and actively sold to customers.</span>\n",
                "\n",
                "<span style=\"font-size: 11pt; font-family: Arial, sans-serif; color: rgb(0, 0, 0); background-color: rgb(255, 255, 255); font-variant-numeric: normal; font-variant-east-asian: normal; font-variant-alternates: normal; font-variant-position: normal; vertical-align: baseline; white-space-collapse: preserve;\">Useful for spotting items that generate revenue and maintain active supplier relationships.</span>"
            ],
            "metadata": {
                "azdata_cell_guid": "93a9d5fc-2be4-4f0b-be05-0fe58f0423ef"
            },
            "attachments": {}
        },
        {
            "cell_type": "code",
            "source": [
                "-- Products that both have a vendor price AND appear on any sales order\r\n",
                "SELECT p.ProductID, p.Name\r\n",
                "FROM Production.Product AS p\r\n",
                "WHERE p.ProductID IN (\r\n",
                "    -- products with a vendor (priced)\r\n",
                "    SELECT DISTINCT pv.ProductID\r\n",
                "    FROM Purchasing.ProductVendor AS pv\r\n",
                "    WHERE pv.StandardPrice > 0\r\n",
                "\r\n",
                "    INTERSECT\r\n",
                "\r\n",
                "    -- products that have been sold\r\n",
                "    SELECT DISTINCT d.ProductID\r\n",
                "    FROM Sales.SalesOrderDetail AS d\r\n",
                ")\r\n",
                "ORDER BY p.ProductID;\r\n",
                ""
            ],
            "metadata": {
                "azdata_cell_guid": "58e84cce-f8d3-46c5-bba6-28e8f5f53ee6",
                "language": "sql"
            },
            "outputs": [],
            "execution_count": null
        },
        {
            "cell_type": "markdown",
            "source": [
                "<span style=\"font-size:18pt;font-family:Arial,sans-serif;color:#000000;background-color:#ffffff;font-weight:400;font-style:normal;font-variant:normal;text-decoration:none;vertical-align:baseline;white-space:pre;white-space:pre-wrap;\">Proposition 8: Combines Sales and Marketing employees</span>\n",
                "\n",
                "<span style=\"font-size:11pt;font-family:Arial,sans-serif;color:#000000;background-color:#ffffff;font-weight:400;font-style:normal;font-variant:normal;text-decoration:none;vertical-align:baseline;white-space:pre;white-space:pre-wrap;\">Merges staff from both Sales and Marketing departments into a single unified list.</span>\n",
                "\n",
                "<span style=\"font-size:11pt;font-family:Arial,sans-serif;color:#000000;background-color:#ffffff;font-weight:400;font-style:normal;font-variant:normal;text-decoration:none;vertical-align:baseline;white-space:pre;white-space:pre-wrap;\">Helps leadership view all customer-facing employees in one dataset.</span>\n",
                "\n",
                "<span style=\"font-size:11pt;font-family:Arial,sans-serif;color:#000000;background-color:#ffffff;font-weight:400;font-style:normal;font-variant:normal;text-decoration:none;vertical-align:baseline;white-space:pre;white-space:pre-wrap;\">Useful for cross-department collaboration, performance comparisons, or staffing analysis.</span>\n",
                "\n",
                "<span style=\"font-size:11pt;font-family:Arial,sans-serif;color:#000000;background-color:#ffffff;font-weight:400;font-style:normal;font-variant:normal;text-decoration:none;vertical-align:baseline;white-space:pre;white-space:pre-wrap;\">Shows how Union can combine similar datasets from different teams.</span>"
            ],
            "metadata": {
                "azdata_cell_guid": "152a4f68-045c-4410-87f5-eab656e3f4cb"
            },
            "attachments": {}
        },
        {
            "cell_type": "code",
            "source": [
                "-- Sales employees\r\n",
                "SELECT  e.BusinessEntityID, e.JobTitle,  e.HireDate\r\n",
                "FROM HumanResources.Employee AS e\r\n",
                "JOIN HumanResources.EmployeeDepartmentHistory AS edh\r\n",
                "  ON e.BusinessEntityID = edh.BusinessEntityID\r\n",
                "JOIN HumanResources.Department AS d\r\n",
                "  ON edh.DepartmentID = d.DepartmentID\r\n",
                "WHERE d.Name = 'Sales'\r\n",
                "\r\n",
                "UNION\r\n",
                "\r\n",
                "-- Marketing employees\r\n",
                "SELECT  e.BusinessEntityID, e.JobTitle, e.HireDate\r\n",
                "FROM HumanResources.Employee AS e\r\n",
                "JOIN HumanResources.EmployeeDepartmentHistory AS edh\r\n",
                "  ON e.BusinessEntityID = edh.BusinessEntityID\r\n",
                "JOIN HumanResources.Department AS d\r\n",
                "  ON edh.DepartmentID = d.DepartmentID\r\n",
                "WHERE d.Name = 'Marketing'\r\n",
                "ORDER BY e.JobTitle;\r\n",
                ""
            ],
            "metadata": {
                "azdata_cell_guid": "ba5604f0-6a23-4c57-9386-0d6858a938c4",
                "language": "sql",
                "tags": []
            },
            "outputs": [],
            "execution_count": null
        },
        {
            "cell_type": "markdown",
            "source": [
                "<span style=\"font-size:18pt;font-family:Arial,sans-serif;color:#000000;background-color:#ffffff;font-weight:400;font-style:normal;font-variant:normal;text-decoration:none;vertical-align:baseline;white-space:pre;white-space:pre-wrap;\">Proposition 9: Combines high and low tax rates</span>\n",
                "\n",
                "<span style=\"font-size:11pt;font-family:Arial,sans-serif;color:#000000;background-color:#ffffff;font-weight:400;font-style:normal;font-variant:normal;text-decoration:none;vertical-align:baseline;white-space:pre;white-space:pre-wrap;\">Summarizes the distribution of tax rates to compare high vs. low rate categories across regions.</span>"
            ],
            "metadata": {
                "azdata_cell_guid": "adfc1c0e-5810-43ce-978a-22a0ce11c04b"
            },
            "attachments": {}
        },
        {
            "cell_type": "code",
            "source": [
                "-- High tax rates\r\n",
                "SELECT TaxRate, COUNT(*) AS RateCount\r\n",
                "FROM Sales.SalesTaxRate\r\n",
                "WHERE TaxRate >= 10\r\n",
                "GROUP BY TaxRate\r\n",
                "\r\n",
                "UNION\r\n",
                "\r\n",
                "-- Low tax rates\r\n",
                "SELECT TaxRate, COUNT(*) AS RateCount\r\n",
                "FROM Sales.SalesTaxRate\r\n",
                "WHERE TaxRate < 10\r\n",
                "GROUP BY TaxRate\r\n",
                "ORDER BY TaxRate;\r\n",
                ""
            ],
            "metadata": {
                "azdata_cell_guid": "2404f91b-534a-4062-b7e8-3f72a5b3e2a8",
                "language": "sql"
            },
            "outputs": [],
            "execution_count": null
        },
        {
            "cell_type": "markdown",
            "source": [
                "## <span style=\"font-size:18pt;font-family:Arial,sans-serif;color:#000000;background-color:#ffffff;font-weight:400;font-style:normal;font-variant:normal;text-decoration:none;vertical-align:baseline;white-space:pre;white-space:pre-wrap;\">Proposition 10: Employees who report to someone but aren’t managers</span>\n",
                "\n",
                "<span style=\"font-size: 11pt; font-family: Arial, sans-serif; color: rgb(0, 0, 0); background-color: rgb(255, 255, 255); font-variant-numeric: normal; font-variant-east-asian: normal; font-variant-alternates: normal; font-variant-position: normal; vertical-align: baseline; white-space-collapse: preserve;\">Identifies employees with a supervisor but no managerial title.</span>\n",
                "\n",
                "<span style=\"font-size: 11pt; font-family: Arial, sans-serif; color: rgb(0, 0, 0); background-color: rgb(255, 255, 255); font-variant-numeric: normal; font-variant-east-asian: normal; font-variant-alternates: normal; font-variant-position: normal; vertical-align: baseline; white-space-collapse: preserve;\">Useful for mapping mid-level or support roles within each department.</span>\n",
                "\n",
                "<span style=\"font-size: 11pt; font-family: Arial, sans-serif; color: rgb(0, 0, 0); background-color: rgb(255, 255, 255); font-variant-numeric: normal; font-variant-east-asian: normal; font-variant-alternates: normal; font-variant-position: normal; vertical-align: baseline; white-space-collapse: preserve;\">Helps HR track potential candidates for leadership development or promotion.</span>"
            ],
            "metadata": {
                "azdata_cell_guid": "0e9fe84d-5206-44b5-bb03-6a3b890cfc48"
            },
            "attachments": {}
        },
        {
            "cell_type": "code",
            "source": [
                "-- Employees that have a manager (OrganizationLevel > 1)\r\n",
                "SELECT e.BusinessEntityID, e.JobTitle, e.OrganizationLevel, d.DepartmentID\r\n",
                "FROM HumanResources.Employee AS e\r\n",
                "JOIN HumanResources.EmployeeDepartmentHistory AS d\r\n",
                "  ON e.BusinessEntityID = d.BusinessEntityID\r\n",
                "WHERE e.OrganizationLevel > 1\r\n",
                "\r\n",
                "EXCEPT\r\n",
                "\r\n",
                "-- Employees that are managers\r\n",
                "SELECT e.BusinessEntityID, e.JobTitle, e.OrganizationLevel, d.DepartmentID\r\n",
                "FROM HumanResources.Employee AS e\r\n",
                "JOIN HumanResources.EmployeeDepartmentHistory AS d\r\n",
                "  ON e.BusinessEntityID = d.BusinessEntityID\r\n",
                "WHERE e.JobTitle LIKE '%Manager%'\r\n",
                "ORDER BY e.BusinessEntityID;\r\n",
                ""
            ],
            "metadata": {
                "azdata_cell_guid": "b9237a0d-2627-4e6f-bba6-b9b84f2f91c7",
                "language": "sql"
            },
            "outputs": [],
            "execution_count": null
        }
    ]
}