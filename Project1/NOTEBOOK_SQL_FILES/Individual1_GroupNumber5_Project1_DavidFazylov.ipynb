{
    "metadata": {
        "kernelspec": {
            "name": "python3",
            "display_name": "Python 3 (ipykernel)",
            "language": "python"
        },
        "language_info": {
            "name": "python",
            "version": "3.13.1",
            "mimetype": "text/x-python",
            "codemirror_mode": {
                "name": "ipython",
                "version": 3
            },
            "pygments_lexer": "ipython3",
            "nbconvert_exporter": "python",
            "file_extension": ".py"
        },
        "title": "SQL Noir: Seven Mysteries (SQL Server)"
    },
    "nbformat_minor": 2,
    "nbformat": 4,
    "cells": [
        {
            "cell_type": "markdown",
            "source": [
                "# David Fazylov- SQL Noir: Seven Mysteries (SQL Server)\n",
                "\n",
                "_Detective Noir Theme — presentation-ready notebook_\n",
                "\n",
                "This notebook contains **six** mysteries you can run against **Northwinds2022** (and one small custom _Mystery_ database for Case #1) for a total of 7 Mystery's  \n",
                "All SQL is written for **Microsoft SQL Server**.\n",
                "\n",
                "* * *"
            ],
            "metadata": {
                "azdata_cell_guid": "24c95a22-14f8-4c12-869f-cd3a10b89353"
            },
            "attachments": {}
        },
        {
            "cell_type": "markdown",
            "source": [
                "## How to use this notebook\n",
                "- Each case begins with an **intro narrative** and **objectives**.\n",
                "- Steps are presented as **short SQL blocks** you can run in SSMS, Azure Data Studio, or DBeaver.\n",
                "- Replace schema/table names if your environment differs.\n",
                "- Clear **BEGIN/END** markers surround each mystery.\n",
                "\n",
                "---"
            ],
            "metadata": {
                "azdata_cell_guid": "31662533-34aa-483e-9364-699e5a74f367"
            }
        },
        {
            "cell_type": "markdown",
            "source": [
                "# 🔎 MYSTERY #1 — The Missing MacBook at Queens College Library  \n",
                "**Database:** `Mystery` (custom)  \n",
                "**Theme:** Stolen laptop, a witness, and a tattooed right hand.\n",
                "\n",
                "**Begin Case #1**"
            ],
            "metadata": {
                "azdata_cell_guid": "7053b762-ba7a-470b-9fe6-3d772bba97e3"
            }
        },
        {
            "cell_type": "markdown",
            "source": [
                "### Case Brief\n",
                "A MacBook Pro vanished from the Queens College Library — 3rd Floor Study Area at 2:45 PM.  \n",
                "A witness saw someone in a **black hoodie**, fleeing, with a **tattoo on the right hand**.\n",
                "\n",
                "**Goal:** use basic SQL to locate the crime scene event, shortlist suspects, verify via interview, and find corroborating evidence."
            ],
            "metadata": {
                "azdata_cell_guid": "0d87395f-3a13-488f-b1bc-e030c4bc184b"
            }
        },
        {
            "cell_type": "markdown",
            "source": [
                "### Tables (custom)\n",
                "- `crime_scene(id, date, type, location, description)`  \n",
                "- `suspects(id, name, attire, scar)`  \n",
                "- `interviews(suspect_id, transcript)`  \n",
                "- `evidence(detail)`"
            ],
            "metadata": {
                "azdata_cell_guid": "47545849-075c-4047-860b-2ed0e502e863"
            }
        },
        {
            "cell_type": "markdown",
            "source": [
                "### Step 1 — Crime scene filter- We want only the **theft reports** in the **QC library --** the moment it all started"
            ],
            "metadata": {
                "azdata_cell_guid": "11bbb3dc-07f2-4189-9881-7f09793cc139"
            },
            "attachments": {}
        },
        {
            "cell_type": "markdown",
            "source": [
                "```sql\n",
                "USE Mystery;\n",
                "GO\n",
                "\n",
                "SELECT type, location, description\n",
                "FROM dbo.crime_scene\n",
                "WHERE type = 'theft'\n",
                "  AND location = 'Queens College Library';\n",
                "```"
            ],
            "metadata": {
                "azdata_cell_guid": "75fb6f97-6834-45de-8d8e-23d726178ad5"
            }
        },
        {
            "cell_type": "markdown",
            "source": [
                "### Step 2 — Narrow suspects by description - Now we look for **people who fit witness description** clothing can be changed! but Tattoos? they can not be hidden!!"
            ],
            "metadata": {
                "azdata_cell_guid": "f8708c67-e8ca-404a-be5d-6ae03f4f803b"
            },
            "attachments": {}
        },
        {
            "cell_type": "markdown",
            "source": [
                "```sql\n",
                "SELECT id, name, attire, scar\n",
                "FROM dbo.suspects\n",
                "WHERE attire LIKE '%black hoodie%'\n",
                "  AND scar   LIKE '%right hand%';\n",
                "```"
            ],
            "metadata": {
                "azdata_cell_guid": "749e70e9-778c-4d4c-9d47-add7fa7f6cef"
            }
        },
        {
            "cell_type": "markdown",
            "source": [
                "### Step 3 — Verify by interview transcript - this reduces the noise, from campus crowds and late night stragglers..\n",
                "\n",
                "**down to just a few names now...**  the list isnt very long, its making things interesting."
            ],
            "metadata": {
                "azdata_cell_guid": "a550218a-3cbc-4650-ad90-d78fc1d46221"
            },
            "attachments": {}
        },
        {
            "cell_type": "markdown",
            "source": [
                "```sql\n",
                "SELECT s.id, s.name, i.transcript\n",
                "FROM dbo.suspects AS s\n",
                "JOIN dbo.interviews AS i\n",
                "  ON i.suspect_id = s.id\n",
                "WHERE s.id = 10;   -- replace with the candidate from Step 2\n",
                "```"
            ],
            "metadata": {
                "azdata_cell_guid": "4a08d946-1cbd-4842-b7c4-12e088c02be1"
            }
        },
        {
            "cell_type": "markdown",
            "source": [
                "### Step 4 — Corroborating evidence - suspects talk and when they do? we listen!"
            ],
            "metadata": {
                "azdata_cell_guid": "ff22a027-5686-4fcc-b19a-18b792580232"
            },
            "attachments": {}
        },
        {
            "cell_type": "markdown",
            "source": [
                "```sql\n",
                "SELECT *\n",
                "FROM dbo.evidence\n",
                "WHERE detail LIKE '%locker%'\n",
                "   OR detail LIKE '%camera%'\n",
                "   OR detail LIKE '%black hoodie%'\n",
                "   OR detail LIKE '%tattoo%';\n",
                "```"
            ],
            "metadata": {
                "azdata_cell_guid": "b3073390-cdf4-4b1f-958b-2b8ca7bbd3db"
            }
        },
        {
            "cell_type": "markdown",
            "source": [
                "**Result:** our working suspect (e.g., *Alex Moreno*) matches the description and transcript, and the evidence supports the timeline.\n",
                "\n",
                "**End Case #1**\n",
                "---"
            ],
            "metadata": {
                "azdata_cell_guid": "04928510-eab7-461b-b890-f4cfd0072a66"
            }
        },
        {
            "cell_type": "markdown",
            "source": [
                "# 🔎 MYSTERY #2 — The Case of the Vanishing Bulk Discounts  \n",
                "**Database:** `Northwinds2022`  \n",
                "**Theme:** Bulk orders (≥ 50 units) with **no discount** applied.\n",
                "\n",
                "**Begin Case #2**"
            ],
            "metadata": {
                "azdata_cell_guid": "f59e621c-3154-4785-bab2-faa0d5ff56cf"
            }
        },
        {
            "cell_type": "markdown",
            "source": [
                "### Case Brief\n",
                "Accounting rumors say some large orders never received their promised discounts.  \n",
                "We’ll verify by finding orders whose **total quantity ≥ 50** and **zero discounted lines**."
            ],
            "metadata": {
                "azdata_cell_guid": "a35d0a7b-3c1f-4ce9-843f-ed8ce6df6a70"
            }
        },
        {
            "cell_type": "markdown",
            "source": [
                "### Step 1 —Lets survey the ledger. We begin with a look at the order system. No assumptions yet. Only **Structure,shape and volume.** We are hunting down the patterns where the rows show quantities , dates, and discount percentages this is where our ghost may be hiding."
            ],
            "metadata": {
                "azdata_cell_guid": "b491fb4e-7a7e-4356-a372-5808e381ce76"
            },
            "attachments": {}
        },
        {
            "cell_type": "markdown",
            "source": [
                "```sql\n",
                "USE Northwinds2022;\n",
                "GO\n",
                "\n",
                "SELECT TOP (5) * FROM Sales.[Order]      ORDER BY OrderId;\n",
                "SELECT TOP (5) * FROM Sales.OrderDetail  ORDER BY OrderId, ProductId;\n",
                "```"
            ],
            "metadata": {
                "azdata_cell_guid": "12ad8654-52cb-414e-8fa0-5843c54942f5"
            }
        },
        {
            "cell_type": "markdown",
            "source": [
                "### Step 2 — Join orders to details to reconstruct the transaction trail. We connect orders to their line by line details because corruption usually happens where its not obvious, in the fine print! now we can form a picture. Which orders were big and which ones had big discounts? we are seeing where a problem can live."
            ],
            "metadata": {
                "azdata_cell_guid": "7d8a3b70-29dd-4fab-a07b-dcdc64cfac4f"
            },
            "attachments": {}
        },
        {
            "cell_type": "markdown",
            "source": [
                "```sql\n",
                "SELECT\n",
                "    o.OrderId,\n",
                "    o.OrderDate,\n",
                "    od.ProductId,\n",
                "    od.Quantity,\n",
                "    od.DiscountPercentage\n",
                "FROM Sales.[Order] AS o\n",
                "JOIN Sales.OrderDetail AS od\n",
                "  ON od.OrderId = o.OrderId\n",
                "ORDER BY o.OrderId, od.ProductId;\n",
                "```"
            ],
            "metadata": {
                "azdata_cell_guid": "81882737-5cdb-4f27-b32d-1fe80a8d6a4e"
            }
        },
        {
            "cell_type": "markdown",
            "source": [
                "### Step 3 — Keep only bulk orders which are 50+ total items. thats our threshold of where discoutns must kick in!\n",
                "\n",
                "so these orders qualify for discounts they should have them.. but do they?"
            ],
            "metadata": {
                "azdata_cell_guid": "bccf3c37-3294-4bcd-a647-c5ec57e4efc3"
            },
            "attachments": {}
        },
        {
            "cell_type": "markdown",
            "source": [
                "```sql\n",
                "SELECT\n",
                "    o.OrderId,\n",
                "    o.OrderDate,\n",
                "    SUM(od.Quantity) AS TotalQuantity\n",
                "FROM Sales.[Order] AS o\n",
                "JOIN Sales.OrderDetail AS od\n",
                "  ON od.OrderId = o.OrderId\n",
                "GROUP BY o.OrderId, o.OrderDate\n",
                "HAVING SUM(od.Quantity) >= 50\n",
                "ORDER BY TotalQuantity DESC, o.OrderDate, o.OrderId;\n",
                "```"
            ],
            "metadata": {
                "azdata_cell_guid": "a6aae730-7b2b-4ca3-9ea2-ae6aff1492ec"
            }
        },
        {
            "cell_type": "markdown",
            "source": [
                "### Step 4 — Bulk with zero discount lines (the anomaly) - if someone wanted to quietly benefit a buyer.. or themselves.. this is where they would hide it! this query only does 1 thing: it finds the bulk orders. if this returns even 1 record? then someone broke the rules!"
            ],
            "metadata": {
                "azdata_cell_guid": "0bc35c39-5ecc-4b88-88b3-5dcf00882c38"
            },
            "attachments": {}
        },
        {
            "cell_type": "markdown",
            "source": [
                "```sql\n",
                "SELECT\n",
                "    o.OrderId,\n",
                "    o.OrderDate,\n",
                "    SUM(od.Quantity) AS TotalQuantity\n",
                "FROM Sales.[Order] AS o\n",
                "JOIN Sales.OrderDetail AS od\n",
                "  ON od.OrderId = o.OrderId\n",
                "GROUP BY o.OrderId, o.OrderDate\n",
                "HAVING\n",
                "    SUM(od.Quantity) >= 50\n",
                "    AND SUM(CASE WHEN COALESCE(od.DiscountPercentage, 0) > 0 THEN 1 ELSE 0 END) = 0\n",
                "ORDER BY TotalQuantity DESC, o.OrderDate, o.OrderId;\n",
                "```"
            ],
            "metadata": {
                "azdata_cell_guid": "f67410de-827f-42f2-b6fe-afaf85b4a24d"
            }
        },
        {
            "cell_type": "markdown",
            "source": [
                "## **End Case #2 we found no one broke the rules, thats a relief!**"
            ],
            "metadata": {
                "azdata_cell_guid": "0949ad25-8204-4ee2-8a42-9f973d7c1282"
            },
            "attachments": {}
        },
        {
            "cell_type": "markdown",
            "source": [
                "#   \n",
                "\n",
                "# 🔎 MYSTERY #3 — Invisible Inventory (Products Never Ordered)\n",
                "\n",
                "**Database:** `Northwinds2022`  \n",
                "**Theme:** Products that **never** appeared in any order.\n",
                "\n",
                "Case Brief: In the warehouse, dust settles on untouched boxes. But dust isnt tracked in the accounting logs. Inverntory numbers say everything is **active** and that everything is **selling**  but someone noticed something strange : Some products have never been ordered. How can that possibly happen at Northwinds? every prodcut is supposed to a part of the machine. If a product is sitting around? **someone ordered items that we shouldnt even be carrying!! we will find the culprit.**\n",
                "\n",
                "**Begin Case #3**"
            ],
            "metadata": {
                "azdata_cell_guid": "9c1b3c59-a394-4440-97a0-9d5fcf2e2522"
            },
            "attachments": {}
        },
        {
            "cell_type": "markdown",
            "source": [
                "### Step 1 — Sanity check, lets take a look at our product catalog and list everything we sell. This shows everything in our system , whether it sells or not. From names to IDs and descriptions."
            ],
            "metadata": {
                "azdata_cell_guid": "372d4b1a-7cff-45c4-87ac-33010fe411f4"
            },
            "attachments": {}
        },
        {
            "cell_type": "markdown",
            "source": [
                "```sql\n",
                "SELECT TOP (5) * FROM Production.Product;\n",
                "```"
            ],
            "metadata": {
                "azdata_cell_guid": "bb0f9fd1-7005-4655-a4b9-008c8ec7de45"
            }
        },
        {
            "cell_type": "markdown",
            "source": [
                "### Step 2 — Find what has been ordered and lets see the trail of real world demand so if a product appears here, cthen customers actually bought it and if it doesn't? its a ghost product."
            ],
            "metadata": {
                "azdata_cell_guid": "49ba830d-a35a-4c45-a912-b5351b7bfa82"
            },
            "attachments": {}
        },
        {
            "cell_type": "markdown",
            "source": [
                "```\n",
                "\n",
                "-- Set B: ProductIds that appeared in orders\n",
                "SELECT DISTINCT ProductId\n",
                "FROM Sales.OrderDetail;\n",
                "\n",
                "```"
            ],
            "metadata": {
                "azdata_cell_guid": "064496d0-e0ea-43f9-b628-6538f028068e"
            },
            "attachments": {}
        },
        {
            "cell_type": "markdown",
            "source": [
                "### Step 3 — Products with **no** orders (EXCEPT)\n",
                "\n",
                "lets use a set difference to see what exists and what was ever used. The list is all products that exist but never appear in a single order"
            ],
            "metadata": {
                "azdata_cell_guid": "a7fbdcb3-2948-47f3-b826-3b4e1a243b1a"
            },
            "attachments": {}
        },
        {
            "cell_type": "markdown",
            "source": [
                "```sql\n",
                "SELECT ProductId\n",
                "FROM Production.Product\n",
                "EXCEPT\n",
                "SELECT DISTINCT ProductId\n",
                "FROM Sales.OrderDetail;\n",
                "```"
            ],
            "metadata": {
                "azdata_cell_guid": "b7668ae7-94d2-4f4e-8009-34436ec6244a"
            }
        },
        {
            "cell_type": "markdown",
            "source": [
                "SELECT 'No missing products — every product has sales history!' AS Finding;"
            ],
            "metadata": {
                "azdata_cell_guid": "6d699a8b-80ca-4cdc-8618-00e1e78e0215"
            },
            "attachments": {}
        },
        {
            "cell_type": "markdown",
            "source": [
                "If the result is empty: **all catalog products have sales history** → good inventory utilization.  \n",
                "If there are results: these SKUs are **invisible inventory** and should be reviewed and we shoudl find those ghost products."
            ],
            "metadata": {
                "azdata_cell_guid": "706bc1ce-4fd1-4a87-9758-775ddd9962bf"
            },
            "attachments": {}
        },
        {
            "cell_type": "markdown",
            "source": [
                "## **End Case #3 We have somved out mystery. no ghost products exist! great news. although we didn't reveal a culprit we revealed integrity exists even though suspicion lived! sometimes finding nothing wrong is a great thing.**"
            ],
            "metadata": {
                "azdata_cell_guid": "c4cabc05-c889-4692-83a6-f2c705ccf0dc"
            },
            "attachments": {}
        },
        {
            "cell_type": "markdown",
            "source": [
                "# 🔎 MYSTERY #4 — Phantom Big Spenders (Large Order Investigation)\n",
                "\n",
                "**Database:** `Northwinds2022`  \n",
                "**Theme:** Orders whose **value ≥ $5,000**.\n",
                "\n",
                "CASE BRIEF: Some orders are so large that they **distort revenue!** Finance calls them **outliers** but we call them **leads.** we are here to find our largest spenders.. too large.. suspicious. Are they real VIP customers or is someone hiding **fraud** and hiking up our revenues artificially?\n",
                "\n",
                "**Begin Case #4**"
            ],
            "metadata": {
                "azdata_cell_guid": "6b5c1cf0-ed1d-4f58-b3d4-a7c5f901a225"
            },
            "attachments": {}
        },
        {
            "cell_type": "markdown",
            "source": [
                "### Step 1 — Join orders to details\n",
                "\n",
                "lets find what our system considers an order and its details. Just observe."
            ],
            "metadata": {
                "azdata_cell_guid": "d1c403c3-e6f0-4926-a44a-606cc36bac0e"
            },
            "attachments": {}
        },
        {
            "cell_type": "markdown",
            "source": [
                "```sql\n",
                "SELECT\n",
                "    o.OrderId,\n",
                "    o.OrderDate,\n",
                "    od.ProductId,\n",
                "    od.Quantity,\n",
                "    od.UnitPrice,\n",
                "    od.DiscountPercentage\n",
                "FROM Sales.[Order] AS o\n",
                "JOIN Sales.OrderDetail AS od\n",
                "  ON od.OrderId = o.OrderId\n",
                "ORDER BY o.OrderId, od.ProductId;\n",
                "```"
            ],
            "metadata": {
                "azdata_cell_guid": "6756e26e-359a-4f32-a3d7-94703fd5818f"
            }
        },
        {
            "cell_type": "markdown",
            "source": [
                "### Step 2 — Summarize order total- lets now compute each orders true value with any discounts."
            ],
            "metadata": {
                "azdata_cell_guid": "e6fb303c-1daf-4ee2-aca2-ea5266ea1ce3"
            },
            "attachments": {}
        },
        {
            "cell_type": "markdown",
            "source": [
                "```sql\n",
                "SELECT\n",
                "    o.OrderId,\n",
                "    o.OrderDate,\n",
                "    SUM(od.Quantity) AS TotalQuantity,\n",
                "    COUNT(*) AS LineCount,\n",
                "    SUM(od.UnitPrice * od.Quantity * (1 - COALESCE(od.DiscountPercentage, 0))) AS OrderValue\n",
                "FROM Sales.[Order] AS o\n",
                "JOIN Sales.OrderDetail AS od\n",
                "  ON od.OrderId = o.OrderId\n",
                "GROUP BY o.OrderId, o.OrderDate\n",
                "ORDER BY OrderValue DESC;\n",
                "```"
            ],
            "metadata": {
                "azdata_cell_guid": "832269b7-1c8d-41de-bdca-107b6213dbdd"
            }
        },
        {
            "cell_type": "markdown",
            "source": [
                "### Step 3 — Flag big spenders (≥ 5000)- now we are finding some suspects and are isolating our whale customers and if this list comes back long? something will seem fishy, soemthing systemic may be happening. If the list returns short? lets pay attention  to who placed them and when"
            ],
            "metadata": {
                "azdata_cell_guid": "fc381d02-1abd-4bea-aacf-0a961bfa637e"
            },
            "attachments": {}
        },
        {
            "cell_type": "markdown",
            "source": [
                "```sql\n",
                "SELECT\n",
                "    o.OrderId,\n",
                "    o.OrderDate,\n",
                "    SUM(od.Quantity) AS TotalQuantity,\n",
                "    COUNT(*) AS LineCount,\n",
                "    SUM(od.UnitPrice * od.Quantity * (1 - COALESCE(od.DiscountPercentage, 0))) AS OrderValue\n",
                "FROM Sales.[Order] AS o\n",
                "JOIN Sales.OrderDetail AS od\n",
                "  ON od.OrderId = o.OrderId\n",
                "GROUP BY o.OrderId, o.OrderDate\n",
                "HAVING SUM(od.UnitPrice * od.Quantity * (1 - COALESCE(od.DiscountPercentage, 0))) >= 5000\n",
                "ORDER BY OrderValue DESC;\n",
                "```"
            ],
            "metadata": {
                "azdata_cell_guid": "663529a6-3027-4f43-ab92-14966a820ecc"
            }
        },
        {
            "cell_type": "markdown",
            "source": [
                "## **End Case #4 we have found some fishy players in our system.**"
            ],
            "metadata": {
                "azdata_cell_guid": "1101f4e1-7e73-4d8b-8849-c177150c3c0d"
            },
            "attachments": {}
        },
        {
            "cell_type": "markdown",
            "source": [
                "# 🔎 MYSTERY #5 — The Trail of the Late Deliveries\n",
                "\n",
                "**Database:** `Northwinds2022`  \n",
                "**Theme:** Destinations whose **average planned ship time** is unusually high.\n",
                "\n",
                "When packages arrive late, you will always hear complaints. After all? who wants to wait for their package in a world where amazon prime exists and shows up at your doorstep in a day or two. One or two late packages is fine but if they arrive consistently late? thats a problem. If its a pattern let's find it.\n",
                "\n",
                "**Begin Case #5**"
            ],
            "metadata": {
                "azdata_cell_guid": "3dbe10d8-2e4c-482e-8516-b58d13d412c0"
            },
            "attachments": {}
        },
        {
            "cell_type": "markdown",
            "source": [
                "### Step 1 — Collect the delivery timeline- we only care about orders already shipped with some timestamp. This shows when an order was placed and when it was shipped."
            ],
            "metadata": {
                "azdata_cell_guid": "dbab9e84-8350-4235-a1ab-56558c95fb1d"
            },
            "attachments": {}
        },
        {
            "cell_type": "markdown",
            "source": [
                "```sql\n",
                "SELECT\n",
                "    o.OrderId,\n",
                "    o.OrderDate,\n",
                "    o.ShipToDate,\n",
                "    o.ShipToCountry\n",
                "FROM Sales.[Order] AS o\n",
                "WHERE o.ShipToDate IS NOT NULL\n",
                "ORDER BY o.OrderId;\n",
                "```"
            ],
            "metadata": {
                "azdata_cell_guid": "9cfac0c3-879e-4f09-8931-bc802a1c999c"
            }
        },
        {
            "cell_type": "markdown",
            "source": [
                "### Step 2 — Compute days between order and ship dates- here we are just measuring delays and a shipping delay is just time."
            ],
            "metadata": {
                "azdata_cell_guid": "c97d6a14-6835-4a1f-a5b9-27323c6d7dc0"
            },
            "attachments": {}
        },
        {
            "cell_type": "markdown",
            "source": [
                "```sql\n",
                "SELECT\n",
                "    o.OrderId,\n",
                "    o.OrderDate,\n",
                "    o.ShipToDate,\n",
                "    o.ShipToCountry,\n",
                "    DATEDIFF(day, o.OrderDate, o.ShipToDate) AS PlannedNumberShipDays\n",
                "FROM Sales.[Order] AS o\n",
                "WHERE o.ShipToDate IS NOT NULL\n",
                "ORDER BY PlannedNumberShipDays DESC, o.OrderId;\n",
                "```"
            ],
            "metadata": {
                "azdata_cell_guid": "30a69e13-8c70-40d5-b596-f236881212db"
            }
        },
        {
            "cell_type": "markdown",
            "source": [
                "### Step 3 — Lets find the countries with slow shipping ( on average greater than or equal to 8 days). If a single order to ireland is slow? thats life but if its always slow? thats a systemic shipping issue there. Now we see who waits the longest"
            ],
            "metadata": {
                "azdata_cell_guid": "43179979-14db-48f9-b59b-9b4ca831ed59"
            },
            "attachments": {}
        },
        {
            "cell_type": "markdown",
            "source": [
                "```sql\n",
                "SELECT\n",
                "    o.ShipToCountry,\n",
                "    AVG(DATEDIFF(day, o.OrderDate, o.ShipToDate)) AS AvgPlannedShipDays,\n",
                "    COUNT(*) AS OrdersCount\n",
                "FROM Sales.[Order] AS o\n",
                "WHERE o.ShipToDate IS NOT NULL\n",
                "GROUP BY o.ShipToCountry\n",
                "ORDER BY AvgPlannedShipDays DESC, OrdersCount DESC;\n",
                "```"
            ],
            "metadata": {
                "azdata_cell_guid": "9f493cb7-9437-4d19-87c6-81b1ee4114fa"
            }
        },
        {
            "cell_type": "markdown",
            "source": [
                "### Step 4 — Flag destinations with long averages ( ≥ 8 days) - this is structurally slow, and these countries may be victims of bad trading routes or bad policy but it seems like no one corrected this issue. Ireland, Sweden and United States. The reasons dont matter but the outcomes are the same. Why didn't anyone try to fix this??"
            ],
            "metadata": {
                "azdata_cell_guid": "c974e575-6452-43bf-a32c-d5338f45a850"
            },
            "attachments": {}
        },
        {
            "cell_type": "markdown",
            "source": [
                "```sql\n",
                "SELECT\n",
                "    o.ShipToCountry,\n",
                "    AVG(DATEDIFF(day, o.OrderDate, o.ShipToDate)) AS AvgPlannedShipDays,\n",
                "    COUNT(*) AS OrdersCount\n",
                "FROM Sales.[Order] AS o\n",
                "WHERE o.ShipToDate IS NOT NULL\n",
                "GROUP BY o.ShipToCountry\n",
                "HAVING AVG(DATEDIFF(day, o.OrderDate, o.ShipToDate)) >= 8\n",
                "ORDER BY AvgPlannedShipDays DESC, OrdersCount DESC, o.ShipToCountry;\n",
                "```"
            ],
            "metadata": {
                "azdata_cell_guid": "acce42c1-9f1c-4c09-b5a7-91d09043cd20"
            }
        },
        {
            "cell_type": "markdown",
            "source": [
                "##  **End Case #5 Ireland, Sweden, USA** we have a problem."
            ],
            "metadata": {
                "azdata_cell_guid": "08921d5c-6498-4678-a034-eedaaf1a6298"
            },
            "attachments": {}
        },
        {
            "cell_type": "markdown",
            "source": [
                "# 🔎 MYSTERY #6 — The Supplier’s Favorite \n",
                "\n",
                "**Database:** `Northwinds2022`  \n",
                "**Theme:** Employees funneling orders to **just one** shipper (supplier).\n",
                "\n",
                "Case Brief: some secrets are written in patterns. Northwinds Purchasing claims every supplier gets a fair shot with equl opportunity. But there is a rumor going around that someone in the purchasing department has a **favorite supplier.**  They might be funneling orders their way over others. We have 1 job, prove or disprove any favoritisim.\n",
                "\n",
                "**Begin Case #6**"
            ],
            "metadata": {
                "azdata_cell_guid": "a1276ddc-2922-4521-a19a-bf7d37c58090"
            },
            "attachments": {}
        },
        {
            "cell_type": "markdown",
            "source": [
                "### Step 1 — Inspect employees and their shippers- let's have a look at who orders from who. Every single order has 2 key fingerprints. The one who placed it and who fulfilled that order. We can now see the flow from emloyee to supplier."
            ],
            "metadata": {
                "azdata_cell_guid": "23ff7273-d7f8-46e6-92f0-9fd25793607f"
            },
            "attachments": {}
        },
        {
            "cell_type": "markdown",
            "source": [
                "```sql\n",
                "SELECT\n",
                "    o.OrderId,\n",
                "    o.EmployeeId,\n",
                "    o.ShipperId AS SupplierID\n",
                "FROM Sales.[Order] AS o\n",
                "ORDER BY o.EmployeeId, SupplierID;\n",
                "```"
            ],
            "metadata": {
                "azdata_cell_guid": "726f64fa-03a0-434f-a45f-b7b5a23cd2aa"
            }
        },
        {
            "cell_type": "markdown",
            "source": [
                "### Step 2 — Count orders per (Employee, Supplier)- Where behavior stops being random. If an employee sends 50 orders to supplier A and 0 to everyone else... we have some pattern with motive here/"
            ],
            "metadata": {
                "azdata_cell_guid": "58f1d957-d890-48eb-a5a5-39e2c24b1d8a"
            },
            "attachments": {}
        },
        {
            "cell_type": "markdown",
            "source": [
                "```sql\n",
                "SELECT\n",
                "    o.EmployeeId,\n",
                "    o.ShipperId AS SupplierID,\n",
                "    COUNT(*) AS OrdersPlaced\n",
                "FROM Sales.[Order] AS o\n",
                "GROUP BY o.EmployeeId, o.ShipperId\n",
                "ORDER BY o.EmployeeId, OrdersPlaced DESC;\n",
                "```"
            ],
            "metadata": {
                "azdata_cell_guid": "597f9863-7d72-4872-8191-ce18caa6fe38"
            }
        },
        {
            "cell_type": "markdown",
            "source": [
                "### Step 3 — Who uses only one supplier? This is where our mystery cracks open and any Employees with a DistinctSupplierUsed = 1 are the suspects.."
            ],
            "metadata": {
                "azdata_cell_guid": "725fa226-b661-420c-8637-b1a45012c0a5"
            },
            "attachments": {}
        },
        {
            "cell_type": "markdown",
            "source": [
                "```sql\n",
                "SELECT\n",
                "    o.EmployeeId,\n",
                "    COUNT(DISTINCT o.ShipperId) AS DistinctSuppliersUsed,\n",
                "    COUNT(*) AS TotalOrders\n",
                "FROM Sales.[Order] AS o\n",
                "GROUP BY o.EmployeeId\n",
                "HAVING COUNT(DISTINCT o.ShipperId) = 1\n",
                "ORDER BY TotalOrders DESC;\n",
                "```"
            ],
            "metadata": {
                "azdata_cell_guid": "90485999-1e11-4326-a4b3-0369572a93e3"
            }
        },
        {
            "cell_type": "markdown",
            "source": [
                "## **End Case #6 this query returned empty- the rumors were just rumors.**"
            ],
            "metadata": {
                "azdata_cell_guid": "235f32cb-4a59-4be4-82db-db8a2358d205"
            },
            "attachments": {}
        },
        {
            "cell_type": "markdown",
            "source": [
                "# 🔎 MYSTERY #7 — The Silent Customers (Never Placed an Order)\n",
                "\n",
                "  \n",
                "\n",
                "**Database:** `Northwinds2022`  \n",
                "**Theme:** Find customers with **no** matching orders.\n",
                "\n",
                "Case Brief: Silent customers remain a mystery/ Northwinds has a full directory of Names, Companies, Addresses, and Phone numbers. But not every customer actually does business with us. In business, a customer who never orders is a lead that went cold, lost revenue, and a record that shouldnt be in the system at all. We are about to separate our buyers from our ghosts.\n",
                "\n",
                "**Begin Case #7**"
            ],
            "metadata": {
                "azdata_cell_guid": "33f6fdb7-ce89-4605-bcfa-85774a74d1f6"
            },
            "attachments": {}
        },
        {
            "cell_type": "markdown",
            "source": [
                "### Step 1 — Peek both sides- before we filter anything at all, let's look at our customer book with everyone we sell to. Customer lists and orders dont always overlap."
            ],
            "metadata": {
                "azdata_cell_guid": "021af999-0e44-4a82-946d-146a3cab486f"
            },
            "attachments": {}
        },
        {
            "cell_type": "markdown",
            "source": [
                "```sql\n",
                "SELECT TOP (10) *\n",
                "FROM Sales.Customer\n",
                "ORDER BY CustomerId;\n",
                "\n",
                "SELECT TOP (10) *\n",
                "FROM Sales.[Order]\n",
                "ORDER BY OrderId;\n",
                "```"
            ],
            "metadata": {
                "azdata_cell_guid": "12b0b270-cf10-4f8e-a908-fc581b257740"
            }
        },
        {
            "cell_type": "markdown",
            "source": [
                "### Step 2 — Left join customers to orders- why left join? to keep all customers, even if they never ordered and this will show us customers who have orders and customers who do not."
            ],
            "metadata": {
                "azdata_cell_guid": "7753b2d9-f720-4f4c-8f5e-8bca6aa56076"
            },
            "attachments": {}
        },
        {
            "cell_type": "markdown",
            "source": [
                "```sql\n",
                "SELECT\n",
                "    c.CustomerId,\n",
                "    c.CustomerCompanyName,\n",
                "    o.OrderId\n",
                "FROM Sales.Customer AS c\n",
                "LEFT JOIN Sales.[Order] AS o\n",
                "  ON o.CustomerId = c.CustomerId\n",
                "ORDER BY c.CustomerId;\n",
                "```"
            ],
            "metadata": {
                "azdata_cell_guid": "a9299a6d-3187-4e72-8a51-a24ab18dbb16"
            }
        },
        {
            "cell_type": "markdown",
            "source": [
                "### Step 3 — Filter to silent customers- there are customers whp exisr in the directory but have never bought a single product.. why were they entered? were they forgotten by our sales team? or do they not like our products? there must be a reason. Regardless of the reason, their silence has meaning to us."
            ],
            "metadata": {
                "azdata_cell_guid": "e1e0b1f1-abaf-4433-a391-10c0047d7062"
            },
            "attachments": {}
        },
        {
            "cell_type": "markdown",
            "source": [
                "```sql\n",
                "SELECT\n",
                "    c.CustomerId,\n",
                "    c.CustomerCompanyName,\n",
                "    c.CustomerContactName,\n",
                "    c.CustomerCountry\n",
                "FROM Sales.Customer AS c\n",
                "LEFT JOIN Sales.[Order] AS o\n",
                "  ON o.CustomerId = c.CustomerId\n",
                "WHERE o.OrderId IS NULL\n",
                "ORDER BY c.CustomerCountry, c.CustomerCompanyName;\n",
                "```"
            ],
            "metadata": {
                "azdata_cell_guid": "bcd0f2d4-bbdd-4ea5-ba15-e1b187c4dac9"
            }
        },
        {
            "cell_type": "markdown",
            "source": [
                "### Step 4 — Add phone numbers for outreach- how about we reach out to them? Let's turn this into a business opportunity and win them back!!"
            ],
            "metadata": {
                "azdata_cell_guid": "0b5d489e-7ebe-4a5a-a443-fd169be41edd"
            },
            "attachments": {}
        },
        {
            "cell_type": "markdown",
            "source": [
                "```sql\n",
                "SELECT\n",
                "    c.CustomerId,\n",
                "    c.CustomerCompanyName,\n",
                "    c.CustomerContactName,\n",
                "    c.CustomerCountry,\n",
                "    c.CustomerPhoneNumber\n",
                "FROM Sales.Customer AS c\n",
                "LEFT JOIN Sales.[Order] AS o\n",
                "  ON o.CustomerId = c.CustomerId\n",
                "WHERE o.OrderId IS NULL\n",
                "ORDER BY c.CustomerCountry, c.CustomerCompanyName;\n",
                "```"
            ],
            "metadata": {
                "azdata_cell_guid": "05ee2570-dee7-416c-b77f-412b2a33349d"
            }
        },
        {
            "cell_type": "markdown",
            "source": [
                "## **End Case #7- our suspects have been found! Bjorn Tollevsen and Jim Daly. Northwinds would love to have your business in the future.**"
            ],
            "metadata": {
                "azdata_cell_guid": "12aa8b66-0856-4b38-b6e4-8f16b51990f9"
            },
            "attachments": {}
        },
        {
            "cell_type": "markdown",
            "source": [
                "## What the data whispered\n",
                "\n",
                "- We tracked **discount leaks**, **phantom big orders**, **slow lanes**, **supplier bias**, and **silent customers**.\n",
                "- Each case used **basic SQL**: `SELECT`, `JOIN`, `GROUP BY`, `HAVING`, `ORDER BY`, and a bit of `EXCEPT`.\n",
                "- The story continues wherever the data leads.\n",
                "\n",
                "**Thanks for playing SQL Noir.**\n",
                "\n",
                "**NOTE: Mystery 1 had the help of CHATGPT (LLM) to create the tables and place them into a custom database**\n",
                "\n",
                "**Mystery 3, 5 and 7 were also done with aid of CHATGPT when i got stuck on a particular solution.**"
            ],
            "metadata": {
                "azdata_cell_guid": "5659d18d-c4eb-4149-a29f-070fcd3156b1"
            },
            "attachments": {}
        }
    ]
}