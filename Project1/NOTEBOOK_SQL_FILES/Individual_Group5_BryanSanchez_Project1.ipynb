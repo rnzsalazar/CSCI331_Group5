{
    "cells": [
        {
            "attachments": {},
            "cell_type": "markdown",
            "metadata": {
                "azdata_cell_guid": "6a113c47-5e71-4670-a85c-11b12528b8be"
            },
            "source": [
                "# <span style=\"font-size:23pt;font-family:Arial,sans-serif;color:#000000;background-color:#ffffff;font-weight:400;font-style:normal;font-variant:normal;text-decoration:none;vertical-align:baseline;white-space:pre;white-space:pre-wrap;\">Bryan Sanchez - SQL NOIR Mystery Cases</span>\n",
                "\n",
                "<span style=\"font-size: 10.5pt; font-family: Arial, sans-serif; color: rgb(0, 0, 0); background-color: rgb(255, 255, 255); font-variant-numeric: normal; font-variant-east-asian: normal; font-variant-alternates: normal; font-variant-position: normal; vertical-align: baseline; white-space-collapse: preserve;\">*used white highlight for text to see it on vscode</span>"
            ]
        },
        {
            "attachments": {},
            "cell_type": "markdown",
            "metadata": {
                "azdata_cell_guid": "5f237d27-f329-4d19-b583-28b429fc4f8f"
            },
            "source": [
                "<span style=\"font-size:17pt;font-family:Arial,sans-serif;color:#000000;background-color:#ffffff;font-weight:400;font-style:normal;font-variant:normal;text-decoration:none;vertical-align:baseline;white-space:pre;white-space:pre-wrap;\">Case #1: The Van Heist</span>\n",
                "\n",
                "<span style=\"font-size:11pt;font-family:Arial,sans-serif;color:#000000;background-color:#ffffff;font-weight:400;font-style:normal;font-variant:normal;text-decoration:none;vertical-align:baseline;white-space:pre;white-space:pre-wrap;\">Target:</span><span style=\"background-color: rgb(255, 255, 255); color: rgb(0, 0, 0); font-family: Arial, sans-serif; font-size: 10.5pt; white-space-collapse: preserve;\">Find out which delivery went missing.You’ll look for invoices connected to a specific delivery method (like “Delivery Van”) and see who was responsible for it.</span>\n",
                "\n",
                "<span style=\"font-size:11pt;font-family:Arial,sans-serif;color:#000000;background-color:#ffffff;font-weight:400;font-style:normal;font-variant:normal;text-decoration:none;vertical-align:baseline;white-space:pre;white-space:pre-wrap;\">Objectives: </span>   \n",
                "\n",
                "<span style=\"font-size:11pt;font-family:Arial,sans-serif;color:#000000;background-color:#ffffff;font-weight:400;font-style:normal;font-variant:normal;text-decoration:none;vertical-align:baseline;white-space:pre;white-space:pre-wrap;\">1)</span><span style=\"font-size:10.5pt;font-family:Arial,sans-serif;color:#000000;background-color:#ffffff;font-weight:400;font-style:normal;font-variant:normal;text-decoration:none;vertical-align:baseline;white-space:pre;white-space:pre-wrap;\">Get Delivery Van’s ID</span>\n",
                "\n",
                "<span style=\"font-size:11pt;font-family:Arial,sans-serif;color:#000000;background-color:#ffffff;font-weight:400;font-style:normal;font-variant:normal;text-decoration:none;vertical-align:baseline;white-space:pre;white-space:pre-wrap;\">2)</span><span style=\"font-size:10.5pt;font-family:Arial,sans-serif;color:#000000;background-color:#ffffff;font-weight:400;font-style:normal;font-variant:normal;text-decoration:none;vertical-align:baseline;white-space:pre;white-space:pre-wrap;\">Among van-shipped invoices, compute line‑ level discount vs catalog and pick the highest</span>\n",
                "\n",
                "<span style=\"font-size: 11pt; font-family: Arial, sans-serif; color: rgb(0, 0, 0); background-color: rgb(255, 255, 255); font-variant-numeric: normal; font-variant-east-asian: normal; font-variant-alternates: normal; font-variant-position: normal; vertical-align: baseline; white-space-collapse: preserve;\">3)</span><span style=\"font-size: 10.5pt; font-family: Arial, sans-serif; color: rgb(0, 0, 0); background-color: rgb(255, 255, 255); font-variant-numeric: normal; font-variant-east-asian: normal; font-variant-alternates: normal; font-variant-position: normal; vertical-align: baseline; white-space-collapse: preserve;\">Identify the salesperson</span>"
            ]
        },
        {
            "cell_type": "code",
            "execution_count": null,
            "metadata": {
                "azdata_cell_guid": "156b8016-fec5-4a48-b032-b50238b8d82e",
                "language": "sql"
            },
            "outputs": [],
            "source": [
                "-- CLUE 1 DeliveryMethodID for 'Delivery Van' (Application.DeliveryMethods)\n",
                "USE WideWorldImporters;\n",
                "SELECT DeliveryMethodID\n",
                "FROM Application.DeliveryMethods\n",
                "WHERE DeliveryMethodName = N'Delivery Van';"
            ]
        },
        {
            "cell_type": "code",
            "execution_count": null,
            "metadata": {
                "azdata_cell_guid": "22b8c7d3-e6c0-47a2-b22a-8fb5808588fe",
                "language": "sql",
                "tags": []
            },
            "outputs": [],
            "source": [
                "--CLUE 2 Largest discount using that method (Sales.Invoices + Sales.InvoiceLines + Warehouse.StockItems)\n",
                "DECLARE @VanID int = (\n",
                " SELECT DeliveryMethodID FROM Application.DeliveryMethods WHERE\n",
                "DeliveryMethodName = N'Delivery Van'\n",
                ");\n",
                "WITH Deals AS (\n",
                " SELECT i.InvoiceID, i.InvoiceDate, i.SalespersonPersonID,\n",
                " CAST((si.UnitPrice - il.UnitPrice)/NULLIF(si.UnitPrice,0.0) AS\n",
                "decimal(10,4)) AS DiscRatio\n",
                " FROM Sales.Invoices i\n",
                " JOIN Sales.InvoiceLines il ON il.InvoiceID = i.InvoiceID\n",
                " JOIN Warehouse.StockItems si ON si.StockItemID = il.StockItemID\n",
                " WHERE i.DeliveryMethodID = @VanID\n",
                " AND i.InvoiceDate >= DATEADD(day,-60,(SELECT MAX(InvoiceDate) FROM\n",
                "Sales.Invoices))\n",
                ")\n",
                "SELECT TOP (1) * FROM Deals ORDER BY DiscRatio DESC, InvoiceDate DESC;"
            ]
        },
        {
            "cell_type": "code",
            "execution_count": null,
            "metadata": {
                "azdata_cell_guid": "48ef51f1-955a-4a8a-adeb-abca2ef0a1de",
                "language": "sql",
                "tags": []
            },
            "outputs": [],
            "source": [
                "-- CLUE 3 Salesperson’s name (Application.People)\n",
                "SELECT FullName AS Salesperson\n",
                "FROM Application.People\n",
                "WHERE PersonID = 8;"
            ]
        },
        {
            "attachments": {},
            "cell_type": "markdown",
            "metadata": {
                "azdata_cell_guid": "26e0c19e-4fa7-4ffd-a9a7-4a0ac72d3352"
            },
            "source": [
                "<span style=\"font-size:17pt;font-family:Arial,sans-serif;color:#000000;background-color:#ffffff;font-weight:400;font-style:normal;font-variant:normal;text-decoration:none;vertical-align:baseline;white-space:pre;white-space:pre-wrap;\">Case #2: The Ghost Orders</span>\n",
                "\n",
                "<span style=\"font-size:11pt;font-family:Arial,sans-serif;color:#000000;background-color:#ffffff;font-weight:400;font-style:normal;font-variant:normal;text-decoration:none;vertical-align:baseline;white-space:pre;white-space:pre-wrap;\">Target:</span><span style=\"background-color: rgb(255, 255, 255); color: rgb(0, 0, 0); font-family: Arial, sans-serif; font-size: 10.5pt; white-space-collapse: preserve;\">Find customers who placed orders but never got an invoice.You’ll check which customer has the most unbilled orders and which salesperson handled them.</span>\n",
                "\n",
                "<span style=\"font-size:10.5pt;font-family:Arial,sans-serif;color:#000000;background-color:#ffffff;font-weight:400;font-style:normal;font-variant:normal;text-decoration:none;vertical-align:baseline;white-space:pre;white-space:pre-wrap;\">Objectives</span>\n",
                "\n",
                "<span style=\"font-size:10.5pt;font-family:Arial,sans-serif;color:#000000;background-color:#ffffff;font-weight:400;font-style:normal;font-variant:normal;text-decoration:none;vertical-align:baseline;white-space:pre;white-space:pre-wrap;\">1) Find orders without invoices</span>\n",
                "\n",
                "<span style=\"font-size:10.5pt;font-family:Arial,sans-serif;color:#000000;background-color:#ffffff;font-weight:400;font-style:normal;font-variant:normal;text-decoration:none;vertical-align:baseline;white-space:pre;white-space:pre-wrap;\">2) Name the top customer</span>\n",
                "\n",
                "<span style=\"font-size:10.5pt;font-family:Arial,sans-serif;color:#000000;background-color:#ffffff;font-weight:400;font-style:normal;font-variant:normal;text-decoration:none;vertical-align:baseline;white-space:pre;white-space:pre-wrap;\">3) Find the rep linked to those misses</span>"
            ]
        },
        {
            "cell_type": "code",
            "execution_count": null,
            "metadata": {
                "azdata_cell_guid": "18ee0c22-b0bc-46d7-a0cf-522ba41d7447",
                "language": "sql"
            },
            "outputs": [],
            "source": [
                "-- CLUE 1 Orders missing invoices (from Sales.Orders to Sales.Invoices)\n",
                "DECLARE @MaxOrderDate date = (SELECT MAX(OrderDate) FROM Sales.Orders);\n",
                "\n",
                "SELECT TOP (1) CustomerID, COUNT(*) AS MissingCount\n",
                "FROM (\n",
                "  SELECT o.OrderID, o.CustomerID, o.SalespersonPersonID\n",
                "  FROM Sales.Orders o\n",
                "  LEFT JOIN Sales.Invoices i ON i.OrderID = o.OrderID\n",
                "  WHERE i.InvoiceID IS NULL\n",
                "    AND o.OrderDate >= DATEADD(day,-30,@MaxOrderDate)\n",
                ") AS NoInvoice\n",
                "GROUP BY CustomerID\n",
                "ORDER BY MissingCount DESC;\n"
            ]
        },
        {
            "cell_type": "code",
            "execution_count": null,
            "metadata": {
                "azdata_cell_guid": "e99ec7fc-9f4f-4ea4-aed6-6750af9d740a",
                "language": "sql"
            },
            "outputs": [],
            "source": [
                "-- CLUE 2 get Customer name (Sales.Customers)\n",
                "SELECT CustomerID, CustomerName\n",
                "FROM Sales.Customers\n",
                "WHERE CustomerID = 153;\n"
            ]
        },
        {
            "cell_type": "code",
            "execution_count": null,
            "metadata": {
                "azdata_cell_guid": "4a690aa0-67ee-4e5c-b1dc-890479c3e521",
                "language": "sql"
            },
            "outputs": [],
            "source": [
                "-- CLUE 3 Rep with most misses (Application.People)\n",
                "DECLARE @CustomerID int = 153;\n",
                "\n",
                "SELECT TOP (1)\n",
                "       ISNULL(p.FullName,'(Unassigned)') AS Salesperson,\n",
                "       COUNT(*) AS Missed\n",
                "FROM (\n",
                "  SELECT o.OrderID, o.CustomerID, o.SalespersonPersonID\n",
                "  FROM Sales.Orders o\n",
                "  LEFT JOIN Sales.Invoices i ON i.OrderID = o.OrderID\n",
                "  WHERE i.InvoiceID IS NULL\n",
                "    AND o.OrderDate >= DATEADD(day,-30,(SELECT MAX(OrderDate) FROM Sales.Orders))\n",
                "    AND o.CustomerID = @CustomerID\n",
                ") AS NoInvoice\n",
                "LEFT JOIN Application.People p ON p.PersonID = NoInvoice.SalespersonPersonID\n",
                "GROUP BY ISNULL(p.FullName,'(Unassigned)')\n",
                "ORDER BY Missed DESC, Salesperson;"
            ]
        },
        {
            "attachments": {},
            "cell_type": "markdown",
            "metadata": {
                "azdata_cell_guid": "c7e29bfc-8872-4b59-8494-5cdef45584f3"
            },
            "source": [
                "<span style=\"font-size: 17pt; font-family: Arial, sans-serif; color: rgb(0, 0, 0); background-color: rgb(255, 255, 255); font-variant-numeric: normal; font-variant-east-asian: normal; font-variant-alternates: normal; font-variant-position: normal; vertical-align: baseline; white-space-collapse: preserve;\">Case #3: Selling On Empty</span>\n",
                "\n",
                "<span style=\"font-size: 11pt; font-family: Arial, sans-serif; color: rgb(0, 0, 0); background-color: rgb(255, 255, 255); font-variant-numeric: normal; font-variant-east-asian: normal; font-variant-alternates: normal; font-variant-position: normal; vertical-align: baseline; white-space-collapse: preserve;\">Target:</span><span style=\"background-color: rgb(255, 255, 255); color: rgb(0, 0, 0); font-family: Arial, sans-serif; font-size: 10.5pt; white-space-collapse: preserve;\">Find which items are being sold even though the stock is too low.Then, track which supplier provides that product.</span>\n",
                "\n",
                "<span style=\"font-size: 10.5pt; font-family: Arial, sans-serif; color: rgb(0, 0, 0); background-color: rgb(255, 255, 255); font-variant-numeric: normal; font-variant-east-asian: normal; font-variant-alternates: normal; font-variant-position: normal; vertical-align: baseline; white-space-collapse: preserve;\">Objectives</span>\n",
                "\n",
                "<span style=\"font-size: 10.5pt; font-family: Arial, sans-serif; color: rgb(0, 0, 0); background-color: rgb(255, 255, 255); font-variant-numeric: normal; font-variant-east-asian: normal; font-variant-alternates: normal; font-variant-position: normal; vertical-align: baseline; white-space-collapse: preserve;\">1) List Low-Stock Items</span>\n",
                "\n",
                "<span style=\"font-size: 10.5pt; font-family: Arial, sans-serif; color: rgb(0, 0, 0); background-color: rgb(255, 255, 255); font-variant-numeric: normal; font-variant-east-asian: normal; font-variant-alternates: normal; font-variant-position: normal; vertical-align: baseline; white-space-collapse: preserve;\">2) See if any sold this week</span>\n",
                "\n",
                "<span style=\"background-color: rgb(255, 255, 255); color: rgb(0, 0, 0); font-family: Arial, sans-serif; font-size: 10.5pt; white-space-collapse: preserve;\">3)</span><span style=\"background-color: rgb(255, 255, 255); color: rgb(0, 0, 0); font-family: Arial, sans-serif; font-size: 10.5pt; white-space-collapse: preserve;\">Find the supplier for one such item</span>"
            ]
        },
        {
            "cell_type": "code",
            "execution_count": null,
            "metadata": {
                "azdata_cell_guid": "4d75c51c-2dfe-442c-b916-7c72079a2f73",
                "language": "sql",
                "tags": []
            },
            "outputs": [],
            "source": [
                "-- CLUE 1 Low stock items (Warehouse.StockItemHoldings + Warehouse.StockItems)\n",
                "SELECT TOP (10) *\n",
                "FROM (\n",
                "  SELECT si.StockItemID, si.StockItemName, sh.QuantityOnHand, sh.ReorderLevel,\n",
                "         (sh.ReorderLevel - sh.QuantityOnHand) AS Deficit\n",
                "  FROM Warehouse.StockItemHoldings sh\n",
                "  JOIN Warehouse.StockItems si ON si.StockItemID = sh.StockItemID\n",
                "  WHERE sh.QuantityOnHand < sh.ReorderLevel\n",
                ") AS Low\n",
                "ORDER BY Deficit DESC;"
            ]
        },
        {
            "cell_type": "code",
            "execution_count": null,
            "metadata": {
                "azdata_cell_guid": "01826091-92d3-4e91-ba05-34db08657444",
                "language": "sql"
            },
            "outputs": [],
            "source": [
                "-- CLUE 2 Recent sales for one candidate (Sales.InvoiceLines + Sales.Invoices)\n",
                "DECLARE @ItemID int = 184;\n",
                "SELECT TOP (1) il.InvoiceID, i.InvoiceDate\n",
                "FROM Sales.InvoiceLines il JOIN Sales.Invoices i ON i.InvoiceID = il.InvoiceID\n",
                "WHERE il.StockItemID = @ItemID\n",
                " AND i.InvoiceDate >= DATEADD(day,-7,(SELECT MAX(InvoiceDate) FROM\n",
                "Sales.Invoices))\n",
                "ORDER BY i.InvoiceDate DESC;\n"
            ]
        },
        {
            "cell_type": "code",
            "execution_count": null,
            "metadata": {
                "azdata_cell_guid": "a59bfef4-3172-43ab-8ce7-06ba20bb8f17",
                "language": "sql"
            },
            "outputs": [],
            "source": [
                "-- CLUE 3 Supplier (Purchasing.Suppliers)\n",
                "SELECT s.SupplierName\n",
                "FROM Purchasing.Suppliers s\n",
                "JOIN Warehouse.StockItems si ON si.SupplierID = s.SupplierID\n",
                "WHERE si.StockItemID = @ItemID;\n"
            ]
        },
        {
            "attachments": {},
            "cell_type": "markdown",
            "metadata": {
                "azdata_cell_guid": "78df53d2-60c3-4f16-9cf1-4ed6682fb7a8"
            },
            "source": [
                "<span style=\"font-size: 17pt; font-family: Arial, sans-serif; color: rgb(0, 0, 0); background-color: rgb(255, 255, 255); font-variant-numeric: normal; font-variant-east-asian: normal; font-variant-alternates: normal; font-variant-position: normal; vertical-align: baseline; white-space-collapse: preserve;\">Case #4: Purchasing Order Similarity</span>\n",
                "\n",
                "<span style=\"font-size: 11pt; font-family: Arial, sans-serif; color: rgb(0, 0, 0); background-color: rgb(255, 255, 255); font-variant-numeric: normal; font-variant-east-asian: normal; font-variant-alternates: normal; font-variant-position: normal; vertical-align: baseline; white-space-collapse: preserve;\">Target:</span><span style=\"background-color: rgb(255, 255, 255); color: rgb(0, 0, 0); font-family: Arial, sans-serif; font-size: 11pt; white-space-collapse: preserve;\">Find customers who reused the same purchase order number more than once.Then, check which invoice was created with that repeated order.</span>\n",
                "\n",
                "<span style=\"font-size: 10.5pt; font-family: Arial, sans-serif; color: rgb(0, 0, 0); background-color: rgb(255, 255, 255); font-variant-numeric: normal; font-variant-east-asian: normal; font-variant-alternates: normal; font-variant-position: normal; vertical-align: baseline; white-space-collapse: preserve;\">Objectives</span>\n",
                "\n",
                "<span style=\"font-size: 10.5pt; font-family: Arial, sans-serif; color: rgb(0, 0, 0); background-color: rgb(255, 255, 255); font-variant-numeric: normal; font-variant-east-asian: normal; font-variant-alternates: normal; font-variant-position: normal; vertical-align: baseline; white-space-collapse: preserve;\">1) Detect duplicate customer PO numbers</span>\n",
                "\n",
                "<span style=\"font-size: 10.5pt; font-family: Arial, sans-serif; color: rgb(0, 0, 0); background-color: rgb(255, 255, 255); font-variant-numeric: normal; font-variant-east-asian: normal; font-variant-alternates: normal; font-variant-position: normal; vertical-align: baseline; white-space-collapse: preserve;\">2) Confirm at least one became an invoice</span>"
            ]
        },
        {
            "cell_type": "code",
            "execution_count": null,
            "metadata": {
                "azdata_cell_guid": "a891aea0-26d9-430b-9b62-8beac213cb77",
                "language": "sql"
            },
            "outputs": [],
            "source": [
                "-- CLUE 1 Duplicate POs (Sales.Orders)\n",
                "USE WideWorldImporters;\n",
                "\n",
                "DECLARE @MaxOrderDate date = (SELECT MAX(OrderDate) FROM Sales.Orders);\n",
                "\n",
                "SELECT TOP (1)\n",
                "       o.CustomerID,\n",
                "       o.CustomerPurchaseOrderNumber AS PO,\n",
                "       COUNT(*) AS Uses\n",
                "FROM Sales.Orders AS o\n",
                "WHERE o.CustomerPurchaseOrderNumber IS NOT NULL\n",
                "  AND o.OrderDate >= DATEADD(day, -180, @MaxOrderDate)\n",
                "GROUP BY o.CustomerID, o.CustomerPurchaseOrderNumber\n",
                "HAVING COUNT(*) > 1\n",
                "ORDER BY Uses DESC, o.CustomerPurchaseOrderNumber;\n"
            ]
        },
        {
            "cell_type": "code",
            "execution_count": null,
            "metadata": {
                "azdata_cell_guid": "ba380b4b-0246-4854-a2e4-fd247b5101dc",
                "language": "sql"
            },
            "outputs": [],
            "source": [
                "-- CLUE 2 Invoice trail (Sales.Invoices)\n",
                "DECLARE @CustomerID int = 65\n",
                "DECLARE @PO nvarchar(50) = 10097\n",
                "\n",
                "SELECT TOP (1)\n",
                "       i.InvoiceID,\n",
                "       i.InvoiceDate,\n",
                "       c.CustomerName\n",
                "FROM Sales.Invoices AS i\n",
                "JOIN Sales.Orders   AS o ON o.OrderID = i.OrderID\n",
                "JOIN Sales.Customers AS c ON c.CustomerID = o.CustomerID\n",
                "WHERE o.CustomerID = @CustomerID\n",
                "  AND o.CustomerPurchaseOrderNumber = @PO\n",
                "ORDER BY i.InvoiceDate;"
            ]
        },
        {
            "attachments": {},
            "cell_type": "markdown",
            "metadata": {
                "azdata_cell_guid": "89fae442-fa50-4217-afb0-1b05ade89d6b"
            },
            "source": [
                "<span style=\"font-size:17pt;font-family:Arial,sans-serif;color:#000000;background-color:#ffffff;font-weight:400;font-style:normal;font-variant:normal;text-decoration:none;vertical-align:baseline;white-space:pre;white-space:pre-wrap;\">Case #5: The Slowest Lane</span>\n",
                "\n",
                "<span style=\"font-size:11pt;font-family:Arial,sans-serif;color:#000000;background-color:#ffffff;font-weight:400;font-style:normal;font-variant:normal;text-decoration:none;vertical-align:baseline;white-space:pre;white-space:pre-wrap;\">Target: Find which delivery method takes the longest time between order and invoice. Then, find the most recent customer who experienced this delay.</span>\n",
                "\n",
                "<span style=\"font-size:10.5pt;font-family:Arial,sans-serif;color:#000000;background-color:#ffffff;font-weight:400;font-style:normal;font-variant:normal;text-decoration:none;vertical-align:baseline;white-space:pre;white-space:pre-wrap;\">Objectives</span>\n",
                "\n",
                "<span style=\"font-size:10.5pt;font-family:Arial,sans-serif;color:#000000;background-color:#ffffff;font-weight:400;font-style:normal;font-variant:normal;text-decoration:none;vertical-align:baseline;white-space:pre;white-space:pre-wrap;\">1)</span><span style=\"font-size:11pt;font-family:Arial,sans-serif;color:#000000;background-color:#ffffff;font-weight:400;font-style:normal;font-variant:normal;text-decoration:none;vertical-align:baseline;white-space:pre;white-space:pre-wrap;\">Determine which delivery method has the highest average delay between the order date and the invoice date.</span>\n",
                "\n",
                "<span style=\"font-size: 10.5pt; font-family: Arial, sans-serif; color: rgb(0, 0, 0); background-color: rgb(255, 255, 255); font-variant-numeric: normal; font-variant-east-asian: normal; font-variant-alternates: normal; font-variant-position: normal; vertical-align: baseline; white-space-collapse: preserve;\">2)I</span><span style=\"font-size: 11pt; font-family: Arial, sans-serif; color: rgb(0, 0, 0); background-color: rgb(255, 255, 255); font-variant-numeric: normal; font-variant-east-asian: normal; font-variant-alternates: normal; font-variant-position: normal; vertical-align: baseline; white-space-collapse: preserve;\">dentify the most recent invoice that used this method and reveal the customer associated with that delayed delivery.</span>"
            ]
        },
        {
            "cell_type": "code",
            "execution_count": null,
            "metadata": {
                "azdata_cell_guid": "8ad7a080-ebce-4a75-b2ca-3e80c0af3dc9",
                "language": "sql"
            },
            "outputs": [],
            "source": [
                "-- CLUE 1 Find the slowest delivery method\n",
                "SELECT TOP (1) dm.DeliveryMethodID, dm.DeliveryMethodName, L.AvgDays\n",
                "FROM (\n",
                "  SELECT i.DeliveryMethodID,\n",
                "         AVG(DATEDIFF(day,o.OrderDate,i.InvoiceDate)*1.0) AS AvgDays\n",
                "  FROM Sales.Orders o\n",
                "  JOIN Sales.Invoices i ON i.OrderID = o.OrderID\n",
                "  GROUP BY i.DeliveryMethodID\n",
                ") AS L\n",
                "JOIN Application.DeliveryMethods dm ON dm.DeliveryMethodID = L.DeliveryMethodID\n",
                "ORDER BY L.AvgDays DESC, dm.DeliveryMethodName;\n"
            ]
        },
        {
            "cell_type": "code",
            "execution_count": null,
            "metadata": {
                "azdata_cell_guid": "7eceadee-4f1d-4679-8523-56874088245a",
                "language": "sql"
            },
            "outputs": [],
            "source": [
                "-- CLUE 2 Find the most recent invoice that used this slow delivery method\n",
                "DECLARE @Slow int = 3 ;\n",
                "\n",
                "SELECT TOP (1) i.InvoiceID, i.InvoiceDate, c.CustomerName\n",
                "FROM Sales.Invoices i\n",
                "JOIN Sales.Customers c ON c.CustomerID = i.CustomerID\n",
                "WHERE i.DeliveryMethodID = @Slow\n",
                "ORDER BY i.InvoiceDate DESC, i.InvoiceID DESC;"
            ]
        },
        {
            "attachments": {},
            "cell_type": "markdown",
            "metadata": {
                "azdata_cell_guid": "6bd26775-42f0-49ec-bbd5-2911baa0b352"
            },
            "source": [
                "<span style=\"font-size:17pt;font-family:Arial,sans-serif;color:#000000;background-color:#ffffff;font-weight:400;font-style:normal;font-variant:normal;text-decoration:none;vertical-align:baseline;white-space:pre;white-space:pre-wrap;\">Case #6: The Finalized but late supplier</span>\n",
                "\n",
                "<span style=\"font-size:11pt;font-family:Arial,sans-serif;color:#000000;background-color:#ffffff;font-weight:400;font-style:normal;font-variant:normal;text-decoration:none;vertical-align:baseline;white-space:pre;white-space:pre-wrap;\">Target: Find suppliers who often finalize purchase orders but deliver late. You’ll identify which delivery method is most common among these late suppliers.</span>\n",
                "\n",
                "<span style=\"font-size:11pt;font-family:Arial,sans-serif;color:#000000;background-color:#ffffff;font-weight:400;font-style:normal;font-variant:normal;text-decoration:none;vertical-align:baseline;white-space:pre;white-space:pre-wrap;\">Objectives</span>\n",
                "\n",
                "<span style=\"font-size:11pt;font-family:Arial,sans-serif;color:#000000;background-color:#ffffff;font-weight:400;font-style:normal;font-variant:normal;text-decoration:none;vertical-align:baseline;white-space:pre;white-space:pre-wrap;\">1) Count overdue finalized POs by supplier</span>\n",
                "\n",
                "<span style=\"font-size:11pt;font-family:Arial,sans-serif;color:#000000;background-color:#ffffff;font-weight:400;font-style:normal;font-variant:normal;text-decoration:none;vertical-align:baseline;white-space:pre;white-space:pre-wrap;\">2) Show their common ship method</span>"
            ]
        },
        {
            "cell_type": "code",
            "execution_count": null,
            "metadata": {
                "azdata_cell_guid": "97192287-f0bb-41f5-a5ec-0a7e6bdfd859",
                "language": "sql"
            },
            "outputs": [],
            "source": [
                "--CLUE 1 Overdue finalized POs (Purchasing.PurchaseOrders)\n",
                "SELECT TOP (1) SupplierID, COUNT(*) AS LateCount\n",
                "FROM (\n",
                "  SELECT SupplierID\n",
                "  FROM Purchasing.PurchaseOrders\n",
                "  WHERE IsOrderFinalized = 1\n",
                "    AND ExpectedDeliveryDate < GETDATE()\n",
                ") AS LatePOs\n",
                "GROUP BY SupplierID\n",
                "ORDER BY LateCount DESC;"
            ]
        },
        {
            "cell_type": "code",
            "execution_count": null,
            "metadata": {
                "azdata_cell_guid": "fa4b8424-067f-4629-8a49-fb1a67be1921",
                "language": "sql"
            },
            "outputs": [],
            "source": [
                "-- CLUE 2 Ship method (Application.DeliveryMethods)\n",
                "DECLARE @Supp int = 4;\n",
                "\n",
                "SELECT TOP (1) dm.DeliveryMethodName, COUNT(*) AS Uses\n",
                "FROM Purchasing.PurchaseOrders po\n",
                "JOIN Application.DeliveryMethods dm ON dm.DeliveryMethodID = po.DeliveryMethodID\n",
                "WHERE po.IsOrderFinalized = 1\n",
                "  AND po.ExpectedDeliveryDate < GETDATE()\n",
                "  AND po.SupplierID = @Supp\n",
                "GROUP BY dm.DeliveryMethodName\n",
                "ORDER BY Uses DESC;"
            ]
        },
        {
            "attachments": {},
            "cell_type": "markdown",
            "metadata": {
                "azdata_cell_guid": "327aec1e-12e2-407b-b13a-2a3d963e4434"
            },
            "source": [
                "<span style=\"font-size:17pt;font-family:Arial,sans-serif;color:#000000;background-color:#ffffff;font-weight:400;font-style:normal;font-variant:normal;text-decoration:none;vertical-align:baseline;white-space:pre;white-space:pre-wrap;\">Case #7: Picker on the run</span>\n",
                "\n",
                "<span style=\"font-size:11pt;font-family:Arial,sans-serif;color:#000000;background-color:#ffffff;font-weight:400;font-style:normal;font-variant:normal;text-decoration:none;vertical-align:baseline;white-space:pre;white-space:pre-wrap;\">Target: Find out which picker handles the most urgent orders (orders with short delivery times). Then, check which recent orders that picker completed.</span>\n",
                "\n",
                "<span style=\"font-size:10.5pt;font-family:Arial,sans-serif;color:#000000;background-color:#ffffff;font-weight:400;font-style:normal;font-variant:normal;text-decoration:none;vertical-align:baseline;white-space:pre;white-space:pre-wrap;\">Objectives</span>\n",
                "\n",
                "<span style=\"font-size:10.5pt;font-family:Arial,sans-serif;color:#000000;background-color:#ffffff;font-weight:400;font-style:normal;font-variant:normal;text-decoration:none;vertical-align:baseline;white-space:pre;white-space:pre-wrap;\">1)</span><span style=\"font-size:11pt;font-family:Arial,sans-serif;color:#000000;background-color:#ffffff;font-weight:400;font-style:normal;font-variant:normal;text-decoration:none;vertical-align:baseline;white-space:pre;white-space:pre-wrap;\">Filter urgent orders</span>\n",
                "\n",
                "<span style=\"font-size: 10.5pt; font-family: Arial, sans-serif; color: rgb(0, 0, 0); background-color: rgb(255, 255, 255); font-variant-numeric: normal; font-variant-east-asian: normal; font-variant-alternates: normal; font-variant-position: normal; vertical-align: baseline; white-space-collapse: preserve;\">2)</span><span style=\"font-size: 11pt; font-family: Arial, sans-serif; color: rgb(0, 0, 0); background-color: rgb(255, 255, 255); font-variant-numeric: normal; font-variant-east-asian: normal; font-variant-alternates: normal; font-variant-position: normal; vertical-align: baseline; white-space-collapse: preserve;\">Count by picker and show a recent order</span>"
            ]
        },
        {
            "cell_type": "code",
            "execution_count": null,
            "metadata": {
                "azdata_cell_guid": "6dc85e00-6c11-4691-bd72-99298822586a",
                "language": "sql",
                "tags": []
            },
            "outputs": [],
            "source": [
                "--CLUE 1 Top picker on urgent orders\n",
                "SELECT TOP (1) PickedByPersonID, COUNT(*) AS UrgentPicks\n",
                "FROM (\n",
                "    SELECT OrderID, PickedByPersonID\n",
                "    FROM Sales.Orders\n",
                "    WHERE PickedByPersonID IS NOT NULL\n",
                "      AND DATEDIFF(day, OrderDate, ExpectedDeliveryDate) <= 2\n",
                "      AND OrderDate >= DATEADD(day, -45, @MaxOrderDate)\n",
                ") AS Urgent\n",
                "GROUP BY PickedByPersonID\n",
                "ORDER BY UrgentPicks DESC;"
            ]
        },
        {
            "cell_type": "code",
            "execution_count": null,
            "metadata": {
                "azdata_cell_guid": "08cf97d4-cc0b-4f80-a7b2-0b6321605647",
                "language": "sql"
            },
            "outputs": [],
            "source": [
                "--CLUE 2 Show Example order + name\n",
                "DECLARE @Picker int = 10;\n",
                "\n",
                "SELECT FullName AS Picker\n",
                "FROM Application.People\n",
                "WHERE PersonID = @Picker;\n",
                "\n",
                "SELECT TOP (1) o.OrderID, o.OrderDate, o.ExpectedDeliveryDate\n",
                "FROM Sales.Orders o\n",
                "WHERE o.PickedByPersonID = @Picker\n",
                "  AND DATEDIFF(day, o.OrderDate, o.ExpectedDeliveryDate) <= 2\n",
                "ORDER BY o.OrderDate DESC, o.OrderID DESC;"
            ]
        },
        {
            "attachments": {},
            "cell_type": "markdown",
            "metadata": {
                "azdata_cell_guid": "2aa20286-9cdd-45c0-a7f1-87c03f7dd620"
            },
            "source": [
                "\\*<span style=\"background-color: rgb(255, 255, 255); color: rgb(0, 0, 0); font-family: Arial, sans-serif; font-size: 11pt; white-space-collapse: preserve;\">AI was used in the creation of this assignment, and all work was reviewed and finalized by our team</span>"
            ]
        }
    ],
    "metadata": {
        "kernelspec": {
            "display_name": "SQL",
            "language": "sql",
            "name": "SQL"
        },
        "language_info": {
            "name": "sql",
            "version": ""
        }
    },
    "nbformat": 4,
    "nbformat_minor": 2
}
