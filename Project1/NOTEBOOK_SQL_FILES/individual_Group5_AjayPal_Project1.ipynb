{
  "metadata": {
    "kernelspec": {
      "name": "SQLite",
      "display_name": "SQLite",
      "language": "sql"
    },
    "language_info": {
      "codemirror_mode": "sql",
      "file_extension": "",
      "mimetype": "",
      "name": "sql",
      "version": "3.32.3"
    }
  },
  "nbformat_minor": 5,
  "nbformat": 4,
  "cells": [
    {
      "id": "dc704fe6-bfe2-4b3f-b94d-5528f92cc1e0",
      "cell_type": "markdown",
      "source": "\n## Mystery 1 ##\nA student at Queens College had their linear Algebra notebook stolen while studying in the 4th floor of the library. There were 2 people near his desk when the student stepped away. Find out who stole his notebook so he can study for the exam!",
      "metadata": {}
    },
    {
      "id": "bac896af-501f-4040-8d4f-096a25563e27",
      "cell_type": "markdown",
      "source": "List of crime scenes at Queens college location",
      "metadata": {}
    },
    {
      "id": "f1a98ecd-f033-40a5-ac85-f07ae56d8999",
      "cell_type": "code",
      "source": "Select *\nFrom SQLNoir.crime_scene\nWhere location = 'Queens College'",
      "metadata": {
        "trusted": true
      },
      "outputs": [],
      "execution_count": null
    },
    {
      "id": "04f6cf20-9bac-4abe-8d02-eef417bc5432",
      "cell_type": "code",
      "source": "id          date        type                 location                                                                                             description\n----------- ----------- -------------------- ---------------------------------------------------------------------------------------------------- ----------------------------------------------------------------------------------------------------------------------------------------------------------------------------------------------------------------------------------------------------------------\n101         20250422    theft                Queens College                                                                                       A student had their notebook stolen while using the bathroom in the 4th floor of the library. A person saw 2 people idle by the students desk. One had a blue hoodie on and the other had backpack with cartoon patches on it \n102         20241012    bribery              Queens College                                                                                       There is an alarming rumor that there is a TA in the Language department that is giving quiz answers beforehand if students pay a fee. The TA was filtered out to be in the language department under a professor teaching french.\n103         20241010    Accident             Queens College                                                                                       Two people were seen arguing, there was an envelope being exchanged between both of them. It got so heated that a falculty had to get invovled. A witness added that there should have been cameras that captured it",
      "metadata": {
        "trusted": true
      },
      "outputs": [],
      "execution_count": null
    },
    {
      "id": "6ce451de-8ba3-44cb-932d-3040aa00a3fa",
      "cell_type": "code",
      "source": "Select *\nFrom SQLNoir.people",
      "metadata": {
        "trusted": true
      },
      "outputs": [],
      "execution_count": null
    },
    {
      "id": "446b9a4f-a5b7-4688-a1e3-257da23b5b07",
      "cell_type": "code",
      "source": "id          name                                               department_class                                   clothing_accessory\n----------- -------------------------------------------------- -------------------------------------------------- ----------------------------------------------------------------------------------------------------\n2           Angela Annie                                       Language arts - French 101                         NULL\n3           Amanda Alisa                                       Library                                            Glasses\n4           Alexander Andrew                                   Linear Algebra 231                                 Blue Hoodie\n5           Tyler Tum                                          Linear Algebra 231-5                               Bookbag with patches\n6           Jacob Jules                                        Linear Algebra 231-5                               Bookbag with patches\n7           Samantha Susan                                     Linear Algebra 231-5                               Bookbag with patches\n8           Prof. Richards                                     Language - French                                  NULL\n9           Prof. Cynthia                                      Language - French                                  NULL\n10          Prof. Alec                                         Language - French                                  NULL\n11          TA Joe                                             Language - French                                  Blue Button Down\n12          TA Alison                                          Language - French                                  T-shirt\n13          TA Topher                                          Language - French                                  Black Hoodie\n14          TA Dan                                             Language - French                                  Gray Polo Shirt\n15          Bob Martinez                                       Employee                                           Ring of Keys\n16          Officer Jenkins                                    Police Department                                  NULL\n17          Jean                                               Assistant                                          NULL\n18          Manager H                                          BookStore                                          NULL\n19          Giselle Gaz                                        NULL                                               Blue dress with pink headband\n20          Kevin                                              Corner Cafe                                        NULL\n21          Alexandria                                         Corner Cafe                                        NULL\n22          Julia                                              Corner Cafe                                        Pink sweater with matching color nametag\n23          Romeo                                              Corner Cafe                                        Black Sweater\n24          Dr. Lena Ortiz                                     Brooklyn Science Engineer                          Safety Goggles\n25          Tommy Becker                                       Brooklyn Science Janitor                           Ring of Keys \n26          Kenya Frost                                        Brooklyn Science Intern                            Hoodie\n27          Ralph Bennett                                      Site 8 - Foreman                                   Hard hat\n28          Luis Romero                                        Site 8 - Truck Driver                              Work gloves\n29          Eric Shaw                                          Site 8 - Night Guard                               Flashlight belt\n30          DJ DOUBLE                                          Entertainment                                      Gold Headphones\n31          Lexy Tuval                                         General                                            Flip phone\n32          Emily Trax                                         General                                            MCM Belt\n33          Denise Sandro                                      Manager                                            Gold Earrings\n34          Angel                                              Security                                           Black Boots\n",
      "metadata": {
        "trusted": true
      },
      "outputs": [],
      "execution_count": null
    },
    {
      "id": "bdbe82c9-7963-4cf7-b55a-2cb89a488dd3",
      "cell_type": "markdown",
      "source": "Above, we can see that and focus on the people with a blue hoodie and perons with a bookbag",
      "metadata": {}
    },
    {
      "id": "912561b9-9a4b-42d8-b81d-5649c4c3ba3d",
      "cell_type": "markdown",
      "source": "Next, is a list of people interviews which would focus on the id's that are in interest from the people data",
      "metadata": {}
    },
    {
      "id": "7fde17d8-c793-4611-9aeb-1dcaa34ff145",
      "cell_type": "code",
      "source": "\nSelect *\nFrom SQLNoir.people\nid          name                                               department_class                                   clothing_accessory\n----------- -------------------------------------------------- -------------------------------------------------- ----------------------------------------------------------------------------------------------------\n2           Angela Annie                                       Language arts - French 101                         NULL\n3           Amanda Alisa                                       Library                                            Glasses\n4           Alexander Andrew                                   Linear Algebra 231                                 Blue Hoodie\n5           Tyler Tum                                          Linear Algebra 231-5                               Bookbag with patches\n6           Jacob Jules                                        Linear Algebra 231-5                               Bookbag with patches\n7           Samantha Susan                                     Linear Algebra 231-5                               Bookbag with patches\n8           Prof. Richards                                     Language - French                                  NULL\n9           Prof. Cynthia                                      Language - French                                  NULL\n10          Prof. Alec                                         Language - French                                  NULL\n11          TA Joe                                             Language - French                                  Blue Button Down\n12          TA Alison                                          Language - French                                  T-shirt\n13          TA Topher                                          Language - French                                  Black Hoodie\n14          TA Dan                                             Language - French                                  Gray Polo Shirt\n15          Bob Martinez                                       Employee                                           Ring of Keys\n16          Officer Jenkins                                    Police Department                                  NULL\n17          Jean                                               Assistant                                          NULL\n18          Manager H                                          BookStore                                          NULL\n19          Giselle Gaz                                        NULL                                               Blue dress with pink headband\n20          Kevin                                              Corner Cafe                                        NULL\n21          Alexandria                                         Corner Cafe                                        NULL\n22          Julia                                              Corner Cafe                                        Pink sweater with matching color nametag\n23          Romeo                                              Corner Cafe                                        Black Sweater\n24          Dr. Lena Ortiz                                     Brooklyn Science Engineer                          Safety Goggles\n25          Tommy Becker                                       Brooklyn Science Janitor                           Ring of Keys \n26          Kenya Frost                                        Brooklyn Science Intern                            Hoodie\n27          Ralph Bennett                                      Site 8 - Foreman                                   Hard hat\n28          Luis Romero                                        Site 8 - Truck Driver                              Work gloves\n29          Eric Shaw                                          Site 8 - Night Guard                               Flashlight belt\n30          DJ DOUBLE                                          Entertainment                                      Gold Headphones\n31          Lexy Tuval                                         General                                            Flip phone\n32          Emily Trax                                         General                                            MCM Belt\n33          Denise Sandro                                      Manager                                            Gold Earrings\n34          Angel                                              Security                                           Black Boots\n",
      "metadata": {
        "trusted": true
      },
      "outputs": [],
      "execution_count": null
    },
    {
      "id": "d6daa2b6-2cc1-4670-a4d0-64c4390fdcbb",
      "cell_type": "code",
      "source": "### List of surveillence ##\nThere would be a focus on using surveillance to see where each person was. Specifcally perosn id = 6",
      "metadata": {
        "trusted": true
      },
      "outputs": [],
      "execution_count": null
    },
    {
      "id": "c43a0843-a749-43a2-a9f0-ca55abb6ca15",
      "cell_type": "code",
      "source": "Select * \nFROM SQLNoir.surveillance\nwhere person_id = 6",
      "metadata": {
        "trusted": true
      },
      "outputs": [],
      "execution_count": null
    },
    {
      "id": "ac773c88-f362-497b-810f-0e67a943fc18",
      "cell_type": "code",
      "source": "id          person_id   date       activity                                                                                                                                                                                                                                                         location\n----------- ----------- ---------- ---------------------------------------------------------------------------------------------------------------------------------------------------------------------------------------------------------------------------------------------------------------- ----------------------------------------------------------------------------------------------------\n1           6           2025-04-22 Student was seen rushing out showing a book to his friends and laughing    ",
      "metadata": {
        "trusted": true
      },
      "outputs": [],
      "execution_count": null
    },
    {
      "id": "a212c3e1-82e9-4f93-a684-5c1e6e49ccaa",
      "cell_type": "markdown",
      "source": "## Mystery 2 ##\n A TA for french learning at Queens College is rumored to be giving out quiz answers for exchange of money. The rumor finally reached the department ears on October 10thb 2024, Find out if the rumor is true!",
      "metadata": {}
    },
    {
      "id": "8169a27e-c78e-46d7-92d5-320f5397065d",
      "cell_type": "code",
      "source": "Select *\nFrom SQLNoir.crime_scene\nwhere location = 'Queens College'",
      "metadata": {
        "trusted": true
      },
      "outputs": [],
      "execution_count": null
    },
    {
      "id": "2401dc4f-4040-4750-a317-6155b6967fb2",
      "cell_type": "code",
      "source": "id          date        type                 location                                                                                             description\n----------- ----------- -------------------- ---------------------------------------------------------------------------------------------------- ----------------------------------------------------------------------------------------------------------------------------------------------------------------------------------------------------------------------------------------------------------------\n101         20250422    theft                Queens College                                                                                       A student had their notebook stolen while using the bathroom in the 4th floor of the library. A person saw 2 people idle by the students desk. One had a blue hoodie on and the other had backpack with cartoon patches on it \n102         20241012    bribery              Queens College                                                                                       There is an alarming rumor that there is a TA in the Language department that is giving quiz answers beforehand if students pay a fee. The TA was filtered out to be in the language department under a professor teaching french.\n103         20241010    Accident             Queens College                                                                                       Two people were seen arguing, there was an envelope being exchanged between both of them. It got so heated that a falculty had to get invovled. A witness added that there should have been cameras that captured it",
      "metadata": {
        "trusted": true
      },
      "outputs": [],
      "execution_count": null
    },
    {
      "id": "1ddb34d5-204c-4be5-a83f-b88979f8cd2a",
      "cell_type": "markdown",
      "source": "Find the people that are in the Language French department ",
      "metadata": {}
    },
    {
      "id": "0496ed4c-dfb5-48bc-ae7c-32aeacc534c6",
      "cell_type": "code",
      "source": "Select * \nfrom SQLNoir.people\nWhere department_class = 'Language - French'",
      "metadata": {
        "trusted": true
      },
      "outputs": [],
      "execution_count": null
    },
    {
      "id": "04314849-392e-4927-a452-e654ac0aa561",
      "cell_type": "code",
      "source": "id          name                                               department_class                                   clothing_accessory\n----------- -------------------------------------------------- -------------------------------------------------- ----------------------------------------------------------------------------------------------------\n8           Prof. Richards                                     Language - French                                  NULL\n9           Prof. Cynthia                                      Language - French                                  NULL\n10          Prof. Alec                                         Language - French                                  NULL\n11          TA Joe                                             Language - French                                  Blue Button Down\n12          TA Alison                                          Language - French                                  T-shirt\n13          TA Topher                                          Language - French                                  Black Hoodie\n14          TA Dan                                             Language - French                                  Gray Polo Shirt",
      "metadata": {
        "trusted": true
      },
      "outputs": [],
      "execution_count": null
    },
    {
      "id": "669f9b5f-745b-4788-8ecd-c0dd81bb93f5",
      "cell_type": "code",
      "source": "Find the statements are cross reference",
      "metadata": {
        "trusted": true
      },
      "outputs": [],
      "execution_count": null
    },
    {
      "id": "de0077fe-79c1-4592-87bd-e7c810e02e2e",
      "cell_type": "code",
      "source": "person_id   name                                               statement\n----------- -------------------------------------------------- ----------------------------------------------------------------------------------------------------------------------------------------------------------------------------------------------------------------------------------------------------------------\n8           Prof. Richards                                     I dont give quizzes out, I only do exams\n9           Prof. Cynthia                                      Oh yes, I have 2 TAs, One is Alison and the other i forget his name but he has a black hoodie most of the days\n10          Prof. Alec                                         I have heard of the TAs rumor, They are Topher and Dan, I hold them to the highest standard so i firmly believe the rumor is just a rumor\n11          TA Joe                                             Nope, Even if I did, The prof changes the exams every semester.\n12          TA Alison                                          The professor splits us up, I only help during exams. I know nothing prior. Im barely a TA\n13          TA Topher                                          Im already busy with school work and helping the two professors. I wish i had the time to run something like that\n14          TA Dan                                             I have heard there was an incident involving Joe, I dont know him but i heard him and a student got into an argument at the library.",
      "metadata": {
        "trusted": true
      },
      "outputs": [],
      "execution_count": null
    },
    {
      "id": "2229d1e5-3ef9-4b41-bf7f-31ec746f8095",
      "cell_type": "code",
      "source": "Select *\nFrom SQLNoir.final_confession\nWhere person_id = 11",
      "metadata": {
        "trusted": true
      },
      "outputs": [],
      "execution_count": null
    },
    {
      "id": "82e73f90-5124-4009-bc65-d8e5f96fc852",
      "cell_type": "code",
      "source": "Check Confessions!",
      "metadata": {
        "trusted": true
      },
      "outputs": [],
      "execution_count": null
    },
    {
      "id": "343ff879-00c9-49a3-9961-4f888866f956",
      "cell_type": "markdown",
      "source": "## Mystery 3 ##",
      "metadata": {}
    },
    {
      "id": "6c063a5c-606a-4504-9d00-d08152ed9a0a",
      "cell_type": "markdown",
      "source": "On August 17th, 2010; A rare book was stolen from a cabinent. Authorities have been able to make a sweep with book store with clues. The officer has some valuable information to help solve this!",
      "metadata": {}
    },
    {
      "id": "bc4bf7f1-0237-4877-a806-50f903d09913",
      "cell_type": "code",
      "source": "Select *\nFrom SQLNoir.crime_scene\nWhere location = 'Bookstore'",
      "metadata": {
        "trusted": true
      },
      "outputs": [],
      "execution_count": null
    },
    {
      "id": "17fa1c0b-0548-4635-ac7f-5c0953d505d4",
      "cell_type": "code",
      "source": "id          date        type                 location                                                                                             description\n----------- ----------- -------------------- ---------------------------------------------------------------------------------------------------- ----------------------------------------------------------------------------------------------------------------------------------------------------------------------------------------------------------------------------------------------------------------\n91          20100817    theft                Bookstore    ",
      "metadata": {
        "trusted": true
      },
      "outputs": [],
      "execution_count": null
    },
    {
      "id": "0a0aac84-06ca-42a5-b8b4-de719a123595",
      "cell_type": "code",
      "source": "Select *\nFrom SQLNoir.people\nwhere name Like '%Officer%'",
      "metadata": {
        "trusted": true
      },
      "outputs": [],
      "execution_count": null
    },
    {
      "id": "32157b67-bc15-4a5f-8a2a-95fe919477c7",
      "cell_type": "code",
      "source": "id          name                                               department_class                                   clothing_accessory\n----------- -------------------------------------------------- -------------------------------------------------- ----------------------------------------------------------------------------------------------------\n16          Officer Jenkins                                    Police Department                                  NULL",
      "metadata": {
        "trusted": true
      },
      "outputs": [],
      "execution_count": null
    },
    {
      "id": "c567064f-e77b-4e31-a50a-2c19ed293eef",
      "cell_type": "code",
      "source": "Select *\nFrom SQLNoir.people_interviews\nwhere person_id = 16",
      "metadata": {
        "trusted": true
      },
      "outputs": [],
      "execution_count": null
    },
    {
      "id": "ce46466d-8220-4fbc-9223-28a75d8861c8",
      "cell_type": "code",
      "source": "id          person_id   statement\n----------- ----------- ----------------------------------------------------------------------------------------------------------------------------------------------------------------------------------------------------------------------------------------------------------------\n13          16          The cabinent was open with a key, no broken class. Whoever has access to these keys are are top suspects. Gotta talk to the manager ",
      "metadata": {
        "trusted": true
      },
      "outputs": [],
      "execution_count": null
    },
    {
      "id": "baf53536-10b2-496e-89ae-4056fa455816",
      "cell_type": "markdown",
      "source": "Check with manager and see what she has to say about it. ",
      "metadata": {}
    },
    {
      "id": "ccf7072b-99e4-4e47-9562-867d3ed8e372",
      "cell_type": "code",
      "source": "id          name                                               department_class                                   clothing_accessory\n----------- -------------------------------------------------- -------------------------------------------------- ----------------------------------------------------------------------------------------------------\n2           Angela Annie                                       Language arts - French 101                         NULL\n3           Amanda Alisa                                       Library                                            Glasses\n4           Alexander Andrew                                   Linear Algebra 231                                 Blue Hoodie\n5           Tyler Tum                                          Linear Algebra 231-5                               Bookbag with patches\n6           Jacob Jules                                        Linear Algebra 231-5                               Bookbag with patches\n7           Samantha Susan                                     Linear Algebra 231-5                               Bookbag with patches\n8           Prof. Richards                                     Language - French                                  NULL\n9           Prof. Cynthia                                      Language - French                                  NULL\n10          Prof. Alec                                         Language - French                                  NULL\n11          TA Joe                                             Language - French                                  Blue Button Down\n12          TA Alison                                          Language - French                                  T-shirt\n13          TA Topher                                          Language - French                                  Black Hoodie\n14          TA Dan                                             Language - French                                  Gray Polo Shirt\n15          Bob Martinez                                       Employee                                           Ring of Keys\n16          Officer Jenkins                                    Police Department                                  NULL\n17          Jean                                               Assistant                                          NULL\n18          Manager H                                          BookStore                                          NULL\n19          Giselle Gaz                                        NULL                                               Blue dress with pink headband\n20          Kevin                                              Corner Cafe                                        NULL\n21          Alexandria                                         Corner Cafe                                        NULL\n22          Julia                                              Corner Cafe                                        Pink sweater with matching color nametag\n23          Romeo                                              Corner Cafe                                        Black Sweater\n24          Dr. Lena Ortiz                                     Brooklyn Science Engineer                          Safety Goggles\n25          Tommy Becker                                       Brooklyn Science Janitor                           Ring of Keys \n26          Kenya Frost                                        Brooklyn Science Intern                            Hoodie\n27          Ralph Bennett                                      Site 8 - Foreman                                   Hard hat\n28          Luis Romero                                        Site 8 - Truck Driver                              Work gloves\n29          Eric Shaw                                          Site 8 - Night Guard                               Flashlight belt\n30          DJ DOUBLE                                          Entertainment                                      Gold Headphones\n31          Lexy Tuval                                         General                                            Flip phone\n32          Emily Trax                                         General                                            MCM Belt\n33          Denise Sandro                                      Manager                                            Gold Earrings\n34          Angel                                              Security                                           Black Boots",
      "metadata": {
        "trusted": true
      },
      "outputs": [],
      "execution_count": null
    },
    {
      "id": "c85a3bcf-ea03-4170-b9cb-d651aa1adfa6",
      "cell_type": "markdown",
      "source": "Find the interview for manager H",
      "metadata": {}
    },
    {
      "id": "6e541c93-3082-48ff-abd1-6a31b31a5a3a",
      "cell_type": "code",
      "source": "\nSelect *\nFrom SQLNoir.people_interviews\nwhere person_id = 18",
      "metadata": {
        "trusted": true
      },
      "outputs": [],
      "execution_count": null
    },
    {
      "id": "8664fca9-1115-4127-80e5-908553733725",
      "cell_type": "code",
      "source": "id          person_id   statement\n----------- ----------- ----------------------------------------------------------------------------------------------------------------------------------------------------------------------------------------------------------------------------------------------------------------\n21          18           Theres only one key which is in the office, My assistant was there during the black out, I have a bad feeling about her, Check the cameras!\n",
      "metadata": {
        "trusted": true
      },
      "outputs": [],
      "execution_count": null
    },
    {
      "id": "777501e7-061f-4153-8c2c-0995c069a210",
      "cell_type": "markdown",
      "source": "Find id for assistant and see the surveillance",
      "metadata": {}
    },
    {
      "id": "820f5419-47f4-4dd2-8a1b-f07f6fe01742",
      "cell_type": "code",
      "source": "7           17          2010-08-17 In the managers office, Jean was seen figdeting and the locked drawer was shut. When the lights were off and turned back on. Jean was there but the locked drawer was sl",
      "metadata": {
        "trusted": true
      },
      "outputs": [],
      "execution_count": null
    },
    {
      "id": "25a22755-0a62-4a44-bb44-6ebaa2992711",
      "cell_type": "markdown",
      "source": "Go through final confessions",
      "metadata": {}
    },
    {
      "id": "e84683f5-1b34-4161-a788-f25d82384f99",
      "cell_type": "code",
      "source": "Select *\nFrom SQLNoir.final_confession\nwhere person_id = 15",
      "metadata": {
        "trusted": true
      },
      "outputs": [],
      "execution_count": null
    },
    {
      "id": "5b936657-c21b-4617-857f-ebde2fa2fdae",
      "cell_type": "code",
      "source": "id          person_id   confession\n----------- ----------- ----------------------------------------------------------------------------------------------------------------------------------------------------------------------------------------------------------------------------------------------------------------\n6           15          These stupid keys gave me away, the nerves got to me. The amount of money i could have if i sold these",
      "metadata": {
        "trusted": true
      },
      "outputs": [],
      "execution_count": null
    },
    {
      "id": "59e7afaa-edc2-4155-823d-5769df3d98e5",
      "cell_type": "markdown",
      "source": "## Mystery 4 ##\nA body was found behind the Cafe when the manager went to open the cafe the very next day. A knife wound was found in his back. A street camera was able to see the moment the manager found the body. An officer asked the manager for a list of workers the night before.",
      "metadata": {}
    },
    {
      "id": "c2aaeed3-f8ed-4c1b-adaf-11aba70a8304",
      "cell_type": "code",
      "source": "Select *\nFrom SQLNoir.crime_scene\nwhere location Like '%Corner%'",
      "metadata": {
        "trusted": true
      },
      "outputs": [],
      "execution_count": null
    },
    {
      "id": "7d0030a1-0d9d-43ec-b934-92f843d38e35",
      "cell_type": "code",
      "source": "id          date        type                 location                                                                                             description\n----------- ----------- -------------------- ---------------------------------------------------------------------------------------------------- ----------------------------------------------------------------------------------------------------------------------------------------------------------------------------------------------------------------------------------------------------------------\n3           20010702    murder               Corner Café                                                                                          A body was found behind the Cafe when the manager went to open the cafe the very next day. A knife wound was found in his back. A street camera was able to see the moment the manager found the body. An officer asked the manager for a list of workers the ni\n41          20150722    murder               Street Corner                                                                                        A young man was found dead near a busy street. Police are investigating the cause of death, possibly drug-related.\n70          19990410    murder               Street Corner                                                                                        NULL\n",
      "metadata": {
        "trusted": true
      },
      "outputs": [],
      "execution_count": null
    },
    {
      "id": "bda0e652-473d-4971-960c-343a9b632fbc",
      "cell_type": "code",
      "source": "Find the people connected to the cafe",
      "metadata": {
        "trusted": true
      },
      "outputs": [],
      "execution_count": null
    },
    {
      "id": "810ab57e-6f89-4018-9a51-532c44b96a5a",
      "cell_type": "code",
      "source": "id          name                                               department_class                                   clothing_accessory\n----------- -------------------------------------------------- -------------------------------------------------- ----------------------------------------------------------------------------------------------------\n20          Kevin                                              Corner Cafe                                        NULL\n21          Alexandria                                         Corner Cafe                                        NULL\n22          Julia                                              Corner Cafe                                        Pink sweater with matching color nametag\n23          Romeo                                              Corner Cafe                                        Black Sweater\n\n(4 rows affected)\n",
      "metadata": {
        "trusted": true
      },
      "outputs": [],
      "execution_count": null
    },
    {
      "id": "bac55a29-594a-43aa-a6e1-a2cf3aac7aa8",
      "cell_type": "code",
      "source": "Connect it to interviews",
      "metadata": {
        "trusted": true
      },
      "outputs": [],
      "execution_count": null
    },
    {
      "id": "7b02d1c4-67d8-441f-b081-3caa6f72123b",
      "cell_type": "code",
      "source": "Select *\nFrom SQLNoir.people_interviews",
      "metadata": {
        "trusted": true
      },
      "outputs": [],
      "execution_count": null
    },
    {
      "id": "2dd5ac1e-3f27-439e-99e1-1ef9c56ec29c",
      "cell_type": "code",
      "source": "id          person_id   statement\n----------- ----------- ----------------------------------------------------------------------------------------------------------------------------------------------------------------------------------------------------------------------------------------------------------------\n22          19          Yes i pulled the schedule for last night, Kevin, Alexandria, Julia, Romeo were working last night. Myself was not working as I had my scheduled day off. \n\n(1 row affected)",
      "metadata": {
        "trusted": true
      },
      "outputs": [],
      "execution_count": null
    },
    {
      "id": "564add5d-8fdf-47a9-b906-5e4dbcabcf4e",
      "cell_type": "code",
      "source": "See if any surveillance saw stuff ",
      "metadata": {
        "trusted": true
      },
      "outputs": [],
      "execution_count": null
    },
    {
      "id": "ed6925c4-d857-4988-9a86-671840bb63fa",
      "cell_type": "code",
      "source": "id          person_id   date       activity                                                                                                                                                                                                                                                         location\n----------- ----------- ---------- ---------------------------------------------------------------------------------------------------------------------------------------------------------------------------------------------------------------------------------------------------------------- ----------------------------------------------------------------------------------------------------\n8           NULL        2001-07-01 A man was seen trying to open the back door of the cafe. Another was seen walking from the shed outside of frame and then leaving.                                                                                                                               Corner Cafe Shed\n16          NULL        2001-07-01 A man was seen trying to open the back door of the cafe. Another was seen walking from the shed outside of frame and then leaving.                                                                                                                               Corner Cafe Shed\n",
      "metadata": {
        "trusted": true
      },
      "outputs": [],
      "execution_count": null
    },
    {
      "id": "daa67fdb-280e-4e33-8e12-97e78be90dd6",
      "cell_type": "code",
      "source": "",
      "metadata": {
        "trusted": true
      },
      "outputs": [],
      "execution_count": null
    },
    {
      "id": "243bee50-e442-402a-bf11-f803f42ef7c5",
      "cell_type": "markdown",
      "source": "## Mystery 5 ##\nAt the Brooklyn Research Lab, there was going to be a big presentation! But the machine was destroyed overnight. Check with the Engineer and the interns to see what happened",
      "metadata": {}
    },
    {
      "id": "b9de5d9c-7092-4f2e-9eba-7a7516eb91af",
      "cell_type": "code",
      "source": "Select *\nFrom SQLNoir.crime_scene\n--date = 20220912",
      "metadata": {
        "trusted": true
      },
      "outputs": [],
      "execution_count": null
    },
    {
      "id": "a56bc0ea-05b4-4e38-a52f-6f607d340ed6",
      "cell_type": "code",
      "source": "104         20220912    Sabatoge             Brooklyn Research Lab                                                                                A machine ready to present as a prototype was destroyed overnight\n",
      "metadata": {
        "trusted": true
      },
      "outputs": [],
      "execution_count": null
    },
    {
      "id": "6d6f91a9-dc99-4d60-9af4-a670b5824768",
      "cell_type": "code",
      "source": "Find the people related to the lab, in the people",
      "metadata": {
        "trusted": true
      },
      "outputs": [],
      "execution_count": null
    },
    {
      "id": "3d61aa1d-3030-426f-aef7-30dc31d19373",
      "cell_type": "code",
      "source": "24          Dr. Lena Ortiz                                     Brooklyn Science Engineer                          Safety Goggles\n25          Tommy Becker                                       Brooklyn Science Janitor                           Ring of Keys \n26          Kenya Frost                                        Brooklyn Science Intern                            Hoodie\n",
      "metadata": {
        "trusted": true
      },
      "outputs": [],
      "execution_count": null
    },
    {
      "id": "acde2edd-74de-4143-94c0-38842dc979f7",
      "cell_type": "code",
      "source": "Check each interview and surveillance",
      "metadata": {
        "trusted": true
      },
      "outputs": [],
      "execution_count": null
    },
    {
      "id": "7b170448-221b-48e3-a29c-c76d2b90679b",
      "cell_type": "code",
      "source": "27          24           No way was this an accident, the cooling system was fried leading to the machine overheating without notice\n28          25           I heard a loud hiss when I entered, I didnt touch it , I just walked out\n29          26           I was told to delete some test logs before presenting to the board. I was given the specific logs right before the machine went haywire\n",
      "metadata": {
        "trusted": true
      },
      "outputs": [],
      "execution_count": null
    },
    {
      "id": "56e07bdf-64ca-4ae9-b1ba-04d52530e618",
      "cell_type": "code",
      "source": "10          24          2022-09-12 Was seen entering at 6 am, to start running early tests but entered to the machine destroyed                                                                                                                                                                     NULL\n11          26          2022-09-11 Intern was seen grabbing paper from desk before entering lab, ring of keys were left at the desk as well                                                                                                                                                         NULL\n",
      "metadata": {
        "trusted": true
      },
      "outputs": [],
      "execution_count": null
    },
    {
      "id": "3c2a03b1-babb-4f78-855f-07833bc5e06a",
      "cell_type": "code",
      "source": "Lastly final confession",
      "metadata": {
        "trusted": true
      },
      "outputs": [],
      "execution_count": null
    },
    {
      "id": "f7dc8cd0-e7ed-4e88-83d1-5875c4125ef7",
      "cell_type": "code",
      "source": "10          25           I was supposed to be in this team, I was an intern when I got fired and they took my idea. I would not let them see success \n",
      "metadata": {
        "trusted": true
      },
      "outputs": [],
      "execution_count": null
    },
    {
      "id": "70f22e89-e980-4604-a996-56510b3efb3a",
      "cell_type": "markdown",
      "source": "## Mystery 6 ##\nA truck load of materials was stolen at Site 8 construction site. Find who stole it! Ps. Check with the driver first",
      "metadata": {}
    },
    {
      "id": "c36c2dcb-abdd-4e23-ac3a-edc4f1496630",
      "cell_type": "code",
      "source": "99          20090611    theft                Construction Site                                                                                    A truck full of equipment was stolen from a construction site.\n",
      "metadata": {
        "trusted": true
      },
      "outputs": [],
      "execution_count": null
    },
    {
      "id": "7ebcd091-a577-494d-b009-008b45d98caf",
      "cell_type": "code",
      "source": "27          Ralph Bennett                                      Site 8 - Foreman                                   Hard hat\n28          Luis Romero                                        Site 8 - Truck Driver                              Work gloves\n29          Eric Shaw                                          Site 8 - Night Guard                               Flashlight belt\n",
      "metadata": {
        "trusted": true
      },
      "outputs": [],
      "execution_count": null
    },
    {
      "id": "ed616762-ab65-46fa-9e4a-8c9ca4f58f9c",
      "cell_type": "code",
      "source": "Check the interview for each person",
      "metadata": {
        "trusted": true
      },
      "outputs": [],
      "execution_count": null
    },
    {
      "id": "b29f3c2f-16f5-4e8b-a117-667bd7082113",
      "cell_type": "code",
      "source": "30          27          I left the site around 8 PM. The truck was still parked by the gate.\n31          28          I was told to move the truck early, but I never got that call. I was by the gas station across the site\n32          29          I heard an engine around midnight, but the security cameras froze right after. The one at the gas station should have gotten something\n",
      "metadata": {
        "trusted": true
      },
      "outputs": [],
      "execution_count": null
    },
    {
      "id": "80619142-18f7-4268-8002-d209b4b149d1",
      "cell_type": "code",
      "source": "12          NULL        2009-06-11 Seen locking the main office before leaving.                      Site 8 Camera (Before shutoff)\n13          NULL        2009-06-11 Truck driver was seen buying red bull and snacks during the time of theft                       Gas Station Camera\n154         NULL        2009-06-11 Camera was pointed at Site 8, Saw a person running to truck, a shining light was reflecting off the person   Gas Station Camera\n",
      "metadata": {
        "trusted": true
      },
      "outputs": [],
      "execution_count": null
    },
    {
      "id": "316593a2-3c47-458f-bf29-48f3d5bbba40",
      "cell_type": "code",
      "source": "Checking final confession and match any clothing that is mentioned",
      "metadata": {
        "trusted": true
      },
      "outputs": [],
      "execution_count": null
    },
    {
      "id": "7e725c64-232b-4455-a94a-6207361ade77",
      "cell_type": "code",
      "source": "11          29          You got nbothing on me,  is me wearing a belt make me guilty\n12          28          I knew it was weird that that I had to leave the keys behind, its agaisnt policy but each site works differently",
      "metadata": {
        "trusted": true
      },
      "outputs": [],
      "execution_count": null
    },
    {
      "id": "4caaee15-4207-44e8-aa8d-80c89f4f6102",
      "cell_type": "markdown",
      "source": "## Mystery 7 ##\nNight Club A man was found dead in the bathroom of the night club. The DJ was the first person to find the scene. Do what you can to find the killer. Ps, The cameras can show alot!",
      "metadata": {}
    },
    {
      "id": "a2e53a2d-b033-40e1-b536-1439387a0589",
      "cell_type": "code",
      "source": "45          20080409    murder               Night Club                                                                                            A man was found dead in the clubs bathroom. Police are investigating whether it was a drug deal. The DJ was the first to encounter the body. Find who killed the killer and Why!\n",
      "metadata": {
        "trusted": true
      },
      "outputs": [],
      "execution_count": null
    },
    {
      "id": "096b3522-49c3-4ba0-887f-f56d2ed11814",
      "cell_type": "code",
      "source": "30          DJ DOUBLE                                          Entertainment                                      Gold Headphones\n31          Lexy Tuval                                         General                                            Flip phone\n32          Emily Trax                                         General                                            MCM Belt\n33          Denise Sandro                                      Manager                                            Gold Earrings\n34          Angel                                              Security                                           Black Boots\n",
      "metadata": {
        "trusted": true
      },
      "outputs": [],
      "execution_count": null
    },
    {
      "id": "d80ac0cc-043b-4071-a066-76444924c7b6",
      "cell_type": "code",
      "source": "Check each interview",
      "metadata": {
        "trusted": true
      },
      "outputs": [],
      "execution_count": null
    },
    {
      "id": "47e84e4b-d4ad-4046-ac2f-de9792e28514",
      "cell_type": "code",
      "source": "33          30          I walked right into the bathroom and saw the body right away, I saw some boot prints and a phone left on the sink.\n34          31          I dont know anything about the guy, I was busy looking for my phone. The guy must have stolen it\n35          32          I was helping lexy try to find her phone when the whole thing happened\n36          33          I was busy helping the bar, But we do have 2 cameras that we can look at\n37          34          The bathroom is an isolated spot away from the actual general floor, Anything can happen\n",
      "metadata": {
        "trusted": true
      },
      "outputs": [],
      "execution_count": null
    },
    {
      "id": "de440d68-58b7-4ed2-8adc-86cb5ea4ac62",
      "cell_type": "code",
      "source": "Any mention of cameras should lead to surveillance cameras",
      "metadata": {
        "trusted": true
      },
      "outputs": [],
      "execution_count": null
    },
    {
      "id": "cb85318a-abfb-43e5-bef9-707385c92a11",
      "cell_type": "code",
      "source": "14          NULL        2008-04-09 A person was seen standing by the bathroom talking into a flip phone and leaving it by the door                                  Night Club\n15          NULL        2009-04-09 A man was seen taking the flip phone and moving inside the bathroom right before the victim walked in                             Night Club",
      "metadata": {
        "trusted": true
      },
      "outputs": [],
      "execution_count": null
    },
    {
      "id": "d0b2858b-d9d3-44fe-9a21-8cf4b81d3d37",
      "cell_type": "code",
      "source": "13          34          The guy kept coming back and eating my wings when I looked away, He got what he deserved\n",
      "metadata": {
        "trusted": true
      },
      "outputs": [],
      "execution_count": null
    }
  ]
}